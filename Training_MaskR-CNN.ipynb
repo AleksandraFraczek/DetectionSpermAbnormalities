{
  "nbformat": 4,
  "nbformat_minor": 0,
  "metadata": {
    "accelerator": "GPU",
    "colab": {
      "name": "Projekt_badawczy_detectron_training",
      "provenance": [],
      "collapsed_sections": []
    },
    "kernelspec": {
      "display_name": "Python 3",
      "name": "python3"
    }
  },
  "cells": [
    {
      "cell_type": "code",
      "metadata": {
        "colab": {
          "base_uri": "https://localhost:8080/",
          "height": 1000
        },
        "id": "GdvJzeCKW0to",
        "outputId": "b796ba66-e43c-4555-de3f-93b88219ee24"
      },
      "source": [
        "# install dependencies: \n",
        "!pip install pyyaml==5.1\n",
        "import torch, torchvision\n",
        "import cv2\n",
        "print(torch.__version__, torch.cuda.is_available())\n",
        "# !gcc --version\n",
        "# opencv is pre-installed on colab\n",
        "\n",
        "# install detectron2: (Colab has CUDA 10.1 + torch 1.8)\n",
        "# See https://detectron2.readthedocs.io/tutorials/install.html for instructions\n",
        "import torch\n",
        "# assert torch.__version__.startswith(\"1.8\")   # need to manually install torch 1.8 if Colab changes its default version\n",
        "!pip install detectron2 -f https://dl.fbaipublicfiles.com/detectron2/wheels/cu101/torch1.8/index.html\n",
        "exit(0)  # After installation, you need to \"restart runtime\" in Colab. This line can also restart runtime\n",
        "# Or, to install it from a local clone:\n",
        "!git clone https://github.com/facebookresearch/detectron2.git\n",
        "!python -m pip install -e detectron2\n",
        "\n",
        "# Some basic setup:\n",
        "# Setup detectron2 logger\n"
      ],
      "execution_count": null,
      "outputs": [
        {
          "output_type": "stream",
          "name": "stdout",
          "text": [
            "Collecting pyyaml==5.1\n",
            "  Downloading PyYAML-5.1.tar.gz (274 kB)\n",
            "\u001b[?25l\r\u001b[K     |█▏                              | 10 kB 21.9 MB/s eta 0:00:01\r\u001b[K     |██▍                             | 20 kB 22.8 MB/s eta 0:00:01\r\u001b[K     |███▋                            | 30 kB 11.3 MB/s eta 0:00:01\r\u001b[K     |████▉                           | 40 kB 9.2 MB/s eta 0:00:01\r\u001b[K     |██████                          | 51 kB 5.2 MB/s eta 0:00:01\r\u001b[K     |███████▏                        | 61 kB 5.5 MB/s eta 0:00:01\r\u001b[K     |████████▍                       | 71 kB 6.0 MB/s eta 0:00:01\r\u001b[K     |█████████▋                      | 81 kB 6.7 MB/s eta 0:00:01\r\u001b[K     |██████████▊                     | 92 kB 6.5 MB/s eta 0:00:01\r\u001b[K     |████████████                    | 102 kB 5.4 MB/s eta 0:00:01\r\u001b[K     |█████████████▏                  | 112 kB 5.4 MB/s eta 0:00:01\r\u001b[K     |██████████████▍                 | 122 kB 5.4 MB/s eta 0:00:01\r\u001b[K     |███████████████▌                | 133 kB 5.4 MB/s eta 0:00:01\r\u001b[K     |████████████████▊               | 143 kB 5.4 MB/s eta 0:00:01\r\u001b[K     |██████████████████              | 153 kB 5.4 MB/s eta 0:00:01\r\u001b[K     |███████████████████▏            | 163 kB 5.4 MB/s eta 0:00:01\r\u001b[K     |████████████████████▎           | 174 kB 5.4 MB/s eta 0:00:01\r\u001b[K     |█████████████████████▌          | 184 kB 5.4 MB/s eta 0:00:01\r\u001b[K     |██████████████████████▊         | 194 kB 5.4 MB/s eta 0:00:01\r\u001b[K     |████████████████████████        | 204 kB 5.4 MB/s eta 0:00:01\r\u001b[K     |█████████████████████████       | 215 kB 5.4 MB/s eta 0:00:01\r\u001b[K     |██████████████████████████▎     | 225 kB 5.4 MB/s eta 0:00:01\r\u001b[K     |███████████████████████████▌    | 235 kB 5.4 MB/s eta 0:00:01\r\u001b[K     |████████████████████████████▊   | 245 kB 5.4 MB/s eta 0:00:01\r\u001b[K     |█████████████████████████████▉  | 256 kB 5.4 MB/s eta 0:00:01\r\u001b[K     |███████████████████████████████ | 266 kB 5.4 MB/s eta 0:00:01\r\u001b[K     |████████████████████████████████| 274 kB 5.4 MB/s \n",
            "\u001b[?25hBuilding wheels for collected packages: pyyaml\n",
            "  Building wheel for pyyaml (setup.py) ... \u001b[?25l\u001b[?25hdone\n",
            "  Created wheel for pyyaml: filename=PyYAML-5.1-cp37-cp37m-linux_x86_64.whl size=44092 sha256=0a7ec9489c1b5643282a9f6d2b9c6aa0d6c2a946acc90b3f57731633a3be564f\n",
            "  Stored in directory: /root/.cache/pip/wheels/77/f5/10/d00a2bd30928b972790053b5de0c703ca87324f3fead0f2fd9\n",
            "Successfully built pyyaml\n",
            "Installing collected packages: pyyaml\n",
            "  Attempting uninstall: pyyaml\n",
            "    Found existing installation: PyYAML 3.13\n",
            "    Uninstalling PyYAML-3.13:\n",
            "      Successfully uninstalled PyYAML-3.13\n",
            "Successfully installed pyyaml-5.1\n",
            "1.10.0+cu111 True\n",
            "Looking in links: https://dl.fbaipublicfiles.com/detectron2/wheels/cu101/torch1.8/index.html\n",
            "Collecting detectron2\n",
            "  Downloading https://dl.fbaipublicfiles.com/detectron2/wheels/cu101/torch1.8/detectron2-0.6%2Bcu101-cp37-cp37m-linux_x86_64.whl (6.3 MB)\n",
            "\u001b[K     |████████████████████████████████| 6.3 MB 794 kB/s \n",
            "\u001b[?25hRequirement already satisfied: Pillow>=7.1 in /usr/local/lib/python3.7/dist-packages (from detectron2) (7.1.2)\n",
            "Requirement already satisfied: pydot in /usr/local/lib/python3.7/dist-packages (from detectron2) (1.3.0)\n",
            "Requirement already satisfied: matplotlib in /usr/local/lib/python3.7/dist-packages (from detectron2) (3.2.2)\n",
            "Collecting omegaconf>=2.1\n",
            "  Downloading omegaconf-2.1.1-py3-none-any.whl (74 kB)\n",
            "\u001b[K     |████████████████████████████████| 74 kB 2.1 MB/s \n",
            "\u001b[?25hCollecting fvcore<0.1.6,>=0.1.5\n",
            "  Downloading fvcore-0.1.5.post20211023.tar.gz (49 kB)\n",
            "\u001b[K     |████████████████████████████████| 49 kB 5.6 MB/s \n",
            "\u001b[?25hRequirement already satisfied: termcolor>=1.1 in /usr/local/lib/python3.7/dist-packages (from detectron2) (1.1.0)\n",
            "Requirement already satisfied: tensorboard in /usr/local/lib/python3.7/dist-packages (from detectron2) (2.7.0)\n",
            "Collecting yacs>=0.1.8\n",
            "  Downloading yacs-0.1.8-py3-none-any.whl (14 kB)\n",
            "Collecting hydra-core>=1.1\n",
            "  Downloading hydra_core-1.1.1-py3-none-any.whl (145 kB)\n",
            "\u001b[K     |████████████████████████████████| 145 kB 11.1 MB/s \n",
            "\u001b[?25hCollecting black==21.4b2\n",
            "  Downloading black-21.4b2-py3-none-any.whl (130 kB)\n",
            "\u001b[K     |████████████████████████████████| 130 kB 47.8 MB/s \n",
            "\u001b[?25hCollecting iopath<0.1.10,>=0.1.7\n",
            "  Downloading iopath-0.1.9-py3-none-any.whl (27 kB)\n",
            "Requirement already satisfied: future in /usr/local/lib/python3.7/dist-packages (from detectron2) (0.16.0)\n",
            "Requirement already satisfied: tqdm>4.29.0 in /usr/local/lib/python3.7/dist-packages (from detectron2) (4.62.3)\n",
            "Requirement already satisfied: pycocotools>=2.0.2 in /usr/local/lib/python3.7/dist-packages (from detectron2) (2.0.2)\n",
            "Requirement already satisfied: tabulate in /usr/local/lib/python3.7/dist-packages (from detectron2) (0.8.9)\n",
            "Requirement already satisfied: cloudpickle in /usr/local/lib/python3.7/dist-packages (from detectron2) (1.3.0)\n",
            "Requirement already satisfied: appdirs in /usr/local/lib/python3.7/dist-packages (from black==21.4b2->detectron2) (1.4.4)\n",
            "Collecting pathspec<1,>=0.8.1\n",
            "  Downloading pathspec-0.9.0-py2.py3-none-any.whl (31 kB)\n",
            "Collecting typed-ast>=1.4.2\n",
            "  Downloading typed_ast-1.5.0-cp37-cp37m-manylinux_2_5_x86_64.manylinux1_x86_64.manylinux_2_12_x86_64.manylinux2010_x86_64.whl (843 kB)\n",
            "\u001b[K     |████████████████████████████████| 843 kB 39.3 MB/s \n",
            "\u001b[?25hRequirement already satisfied: click>=7.1.2 in /usr/local/lib/python3.7/dist-packages (from black==21.4b2->detectron2) (7.1.2)\n",
            "Collecting regex>=2020.1.8\n",
            "  Downloading regex-2021.11.10-cp37-cp37m-manylinux_2_17_x86_64.manylinux2014_x86_64.whl (749 kB)\n",
            "\u001b[K     |████████████████████████████████| 749 kB 40.2 MB/s \n",
            "\u001b[?25hCollecting mypy-extensions>=0.4.3\n",
            "  Downloading mypy_extensions-0.4.3-py2.py3-none-any.whl (4.5 kB)\n",
            "Requirement already satisfied: typing-extensions>=3.7.4 in /usr/local/lib/python3.7/dist-packages (from black==21.4b2->detectron2) (3.10.0.2)\n",
            "Requirement already satisfied: toml>=0.10.1 in /usr/local/lib/python3.7/dist-packages (from black==21.4b2->detectron2) (0.10.2)\n",
            "Requirement already satisfied: numpy in /usr/local/lib/python3.7/dist-packages (from fvcore<0.1.6,>=0.1.5->detectron2) (1.19.5)\n",
            "Requirement already satisfied: pyyaml>=5.1 in /usr/local/lib/python3.7/dist-packages (from fvcore<0.1.6,>=0.1.5->detectron2) (5.1)\n",
            "Collecting antlr4-python3-runtime==4.8\n",
            "  Downloading antlr4-python3-runtime-4.8.tar.gz (112 kB)\n",
            "\u001b[K     |████████████████████████████████| 112 kB 47.4 MB/s \n",
            "\u001b[?25hRequirement already satisfied: importlib-resources in /usr/local/lib/python3.7/dist-packages (from hydra-core>=1.1->detectron2) (5.4.0)\n",
            "Collecting portalocker\n",
            "  Downloading portalocker-2.3.2-py2.py3-none-any.whl (15 kB)\n",
            "Requirement already satisfied: cython>=0.27.3 in /usr/local/lib/python3.7/dist-packages (from pycocotools>=2.0.2->detectron2) (0.29.24)\n",
            "Requirement already satisfied: setuptools>=18.0 in /usr/local/lib/python3.7/dist-packages (from pycocotools>=2.0.2->detectron2) (57.4.0)\n",
            "Requirement already satisfied: kiwisolver>=1.0.1 in /usr/local/lib/python3.7/dist-packages (from matplotlib->detectron2) (1.3.2)\n",
            "Requirement already satisfied: cycler>=0.10 in /usr/local/lib/python3.7/dist-packages (from matplotlib->detectron2) (0.11.0)\n",
            "Requirement already satisfied: python-dateutil>=2.1 in /usr/local/lib/python3.7/dist-packages (from matplotlib->detectron2) (2.8.2)\n",
            "Requirement already satisfied: pyparsing!=2.0.4,!=2.1.2,!=2.1.6,>=2.0.1 in /usr/local/lib/python3.7/dist-packages (from matplotlib->detectron2) (3.0.6)\n",
            "Requirement already satisfied: six>=1.5 in /usr/local/lib/python3.7/dist-packages (from python-dateutil>=2.1->matplotlib->detectron2) (1.15.0)\n",
            "Requirement already satisfied: zipp>=3.1.0 in /usr/local/lib/python3.7/dist-packages (from importlib-resources->hydra-core>=1.1->detectron2) (3.6.0)\n",
            "Requirement already satisfied: google-auth-oauthlib<0.5,>=0.4.1 in /usr/local/lib/python3.7/dist-packages (from tensorboard->detectron2) (0.4.6)\n",
            "Requirement already satisfied: google-auth<3,>=1.6.3 in /usr/local/lib/python3.7/dist-packages (from tensorboard->detectron2) (1.35.0)\n",
            "Requirement already satisfied: wheel>=0.26 in /usr/local/lib/python3.7/dist-packages (from tensorboard->detectron2) (0.37.0)\n",
            "Requirement already satisfied: requests<3,>=2.21.0 in /usr/local/lib/python3.7/dist-packages (from tensorboard->detectron2) (2.23.0)\n",
            "Requirement already satisfied: protobuf>=3.6.0 in /usr/local/lib/python3.7/dist-packages (from tensorboard->detectron2) (3.17.3)\n",
            "Requirement already satisfied: tensorboard-plugin-wit>=1.6.0 in /usr/local/lib/python3.7/dist-packages (from tensorboard->detectron2) (1.8.0)\n",
            "Requirement already satisfied: absl-py>=0.4 in /usr/local/lib/python3.7/dist-packages (from tensorboard->detectron2) (0.12.0)\n",
            "Requirement already satisfied: tensorboard-data-server<0.7.0,>=0.6.0 in /usr/local/lib/python3.7/dist-packages (from tensorboard->detectron2) (0.6.1)\n",
            "Requirement already satisfied: markdown>=2.6.8 in /usr/local/lib/python3.7/dist-packages (from tensorboard->detectron2) (3.3.6)\n",
            "Requirement already satisfied: werkzeug>=0.11.15 in /usr/local/lib/python3.7/dist-packages (from tensorboard->detectron2) (1.0.1)\n",
            "Requirement already satisfied: grpcio>=1.24.3 in /usr/local/lib/python3.7/dist-packages (from tensorboard->detectron2) (1.42.0)\n",
            "Requirement already satisfied: rsa<5,>=3.1.4 in /usr/local/lib/python3.7/dist-packages (from google-auth<3,>=1.6.3->tensorboard->detectron2) (4.7.2)\n",
            "Requirement already satisfied: pyasn1-modules>=0.2.1 in /usr/local/lib/python3.7/dist-packages (from google-auth<3,>=1.6.3->tensorboard->detectron2) (0.2.8)\n",
            "Requirement already satisfied: cachetools<5.0,>=2.0.0 in /usr/local/lib/python3.7/dist-packages (from google-auth<3,>=1.6.3->tensorboard->detectron2) (4.2.4)\n",
            "Requirement already satisfied: requests-oauthlib>=0.7.0 in /usr/local/lib/python3.7/dist-packages (from google-auth-oauthlib<0.5,>=0.4.1->tensorboard->detectron2) (1.3.0)\n",
            "Requirement already satisfied: importlib-metadata>=4.4 in /usr/local/lib/python3.7/dist-packages (from markdown>=2.6.8->tensorboard->detectron2) (4.8.2)\n",
            "Requirement already satisfied: pyasn1<0.5.0,>=0.4.6 in /usr/local/lib/python3.7/dist-packages (from pyasn1-modules>=0.2.1->google-auth<3,>=1.6.3->tensorboard->detectron2) (0.4.8)\n",
            "Requirement already satisfied: certifi>=2017.4.17 in /usr/local/lib/python3.7/dist-packages (from requests<3,>=2.21.0->tensorboard->detectron2) (2021.10.8)\n",
            "Requirement already satisfied: chardet<4,>=3.0.2 in /usr/local/lib/python3.7/dist-packages (from requests<3,>=2.21.0->tensorboard->detectron2) (3.0.4)\n",
            "Requirement already satisfied: idna<3,>=2.5 in /usr/local/lib/python3.7/dist-packages (from requests<3,>=2.21.0->tensorboard->detectron2) (2.10)\n",
            "Requirement already satisfied: urllib3!=1.25.0,!=1.25.1,<1.26,>=1.21.1 in /usr/local/lib/python3.7/dist-packages (from requests<3,>=2.21.0->tensorboard->detectron2) (1.24.3)\n",
            "Requirement already satisfied: oauthlib>=3.0.0 in /usr/local/lib/python3.7/dist-packages (from requests-oauthlib>=0.7.0->google-auth-oauthlib<0.5,>=0.4.1->tensorboard->detectron2) (3.1.1)\n",
            "Building wheels for collected packages: fvcore, antlr4-python3-runtime\n",
            "  Building wheel for fvcore (setup.py) ... \u001b[?25l\u001b[?25hdone\n",
            "  Created wheel for fvcore: filename=fvcore-0.1.5.post20211023-py3-none-any.whl size=60947 sha256=922abdee1287730df780ac808d5b5ecf7a5ddb0689d3ff1b49f35a5c81a66a48\n",
            "  Stored in directory: /root/.cache/pip/wheels/16/98/fc/252d62cab6263c719120e06b28f3378af59b52ce7a20e81852\n",
            "  Building wheel for antlr4-python3-runtime (setup.py) ... \u001b[?25l\u001b[?25hdone\n",
            "  Created wheel for antlr4-python3-runtime: filename=antlr4_python3_runtime-4.8-py3-none-any.whl size=141230 sha256=59b0ac88390ddbbbcc199040b7b76661c1276aee54ee421f2fdb665e0b42eacc\n",
            "  Stored in directory: /root/.cache/pip/wheels/ca/33/b7/336836125fc9bb4ceaa4376d8abca10ca8bc84ddc824baea6c\n",
            "Successfully built fvcore antlr4-python3-runtime\n",
            "Installing collected packages: portalocker, antlr4-python3-runtime, yacs, typed-ast, regex, pathspec, omegaconf, mypy-extensions, iopath, hydra-core, fvcore, black, detectron2\n",
            "  Attempting uninstall: regex\n",
            "    Found existing installation: regex 2019.12.20\n",
            "    Uninstalling regex-2019.12.20:\n",
            "      Successfully uninstalled regex-2019.12.20\n",
            "Successfully installed antlr4-python3-runtime-4.8 black-21.4b2 detectron2-0.6+cu101 fvcore-0.1.5.post20211023 hydra-core-1.1.1 iopath-0.1.9 mypy-extensions-0.4.3 omegaconf-2.1.1 pathspec-0.9.0 portalocker-2.3.2 regex-2021.11.10 typed-ast-1.5.0 yacs-0.1.8\n"
          ]
        },
        {
          "output_type": "display_data",
          "data": {
            "application/vnd.colab-display-data+json": {
              "pip_warning": {
                "packages": [
                  "pydevd_plugins"
                ]
              }
            }
          },
          "metadata": {}
        },
        {
          "output_type": "stream",
          "name": "stdout",
          "text": [
            "Cloning into 'detectron2'...\n",
            "remote: Enumerating objects: 13638, done.\u001b[K\n",
            "remote: Counting objects: 100% (1139/1139), done.\u001b[K\n",
            "remote: Compressing objects: 100% (610/610), done.\u001b[K\n",
            "remote: Total 13638 (delta 715), reused 865 (delta 520), pack-reused 12499\u001b[K\n",
            "Receiving objects: 100% (13638/13638), 5.83 MiB | 17.77 MiB/s, done.\n",
            "Resolving deltas: 100% (9663/9663), done.\n",
            "Obtaining file:///content/detectron2\n",
            "Requirement already satisfied: Pillow>=7.1 in /usr/local/lib/python3.7/dist-packages (from detectron2==0.6) (7.1.2)\n",
            "Requirement already satisfied: matplotlib in /usr/local/lib/python3.7/dist-packages (from detectron2==0.6) (3.2.2)\n",
            "Requirement already satisfied: pycocotools>=2.0.2 in /usr/local/lib/python3.7/dist-packages (from detectron2==0.6) (2.0.2)\n",
            "Requirement already satisfied: termcolor>=1.1 in /usr/local/lib/python3.7/dist-packages (from detectron2==0.6) (1.1.0)\n",
            "Requirement already satisfied: yacs>=0.1.8 in /usr/local/lib/python3.7/dist-packages (from detectron2==0.6) (0.1.8)\n",
            "Requirement already satisfied: tabulate in /usr/local/lib/python3.7/dist-packages (from detectron2==0.6) (0.8.9)\n",
            "Requirement already satisfied: cloudpickle in /usr/local/lib/python3.7/dist-packages (from detectron2==0.6) (1.3.0)\n",
            "Requirement already satisfied: tqdm>4.29.0 in /usr/local/lib/python3.7/dist-packages (from detectron2==0.6) (4.62.3)\n",
            "Requirement already satisfied: tensorboard in /usr/local/lib/python3.7/dist-packages (from detectron2==0.6) (2.7.0)\n",
            "Requirement already satisfied: fvcore<0.1.6,>=0.1.5 in /usr/local/lib/python3.7/dist-packages (from detectron2==0.6) (0.1.5.post20211023)\n",
            "Requirement already satisfied: iopath<0.1.10,>=0.1.7 in /usr/local/lib/python3.7/dist-packages (from detectron2==0.6) (0.1.9)\n",
            "Requirement already satisfied: future in /usr/local/lib/python3.7/dist-packages (from detectron2==0.6) (0.16.0)\n",
            "Requirement already satisfied: pydot in /usr/local/lib/python3.7/dist-packages (from detectron2==0.6) (1.3.0)\n",
            "Requirement already satisfied: omegaconf>=2.1 in /usr/local/lib/python3.7/dist-packages (from detectron2==0.6) (2.1.1)\n",
            "Requirement already satisfied: hydra-core>=1.1 in /usr/local/lib/python3.7/dist-packages (from detectron2==0.6) (1.1.1)\n",
            "Requirement already satisfied: black==21.4b2 in /usr/local/lib/python3.7/dist-packages (from detectron2==0.6) (21.4b2)\n",
            "Requirement already satisfied: click>=7.1.2 in /usr/local/lib/python3.7/dist-packages (from black==21.4b2->detectron2==0.6) (7.1.2)\n",
            "Requirement already satisfied: appdirs in /usr/local/lib/python3.7/dist-packages (from black==21.4b2->detectron2==0.6) (1.4.4)\n",
            "Requirement already satisfied: typing-extensions>=3.7.4 in /usr/local/lib/python3.7/dist-packages (from black==21.4b2->detectron2==0.6) (3.10.0.2)\n",
            "Requirement already satisfied: typed-ast>=1.4.2 in /usr/local/lib/python3.7/dist-packages (from black==21.4b2->detectron2==0.6) (1.5.0)\n",
            "Requirement already satisfied: mypy-extensions>=0.4.3 in /usr/local/lib/python3.7/dist-packages (from black==21.4b2->detectron2==0.6) (0.4.3)\n",
            "Requirement already satisfied: pathspec<1,>=0.8.1 in /usr/local/lib/python3.7/dist-packages (from black==21.4b2->detectron2==0.6) (0.9.0)\n",
            "Requirement already satisfied: toml>=0.10.1 in /usr/local/lib/python3.7/dist-packages (from black==21.4b2->detectron2==0.6) (0.10.2)\n",
            "Requirement already satisfied: regex>=2020.1.8 in /usr/local/lib/python3.7/dist-packages (from black==21.4b2->detectron2==0.6) (2021.11.10)\n",
            "Requirement already satisfied: pyyaml>=5.1 in /usr/local/lib/python3.7/dist-packages (from fvcore<0.1.6,>=0.1.5->detectron2==0.6) (5.1)\n",
            "Requirement already satisfied: numpy in /usr/local/lib/python3.7/dist-packages (from fvcore<0.1.6,>=0.1.5->detectron2==0.6) (1.19.5)\n",
            "Requirement already satisfied: importlib-resources in /usr/local/lib/python3.7/dist-packages (from hydra-core>=1.1->detectron2==0.6) (5.4.0)\n",
            "Requirement already satisfied: antlr4-python3-runtime==4.8 in /usr/local/lib/python3.7/dist-packages (from hydra-core>=1.1->detectron2==0.6) (4.8)\n",
            "Requirement already satisfied: portalocker in /usr/local/lib/python3.7/dist-packages (from iopath<0.1.10,>=0.1.7->detectron2==0.6) (2.3.2)\n",
            "Requirement already satisfied: setuptools>=18.0 in /usr/local/lib/python3.7/dist-packages (from pycocotools>=2.0.2->detectron2==0.6) (57.4.0)\n",
            "Requirement already satisfied: cython>=0.27.3 in /usr/local/lib/python3.7/dist-packages (from pycocotools>=2.0.2->detectron2==0.6) (0.29.24)\n",
            "Requirement already satisfied: cycler>=0.10 in /usr/local/lib/python3.7/dist-packages (from matplotlib->detectron2==0.6) (0.11.0)\n",
            "Requirement already satisfied: python-dateutil>=2.1 in /usr/local/lib/python3.7/dist-packages (from matplotlib->detectron2==0.6) (2.8.2)\n",
            "Requirement already satisfied: pyparsing!=2.0.4,!=2.1.2,!=2.1.6,>=2.0.1 in /usr/local/lib/python3.7/dist-packages (from matplotlib->detectron2==0.6) (3.0.6)\n",
            "Requirement already satisfied: kiwisolver>=1.0.1 in /usr/local/lib/python3.7/dist-packages (from matplotlib->detectron2==0.6) (1.3.2)\n",
            "Requirement already satisfied: six>=1.5 in /usr/local/lib/python3.7/dist-packages (from python-dateutil>=2.1->matplotlib->detectron2==0.6) (1.15.0)\n",
            "Requirement already satisfied: zipp>=3.1.0 in /usr/local/lib/python3.7/dist-packages (from importlib-resources->hydra-core>=1.1->detectron2==0.6) (3.6.0)\n",
            "Requirement already satisfied: google-auth<3,>=1.6.3 in /usr/local/lib/python3.7/dist-packages (from tensorboard->detectron2==0.6) (1.35.0)\n",
            "Requirement already satisfied: requests<3,>=2.21.0 in /usr/local/lib/python3.7/dist-packages (from tensorboard->detectron2==0.6) (2.23.0)\n",
            "Requirement already satisfied: tensorboard-data-server<0.7.0,>=0.6.0 in /usr/local/lib/python3.7/dist-packages (from tensorboard->detectron2==0.6) (0.6.1)\n",
            "Requirement already satisfied: tensorboard-plugin-wit>=1.6.0 in /usr/local/lib/python3.7/dist-packages (from tensorboard->detectron2==0.6) (1.8.0)\n",
            "Requirement already satisfied: wheel>=0.26 in /usr/local/lib/python3.7/dist-packages (from tensorboard->detectron2==0.6) (0.37.0)\n",
            "Requirement already satisfied: google-auth-oauthlib<0.5,>=0.4.1 in /usr/local/lib/python3.7/dist-packages (from tensorboard->detectron2==0.6) (0.4.6)\n",
            "Requirement already satisfied: absl-py>=0.4 in /usr/local/lib/python3.7/dist-packages (from tensorboard->detectron2==0.6) (0.12.0)\n",
            "Requirement already satisfied: grpcio>=1.24.3 in /usr/local/lib/python3.7/dist-packages (from tensorboard->detectron2==0.6) (1.42.0)\n",
            "Requirement already satisfied: werkzeug>=0.11.15 in /usr/local/lib/python3.7/dist-packages (from tensorboard->detectron2==0.6) (1.0.1)\n",
            "Requirement already satisfied: markdown>=2.6.8 in /usr/local/lib/python3.7/dist-packages (from tensorboard->detectron2==0.6) (3.3.6)\n",
            "Requirement already satisfied: protobuf>=3.6.0 in /usr/local/lib/python3.7/dist-packages (from tensorboard->detectron2==0.6) (3.17.3)\n",
            "Requirement already satisfied: cachetools<5.0,>=2.0.0 in /usr/local/lib/python3.7/dist-packages (from google-auth<3,>=1.6.3->tensorboard->detectron2==0.6) (4.2.4)\n",
            "Requirement already satisfied: pyasn1-modules>=0.2.1 in /usr/local/lib/python3.7/dist-packages (from google-auth<3,>=1.6.3->tensorboard->detectron2==0.6) (0.2.8)\n",
            "Requirement already satisfied: rsa<5,>=3.1.4 in /usr/local/lib/python3.7/dist-packages (from google-auth<3,>=1.6.3->tensorboard->detectron2==0.6) (4.7.2)\n",
            "Requirement already satisfied: requests-oauthlib>=0.7.0 in /usr/local/lib/python3.7/dist-packages (from google-auth-oauthlib<0.5,>=0.4.1->tensorboard->detectron2==0.6) (1.3.0)\n",
            "Requirement already satisfied: importlib-metadata>=4.4 in /usr/local/lib/python3.7/dist-packages (from markdown>=2.6.8->tensorboard->detectron2==0.6) (4.8.2)\n",
            "Requirement already satisfied: pyasn1<0.5.0,>=0.4.6 in /usr/local/lib/python3.7/dist-packages (from pyasn1-modules>=0.2.1->google-auth<3,>=1.6.3->tensorboard->detectron2==0.6) (0.4.8)\n",
            "Requirement already satisfied: chardet<4,>=3.0.2 in /usr/local/lib/python3.7/dist-packages (from requests<3,>=2.21.0->tensorboard->detectron2==0.6) (3.0.4)\n",
            "Requirement already satisfied: idna<3,>=2.5 in /usr/local/lib/python3.7/dist-packages (from requests<3,>=2.21.0->tensorboard->detectron2==0.6) (2.10)\n",
            "Requirement already satisfied: urllib3!=1.25.0,!=1.25.1,<1.26,>=1.21.1 in /usr/local/lib/python3.7/dist-packages (from requests<3,>=2.21.0->tensorboard->detectron2==0.6) (1.24.3)\n",
            "Requirement already satisfied: certifi>=2017.4.17 in /usr/local/lib/python3.7/dist-packages (from requests<3,>=2.21.0->tensorboard->detectron2==0.6) (2021.10.8)\n",
            "Requirement already satisfied: oauthlib>=3.0.0 in /usr/local/lib/python3.7/dist-packages (from requests-oauthlib>=0.7.0->google-auth-oauthlib<0.5,>=0.4.1->tensorboard->detectron2==0.6) (3.1.1)\n",
            "Installing collected packages: detectron2\n",
            "  Attempting uninstall: detectron2\n",
            "    Found existing installation: detectron2 0.6+cu101\n",
            "    Uninstalling detectron2-0.6+cu101:\n",
            "      Successfully uninstalled detectron2-0.6+cu101\n",
            "  Running setup.py develop for detectron2\n",
            "Successfully installed detectron2-0.6\n"
          ]
        }
      ]
    },
    {
      "cell_type": "code",
      "metadata": {
        "id": "NMBq2jOlWNOh"
      },
      "source": [
        "# import some common libraries\n",
        "import detectron2\n",
        "from detectron2.utils.logger import setup_logger\n",
        "setup_logger()\n",
        "import numpy as np\n",
        "import os, json, cv2, random\n",
        "from google.colab.patches import cv2_imshow\n",
        "\n",
        "# import some common detectron2 utilities\n",
        "from detectron2 import model_zoo\n",
        "from detectron2.engine import DefaultPredictor\n",
        "from detectron2.config import get_cfg\n",
        "from detectron2.utils.visualizer import Visualizer\n",
        "from detectron2.data import MetadataCatalog, DatasetCatalog\n",
        "from detectron2.evaluation import COCOEvaluator, inference_on_dataset\n",
        "from detectron2.data import build_detection_test_loader\n"
      ],
      "execution_count": null,
      "outputs": []
    },
    {
      "cell_type": "code",
      "metadata": {
        "id": "dq9GY37ml1kr"
      },
      "source": [
        "!unzip hushem100_mhsma100.zip > /dev/null\n"
      ],
      "execution_count": null,
      "outputs": []
    },
    {
      "cell_type": "code",
      "metadata": {
        "id": "r9NxPx-Y0e-y"
      },
      "source": [
        "from google.colab.patches import cv2_imshow \n",
        "# im = cv2.imread(\"/content//amorphous_0.png\")\n",
        "# cv2_imshow(im)"
      ],
      "execution_count": null,
      "outputs": []
    },
    {
      "cell_type": "code",
      "metadata": {
        "colab": {
          "base_uri": "https://localhost:8080/"
        },
        "id": "zrmC9lIDD2__",
        "outputId": "ac680640-301c-43d5-d5ee-b4b8c8006dc1"
      },
      "source": [
        "from detectron2.data.datasets import register_coco_instances\n",
        "register_coco_instances(\"hushem100_mhsma100\", {}, \"hushem100_mhsma100.json\", 'hushem100_mhsma100')\n",
        "\n",
        "mhsma_metadata = MetadataCatalog.get(\"hushem100_mhsma100\")\n",
        "dataset_dicts = DatasetCatalog.get(\"hushem100_mhsma100\")"
      ],
      "execution_count": null,
      "outputs": [
        {
          "output_type": "stream",
          "name": "stdout",
          "text": [
            "\u001b[32m[11/27 15:49:49 d2.data.datasets.coco]: \u001b[0mLoaded 200 images in COCO format from hushem100_mhsma100.json\n"
          ]
        }
      ]
    },
    {
      "cell_type": "code",
      "metadata": {
        "id": "qmoFAsRqymCb",
        "colab": {
          "base_uri": "https://localhost:8080/"
        },
        "outputId": "2f2aa9db-aea1-4381-cfb1-e7482cefec73"
      },
      "source": [
        "from detectron2.engine import DefaultTrainer\n",
        "\n",
        "cfg = get_cfg()\n",
        "cfg.merge_from_file(model_zoo.get_config_file(\"COCO-InstanceSegmentation/mask_rcnn_R_50_FPN_3x.yaml\"))\n",
        "cfg.DATASETS.TRAIN = (\"hushem100_mhsma100\")\n",
        "cfg.DATASETS.TEST = ()\n",
        "cfg.DATALOADER.NUM_WORKERS = 2\n",
        "cfg.MODEL.WEIGHTS = model_zoo.get_checkpoint_url(\"COCO-InstanceSegmentation/mask_rcnn_R_50_FPN_3x.yaml\")\n",
        "cfg.SOLVER.IMS_PER_BATCH = 4\n",
        "cfg.SOLVER.BASE_LR = 0.00025 \n",
        "cfg.SOLVER.MAX_ITER = 6000 \n",
        "cfg.SOLVER.STEPS = []      \n",
        "cfg.MODEL.ROI_HEADS.BATCH_SIZE_PER_IMAGE = 128\n",
        "cfg.MODEL.ROI_HEADS.NUM_CLASSES = 2  \n",
        "\n",
        "os.makedirs(cfg.OUTPUT_DIR, exist_ok=True)\n",
        "trainer = DefaultTrainer(cfg) \n",
        "trainer.resume_or_load(resume=False)\n",
        "trainer.train()\n",
        "\n",
        "cfg.MODEL.WEIGHTS = os.path.join(cfg.OUTPUT_DIR, \"model_final.pth\")\n",
        "cfg.MODEL.ROI_HEADS.SCORE_THRESH_TEST = 0.5   # set the testing threshold for this model\n",
        "cfg.DATASETS.TEST = (\"hushem100_mhsma100\", )\n",
        "predictor = DefaultPredictor(cfg)\n"
      ],
      "execution_count": null,
      "outputs": [
        {
          "output_type": "stream",
          "name": "stdout",
          "text": [
            "\u001b[32m[11/27 15:50:04 d2.engine.defaults]: \u001b[0mModel:\n",
            "GeneralizedRCNN(\n",
            "  (backbone): FPN(\n",
            "    (fpn_lateral2): Conv2d(256, 256, kernel_size=(1, 1), stride=(1, 1))\n",
            "    (fpn_output2): Conv2d(256, 256, kernel_size=(3, 3), stride=(1, 1), padding=(1, 1))\n",
            "    (fpn_lateral3): Conv2d(512, 256, kernel_size=(1, 1), stride=(1, 1))\n",
            "    (fpn_output3): Conv2d(256, 256, kernel_size=(3, 3), stride=(1, 1), padding=(1, 1))\n",
            "    (fpn_lateral4): Conv2d(1024, 256, kernel_size=(1, 1), stride=(1, 1))\n",
            "    (fpn_output4): Conv2d(256, 256, kernel_size=(3, 3), stride=(1, 1), padding=(1, 1))\n",
            "    (fpn_lateral5): Conv2d(2048, 256, kernel_size=(1, 1), stride=(1, 1))\n",
            "    (fpn_output5): Conv2d(256, 256, kernel_size=(3, 3), stride=(1, 1), padding=(1, 1))\n",
            "    (top_block): LastLevelMaxPool()\n",
            "    (bottom_up): ResNet(\n",
            "      (stem): BasicStem(\n",
            "        (conv1): Conv2d(\n",
            "          3, 64, kernel_size=(7, 7), stride=(2, 2), padding=(3, 3), bias=False\n",
            "          (norm): FrozenBatchNorm2d(num_features=64, eps=1e-05)\n",
            "        )\n",
            "      )\n",
            "      (res2): Sequential(\n",
            "        (0): BottleneckBlock(\n",
            "          (shortcut): Conv2d(\n",
            "            64, 256, kernel_size=(1, 1), stride=(1, 1), bias=False\n",
            "            (norm): FrozenBatchNorm2d(num_features=256, eps=1e-05)\n",
            "          )\n",
            "          (conv1): Conv2d(\n",
            "            64, 64, kernel_size=(1, 1), stride=(1, 1), bias=False\n",
            "            (norm): FrozenBatchNorm2d(num_features=64, eps=1e-05)\n",
            "          )\n",
            "          (conv2): Conv2d(\n",
            "            64, 64, kernel_size=(3, 3), stride=(1, 1), padding=(1, 1), bias=False\n",
            "            (norm): FrozenBatchNorm2d(num_features=64, eps=1e-05)\n",
            "          )\n",
            "          (conv3): Conv2d(\n",
            "            64, 256, kernel_size=(1, 1), stride=(1, 1), bias=False\n",
            "            (norm): FrozenBatchNorm2d(num_features=256, eps=1e-05)\n",
            "          )\n",
            "        )\n",
            "        (1): BottleneckBlock(\n",
            "          (conv1): Conv2d(\n",
            "            256, 64, kernel_size=(1, 1), stride=(1, 1), bias=False\n",
            "            (norm): FrozenBatchNorm2d(num_features=64, eps=1e-05)\n",
            "          )\n",
            "          (conv2): Conv2d(\n",
            "            64, 64, kernel_size=(3, 3), stride=(1, 1), padding=(1, 1), bias=False\n",
            "            (norm): FrozenBatchNorm2d(num_features=64, eps=1e-05)\n",
            "          )\n",
            "          (conv3): Conv2d(\n",
            "            64, 256, kernel_size=(1, 1), stride=(1, 1), bias=False\n",
            "            (norm): FrozenBatchNorm2d(num_features=256, eps=1e-05)\n",
            "          )\n",
            "        )\n",
            "        (2): BottleneckBlock(\n",
            "          (conv1): Conv2d(\n",
            "            256, 64, kernel_size=(1, 1), stride=(1, 1), bias=False\n",
            "            (norm): FrozenBatchNorm2d(num_features=64, eps=1e-05)\n",
            "          )\n",
            "          (conv2): Conv2d(\n",
            "            64, 64, kernel_size=(3, 3), stride=(1, 1), padding=(1, 1), bias=False\n",
            "            (norm): FrozenBatchNorm2d(num_features=64, eps=1e-05)\n",
            "          )\n",
            "          (conv3): Conv2d(\n",
            "            64, 256, kernel_size=(1, 1), stride=(1, 1), bias=False\n",
            "            (norm): FrozenBatchNorm2d(num_features=256, eps=1e-05)\n",
            "          )\n",
            "        )\n",
            "      )\n",
            "      (res3): Sequential(\n",
            "        (0): BottleneckBlock(\n",
            "          (shortcut): Conv2d(\n",
            "            256, 512, kernel_size=(1, 1), stride=(2, 2), bias=False\n",
            "            (norm): FrozenBatchNorm2d(num_features=512, eps=1e-05)\n",
            "          )\n",
            "          (conv1): Conv2d(\n",
            "            256, 128, kernel_size=(1, 1), stride=(2, 2), bias=False\n",
            "            (norm): FrozenBatchNorm2d(num_features=128, eps=1e-05)\n",
            "          )\n",
            "          (conv2): Conv2d(\n",
            "            128, 128, kernel_size=(3, 3), stride=(1, 1), padding=(1, 1), bias=False\n",
            "            (norm): FrozenBatchNorm2d(num_features=128, eps=1e-05)\n",
            "          )\n",
            "          (conv3): Conv2d(\n",
            "            128, 512, kernel_size=(1, 1), stride=(1, 1), bias=False\n",
            "            (norm): FrozenBatchNorm2d(num_features=512, eps=1e-05)\n",
            "          )\n",
            "        )\n",
            "        (1): BottleneckBlock(\n",
            "          (conv1): Conv2d(\n",
            "            512, 128, kernel_size=(1, 1), stride=(1, 1), bias=False\n",
            "            (norm): FrozenBatchNorm2d(num_features=128, eps=1e-05)\n",
            "          )\n",
            "          (conv2): Conv2d(\n",
            "            128, 128, kernel_size=(3, 3), stride=(1, 1), padding=(1, 1), bias=False\n",
            "            (norm): FrozenBatchNorm2d(num_features=128, eps=1e-05)\n",
            "          )\n",
            "          (conv3): Conv2d(\n",
            "            128, 512, kernel_size=(1, 1), stride=(1, 1), bias=False\n",
            "            (norm): FrozenBatchNorm2d(num_features=512, eps=1e-05)\n",
            "          )\n",
            "        )\n",
            "        (2): BottleneckBlock(\n",
            "          (conv1): Conv2d(\n",
            "            512, 128, kernel_size=(1, 1), stride=(1, 1), bias=False\n",
            "            (norm): FrozenBatchNorm2d(num_features=128, eps=1e-05)\n",
            "          )\n",
            "          (conv2): Conv2d(\n",
            "            128, 128, kernel_size=(3, 3), stride=(1, 1), padding=(1, 1), bias=False\n",
            "            (norm): FrozenBatchNorm2d(num_features=128, eps=1e-05)\n",
            "          )\n",
            "          (conv3): Conv2d(\n",
            "            128, 512, kernel_size=(1, 1), stride=(1, 1), bias=False\n",
            "            (norm): FrozenBatchNorm2d(num_features=512, eps=1e-05)\n",
            "          )\n",
            "        )\n",
            "        (3): BottleneckBlock(\n",
            "          (conv1): Conv2d(\n",
            "            512, 128, kernel_size=(1, 1), stride=(1, 1), bias=False\n",
            "            (norm): FrozenBatchNorm2d(num_features=128, eps=1e-05)\n",
            "          )\n",
            "          (conv2): Conv2d(\n",
            "            128, 128, kernel_size=(3, 3), stride=(1, 1), padding=(1, 1), bias=False\n",
            "            (norm): FrozenBatchNorm2d(num_features=128, eps=1e-05)\n",
            "          )\n",
            "          (conv3): Conv2d(\n",
            "            128, 512, kernel_size=(1, 1), stride=(1, 1), bias=False\n",
            "            (norm): FrozenBatchNorm2d(num_features=512, eps=1e-05)\n",
            "          )\n",
            "        )\n",
            "      )\n",
            "      (res4): Sequential(\n",
            "        (0): BottleneckBlock(\n",
            "          (shortcut): Conv2d(\n",
            "            512, 1024, kernel_size=(1, 1), stride=(2, 2), bias=False\n",
            "            (norm): FrozenBatchNorm2d(num_features=1024, eps=1e-05)\n",
            "          )\n",
            "          (conv1): Conv2d(\n",
            "            512, 256, kernel_size=(1, 1), stride=(2, 2), bias=False\n",
            "            (norm): FrozenBatchNorm2d(num_features=256, eps=1e-05)\n",
            "          )\n",
            "          (conv2): Conv2d(\n",
            "            256, 256, kernel_size=(3, 3), stride=(1, 1), padding=(1, 1), bias=False\n",
            "            (norm): FrozenBatchNorm2d(num_features=256, eps=1e-05)\n",
            "          )\n",
            "          (conv3): Conv2d(\n",
            "            256, 1024, kernel_size=(1, 1), stride=(1, 1), bias=False\n",
            "            (norm): FrozenBatchNorm2d(num_features=1024, eps=1e-05)\n",
            "          )\n",
            "        )\n",
            "        (1): BottleneckBlock(\n",
            "          (conv1): Conv2d(\n",
            "            1024, 256, kernel_size=(1, 1), stride=(1, 1), bias=False\n",
            "            (norm): FrozenBatchNorm2d(num_features=256, eps=1e-05)\n",
            "          )\n",
            "          (conv2): Conv2d(\n",
            "            256, 256, kernel_size=(3, 3), stride=(1, 1), padding=(1, 1), bias=False\n",
            "            (norm): FrozenBatchNorm2d(num_features=256, eps=1e-05)\n",
            "          )\n",
            "          (conv3): Conv2d(\n",
            "            256, 1024, kernel_size=(1, 1), stride=(1, 1), bias=False\n",
            "            (norm): FrozenBatchNorm2d(num_features=1024, eps=1e-05)\n",
            "          )\n",
            "        )\n",
            "        (2): BottleneckBlock(\n",
            "          (conv1): Conv2d(\n",
            "            1024, 256, kernel_size=(1, 1), stride=(1, 1), bias=False\n",
            "            (norm): FrozenBatchNorm2d(num_features=256, eps=1e-05)\n",
            "          )\n",
            "          (conv2): Conv2d(\n",
            "            256, 256, kernel_size=(3, 3), stride=(1, 1), padding=(1, 1), bias=False\n",
            "            (norm): FrozenBatchNorm2d(num_features=256, eps=1e-05)\n",
            "          )\n",
            "          (conv3): Conv2d(\n",
            "            256, 1024, kernel_size=(1, 1), stride=(1, 1), bias=False\n",
            "            (norm): FrozenBatchNorm2d(num_features=1024, eps=1e-05)\n",
            "          )\n",
            "        )\n",
            "        (3): BottleneckBlock(\n",
            "          (conv1): Conv2d(\n",
            "            1024, 256, kernel_size=(1, 1), stride=(1, 1), bias=False\n",
            "            (norm): FrozenBatchNorm2d(num_features=256, eps=1e-05)\n",
            "          )\n",
            "          (conv2): Conv2d(\n",
            "            256, 256, kernel_size=(3, 3), stride=(1, 1), padding=(1, 1), bias=False\n",
            "            (norm): FrozenBatchNorm2d(num_features=256, eps=1e-05)\n",
            "          )\n",
            "          (conv3): Conv2d(\n",
            "            256, 1024, kernel_size=(1, 1), stride=(1, 1), bias=False\n",
            "            (norm): FrozenBatchNorm2d(num_features=1024, eps=1e-05)\n",
            "          )\n",
            "        )\n",
            "        (4): BottleneckBlock(\n",
            "          (conv1): Conv2d(\n",
            "            1024, 256, kernel_size=(1, 1), stride=(1, 1), bias=False\n",
            "            (norm): FrozenBatchNorm2d(num_features=256, eps=1e-05)\n",
            "          )\n",
            "          (conv2): Conv2d(\n",
            "            256, 256, kernel_size=(3, 3), stride=(1, 1), padding=(1, 1), bias=False\n",
            "            (norm): FrozenBatchNorm2d(num_features=256, eps=1e-05)\n",
            "          )\n",
            "          (conv3): Conv2d(\n",
            "            256, 1024, kernel_size=(1, 1), stride=(1, 1), bias=False\n",
            "            (norm): FrozenBatchNorm2d(num_features=1024, eps=1e-05)\n",
            "          )\n",
            "        )\n",
            "        (5): BottleneckBlock(\n",
            "          (conv1): Conv2d(\n",
            "            1024, 256, kernel_size=(1, 1), stride=(1, 1), bias=False\n",
            "            (norm): FrozenBatchNorm2d(num_features=256, eps=1e-05)\n",
            "          )\n",
            "          (conv2): Conv2d(\n",
            "            256, 256, kernel_size=(3, 3), stride=(1, 1), padding=(1, 1), bias=False\n",
            "            (norm): FrozenBatchNorm2d(num_features=256, eps=1e-05)\n",
            "          )\n",
            "          (conv3): Conv2d(\n",
            "            256, 1024, kernel_size=(1, 1), stride=(1, 1), bias=False\n",
            "            (norm): FrozenBatchNorm2d(num_features=1024, eps=1e-05)\n",
            "          )\n",
            "        )\n",
            "      )\n",
            "      (res5): Sequential(\n",
            "        (0): BottleneckBlock(\n",
            "          (shortcut): Conv2d(\n",
            "            1024, 2048, kernel_size=(1, 1), stride=(2, 2), bias=False\n",
            "            (norm): FrozenBatchNorm2d(num_features=2048, eps=1e-05)\n",
            "          )\n",
            "          (conv1): Conv2d(\n",
            "            1024, 512, kernel_size=(1, 1), stride=(2, 2), bias=False\n",
            "            (norm): FrozenBatchNorm2d(num_features=512, eps=1e-05)\n",
            "          )\n",
            "          (conv2): Conv2d(\n",
            "            512, 512, kernel_size=(3, 3), stride=(1, 1), padding=(1, 1), bias=False\n",
            "            (norm): FrozenBatchNorm2d(num_features=512, eps=1e-05)\n",
            "          )\n",
            "          (conv3): Conv2d(\n",
            "            512, 2048, kernel_size=(1, 1), stride=(1, 1), bias=False\n",
            "            (norm): FrozenBatchNorm2d(num_features=2048, eps=1e-05)\n",
            "          )\n",
            "        )\n",
            "        (1): BottleneckBlock(\n",
            "          (conv1): Conv2d(\n",
            "            2048, 512, kernel_size=(1, 1), stride=(1, 1), bias=False\n",
            "            (norm): FrozenBatchNorm2d(num_features=512, eps=1e-05)\n",
            "          )\n",
            "          (conv2): Conv2d(\n",
            "            512, 512, kernel_size=(3, 3), stride=(1, 1), padding=(1, 1), bias=False\n",
            "            (norm): FrozenBatchNorm2d(num_features=512, eps=1e-05)\n",
            "          )\n",
            "          (conv3): Conv2d(\n",
            "            512, 2048, kernel_size=(1, 1), stride=(1, 1), bias=False\n",
            "            (norm): FrozenBatchNorm2d(num_features=2048, eps=1e-05)\n",
            "          )\n",
            "        )\n",
            "        (2): BottleneckBlock(\n",
            "          (conv1): Conv2d(\n",
            "            2048, 512, kernel_size=(1, 1), stride=(1, 1), bias=False\n",
            "            (norm): FrozenBatchNorm2d(num_features=512, eps=1e-05)\n",
            "          )\n",
            "          (conv2): Conv2d(\n",
            "            512, 512, kernel_size=(3, 3), stride=(1, 1), padding=(1, 1), bias=False\n",
            "            (norm): FrozenBatchNorm2d(num_features=512, eps=1e-05)\n",
            "          )\n",
            "          (conv3): Conv2d(\n",
            "            512, 2048, kernel_size=(1, 1), stride=(1, 1), bias=False\n",
            "            (norm): FrozenBatchNorm2d(num_features=2048, eps=1e-05)\n",
            "          )\n",
            "        )\n",
            "      )\n",
            "    )\n",
            "  )\n",
            "  (proposal_generator): RPN(\n",
            "    (rpn_head): StandardRPNHead(\n",
            "      (conv): Conv2d(\n",
            "        256, 256, kernel_size=(3, 3), stride=(1, 1), padding=(1, 1)\n",
            "        (activation): ReLU()\n",
            "      )\n",
            "      (objectness_logits): Conv2d(256, 3, kernel_size=(1, 1), stride=(1, 1))\n",
            "      (anchor_deltas): Conv2d(256, 12, kernel_size=(1, 1), stride=(1, 1))\n",
            "    )\n",
            "    (anchor_generator): DefaultAnchorGenerator(\n",
            "      (cell_anchors): BufferList()\n",
            "    )\n",
            "  )\n",
            "  (roi_heads): StandardROIHeads(\n",
            "    (box_pooler): ROIPooler(\n",
            "      (level_poolers): ModuleList(\n",
            "        (0): ROIAlign(output_size=(7, 7), spatial_scale=0.25, sampling_ratio=0, aligned=True)\n",
            "        (1): ROIAlign(output_size=(7, 7), spatial_scale=0.125, sampling_ratio=0, aligned=True)\n",
            "        (2): ROIAlign(output_size=(7, 7), spatial_scale=0.0625, sampling_ratio=0, aligned=True)\n",
            "        (3): ROIAlign(output_size=(7, 7), spatial_scale=0.03125, sampling_ratio=0, aligned=True)\n",
            "      )\n",
            "    )\n",
            "    (box_head): FastRCNNConvFCHead(\n",
            "      (flatten): Flatten(start_dim=1, end_dim=-1)\n",
            "      (fc1): Linear(in_features=12544, out_features=1024, bias=True)\n",
            "      (fc_relu1): ReLU()\n",
            "      (fc2): Linear(in_features=1024, out_features=1024, bias=True)\n",
            "      (fc_relu2): ReLU()\n",
            "    )\n",
            "    (box_predictor): FastRCNNOutputLayers(\n",
            "      (cls_score): Linear(in_features=1024, out_features=3, bias=True)\n",
            "      (bbox_pred): Linear(in_features=1024, out_features=8, bias=True)\n",
            "    )\n",
            "    (mask_pooler): ROIPooler(\n",
            "      (level_poolers): ModuleList(\n",
            "        (0): ROIAlign(output_size=(14, 14), spatial_scale=0.25, sampling_ratio=0, aligned=True)\n",
            "        (1): ROIAlign(output_size=(14, 14), spatial_scale=0.125, sampling_ratio=0, aligned=True)\n",
            "        (2): ROIAlign(output_size=(14, 14), spatial_scale=0.0625, sampling_ratio=0, aligned=True)\n",
            "        (3): ROIAlign(output_size=(14, 14), spatial_scale=0.03125, sampling_ratio=0, aligned=True)\n",
            "      )\n",
            "    )\n",
            "    (mask_head): MaskRCNNConvUpsampleHead(\n",
            "      (mask_fcn1): Conv2d(\n",
            "        256, 256, kernel_size=(3, 3), stride=(1, 1), padding=(1, 1)\n",
            "        (activation): ReLU()\n",
            "      )\n",
            "      (mask_fcn2): Conv2d(\n",
            "        256, 256, kernel_size=(3, 3), stride=(1, 1), padding=(1, 1)\n",
            "        (activation): ReLU()\n",
            "      )\n",
            "      (mask_fcn3): Conv2d(\n",
            "        256, 256, kernel_size=(3, 3), stride=(1, 1), padding=(1, 1)\n",
            "        (activation): ReLU()\n",
            "      )\n",
            "      (mask_fcn4): Conv2d(\n",
            "        256, 256, kernel_size=(3, 3), stride=(1, 1), padding=(1, 1)\n",
            "        (activation): ReLU()\n",
            "      )\n",
            "      (deconv): ConvTranspose2d(256, 256, kernel_size=(2, 2), stride=(2, 2))\n",
            "      (deconv_relu): ReLU()\n",
            "      (predictor): Conv2d(256, 2, kernel_size=(1, 1), stride=(1, 1))\n",
            "    )\n",
            "  )\n",
            ")\n",
            "\u001b[32m[11/27 15:50:04 d2.data.datasets.coco]: \u001b[0mLoaded 200 images in COCO format from hushem100_mhsma100.json\n",
            "\u001b[32m[11/27 15:50:04 d2.data.build]: \u001b[0mRemoved 0 images with no usable annotations. 200 images left.\n",
            "\u001b[32m[11/27 15:50:04 d2.data.build]: \u001b[0mDistribution of instances among all 2 categories:\n",
            "\u001b[36m|  category  | #instances   |  category  | #instances   |\n",
            "|:----------:|:-------------|:----------:|:-------------|\n",
            "|   glowa    | 203          |    ogon    | 199          |\n",
            "|            |              |            |              |\n",
            "|   total    | 402          |            |              |\u001b[0m\n",
            "\u001b[32m[11/27 15:50:04 d2.data.dataset_mapper]: \u001b[0m[DatasetMapper] Augmentations used in training: [ResizeShortestEdge(short_edge_length=(640, 672, 704, 736, 768, 800), max_size=1333, sample_style='choice'), RandomFlip()]\n",
            "\u001b[32m[11/27 15:50:04 d2.data.build]: \u001b[0mUsing training sampler TrainingSampler\n",
            "\u001b[32m[11/27 15:50:04 d2.data.common]: \u001b[0mSerializing 200 elements to byte tensors and concatenating them all ...\n",
            "\u001b[32m[11/27 15:50:04 d2.data.common]: \u001b[0mSerialized dataset takes 0.07 MiB\n"
          ]
        },
        {
          "output_type": "stream",
          "name": "stderr",
          "text": [
            "model_final_f10217.pkl: 178MB [00:06, 26.0MB/s]                           \n",
            "Skip loading parameter 'roi_heads.box_predictor.cls_score.weight' to the model due to incompatible shapes: (81, 1024) in the checkpoint but (3, 1024) in the model! You might want to double check if this is expected.\n",
            "Skip loading parameter 'roi_heads.box_predictor.cls_score.bias' to the model due to incompatible shapes: (81,) in the checkpoint but (3,) in the model! You might want to double check if this is expected.\n",
            "Skip loading parameter 'roi_heads.box_predictor.bbox_pred.weight' to the model due to incompatible shapes: (320, 1024) in the checkpoint but (8, 1024) in the model! You might want to double check if this is expected.\n",
            "Skip loading parameter 'roi_heads.box_predictor.bbox_pred.bias' to the model due to incompatible shapes: (320,) in the checkpoint but (8,) in the model! You might want to double check if this is expected.\n",
            "Skip loading parameter 'roi_heads.mask_head.predictor.weight' to the model due to incompatible shapes: (80, 256, 1, 1) in the checkpoint but (2, 256, 1, 1) in the model! You might want to double check if this is expected.\n",
            "Skip loading parameter 'roi_heads.mask_head.predictor.bias' to the model due to incompatible shapes: (80,) in the checkpoint but (2,) in the model! You might want to double check if this is expected.\n",
            "Some model parameters or buffers are not found in the checkpoint:\n",
            "\u001b[34mroi_heads.box_predictor.bbox_pred.{bias, weight}\u001b[0m\n",
            "\u001b[34mroi_heads.box_predictor.cls_score.{bias, weight}\u001b[0m\n",
            "\u001b[34mroi_heads.mask_head.predictor.{bias, weight}\u001b[0m\n"
          ]
        },
        {
          "output_type": "stream",
          "name": "stdout",
          "text": [
            "\u001b[32m[11/27 15:50:16 d2.engine.train_loop]: \u001b[0mStarting training from iteration 0\n"
          ]
        },
        {
          "output_type": "stream",
          "name": "stderr",
          "text": [
            "/usr/local/lib/python3.7/dist-packages/torch/functional.py:445: UserWarning: torch.meshgrid: in an upcoming release, it will be required to pass the indexing argument. (Triggered internally at  ../aten/src/ATen/native/TensorShape.cpp:2157.)\n",
            "  return _VF.meshgrid(tensors, **kwargs)  # type: ignore[attr-defined]\n"
          ]
        },
        {
          "output_type": "stream",
          "name": "stdout",
          "text": [
            "\u001b[32m[11/27 15:50:57 d2.utils.events]: \u001b[0m eta: 3:30:22  iter: 19  total_loss: 2.752  loss_cls: 1.092  loss_box_reg: 0.827  loss_mask: 0.6995  loss_rpn_cls: 0.1014  loss_rpn_loc: 0.0151  time: 2.0533  data_time: 0.0352  lr: 4.9953e-06  max_mem: 5289M\n",
            "\u001b[32m[11/27 15:51:38 d2.utils.events]: \u001b[0m eta: 3:30:07  iter: 39  total_loss: 2.674  loss_cls: 0.9802  loss_box_reg: 0.8634  loss_mask: 0.6902  loss_rpn_cls: 0.06496  loss_rpn_loc: 0.01296  time: 2.0408  data_time: 0.0233  lr: 9.9902e-06  max_mem: 5289M\n",
            "\u001b[32m[11/27 15:52:19 d2.utils.events]: \u001b[0m eta: 3:29:48  iter: 59  total_loss: 2.503  loss_cls: 0.8202  loss_box_reg: 0.9339  loss_mask: 0.6691  loss_rpn_cls: 0.07722  loss_rpn_loc: 0.01757  time: 2.0506  data_time: 0.0228  lr: 1.4985e-05  max_mem: 5289M\n",
            "\u001b[32m[11/27 15:53:01 d2.utils.events]: \u001b[0m eta: 3:28:57  iter: 79  total_loss: 2.346  loss_cls: 0.6912  loss_box_reg: 0.9019  loss_mask: 0.6417  loss_rpn_cls: 0.07401  loss_rpn_loc: 0.01489  time: 2.0553  data_time: 0.0240  lr: 1.998e-05  max_mem: 5289M\n",
            "\u001b[32m[11/27 15:53:42 d2.utils.events]: \u001b[0m eta: 3:28:38  iter: 99  total_loss: 2.202  loss_cls: 0.628  loss_box_reg: 0.904  loss_mask: 0.6058  loss_rpn_cls: 0.05028  loss_rpn_loc: 0.01239  time: 2.0549  data_time: 0.0291  lr: 2.4975e-05  max_mem: 5289M\n",
            "\u001b[32m[11/27 15:54:22 d2.utils.events]: \u001b[0m eta: 3:27:18  iter: 119  total_loss: 2.17  loss_cls: 0.5783  loss_box_reg: 0.9408  loss_mask: 0.5637  loss_rpn_cls: 0.04072  loss_rpn_loc: 0.01296  time: 2.0448  data_time: 0.0268  lr: 2.997e-05  max_mem: 5289M\n",
            "\u001b[32m[11/27 15:55:03 d2.utils.events]: \u001b[0m eta: 3:26:50  iter: 139  total_loss: 2.098  loss_cls: 0.5604  loss_box_reg: 0.9543  loss_mask: 0.5298  loss_rpn_cls: 0.02748  loss_rpn_loc: 0.01184  time: 2.0473  data_time: 0.0237  lr: 3.4965e-05  max_mem: 5289M\n",
            "\u001b[32m[11/27 15:55:43 d2.utils.events]: \u001b[0m eta: 3:24:55  iter: 159  total_loss: 1.956  loss_cls: 0.5175  loss_box_reg: 0.9257  loss_mask: 0.4909  loss_rpn_cls: 0.01919  loss_rpn_loc: 0.01096  time: 2.0426  data_time: 0.0307  lr: 3.996e-05  max_mem: 5289M\n",
            "\u001b[32m[11/27 15:56:24 d2.utils.events]: \u001b[0m eta: 3:23:51  iter: 179  total_loss: 1.929  loss_cls: 0.4849  loss_box_reg: 0.9353  loss_mask: 0.4474  loss_rpn_cls: 0.02089  loss_rpn_loc: 0.01274  time: 2.0411  data_time: 0.0231  lr: 4.4955e-05  max_mem: 5289M\n",
            "\u001b[32m[11/27 15:57:05 d2.utils.events]: \u001b[0m eta: 3:23:31  iter: 199  total_loss: 1.828  loss_cls: 0.4475  loss_box_reg: 0.9261  loss_mask: 0.4191  loss_rpn_cls: 0.009124  loss_rpn_loc: 0.0108  time: 2.0402  data_time: 0.0208  lr: 4.995e-05  max_mem: 5479M\n",
            "\u001b[32m[11/27 15:57:45 d2.utils.events]: \u001b[0m eta: 3:22:49  iter: 219  total_loss: 1.727  loss_cls: 0.4038  loss_box_reg: 0.9204  loss_mask: 0.3898  loss_rpn_cls: 0.008826  loss_rpn_loc: 0.009698  time: 2.0405  data_time: 0.0262  lr: 5.4945e-05  max_mem: 5479M\n",
            "\u001b[32m[11/27 15:58:26 d2.utils.events]: \u001b[0m eta: 3:22:40  iter: 239  total_loss: 1.637  loss_cls: 0.3667  loss_box_reg: 0.8992  loss_mask: 0.3442  loss_rpn_cls: 0.007238  loss_rpn_loc: 0.01091  time: 2.0391  data_time: 0.0276  lr: 5.994e-05  max_mem: 5479M\n",
            "\u001b[32m[11/27 15:59:08 d2.utils.events]: \u001b[0m eta: 3:22:36  iter: 259  total_loss: 1.566  loss_cls: 0.3484  loss_box_reg: 0.874  loss_mask: 0.3286  loss_rpn_cls: 0.01135  loss_rpn_loc: 0.01012  time: 2.0459  data_time: 0.0272  lr: 6.4935e-05  max_mem: 5671M\n",
            "\u001b[32m[11/27 15:59:50 d2.utils.events]: \u001b[0m eta: 3:21:39  iter: 279  total_loss: 1.444  loss_cls: 0.2855  loss_box_reg: 0.8155  loss_mask: 0.3205  loss_rpn_cls: 0.005854  loss_rpn_loc: 0.0125  time: 2.0467  data_time: 0.0283  lr: 6.993e-05  max_mem: 5671M\n",
            "\u001b[32m[11/27 16:00:32 d2.utils.events]: \u001b[0m eta: 3:21:36  iter: 299  total_loss: 1.311  loss_cls: 0.244  loss_box_reg: 0.7621  loss_mask: 0.2827  loss_rpn_cls: 0.005568  loss_rpn_loc: 0.009693  time: 2.0501  data_time: 0.0272  lr: 7.4925e-05  max_mem: 5671M\n",
            "\u001b[32m[11/27 16:01:13 d2.utils.events]: \u001b[0m eta: 3:20:56  iter: 319  total_loss: 1.267  loss_cls: 0.2416  loss_box_reg: 0.7023  loss_mask: 0.278  loss_rpn_cls: 0.004276  loss_rpn_loc: 0.01256  time: 2.0501  data_time: 0.0224  lr: 7.992e-05  max_mem: 5671M\n",
            "\u001b[32m[11/27 16:01:53 d2.utils.events]: \u001b[0m eta: 3:20:13  iter: 339  total_loss: 1.105  loss_cls: 0.2023  loss_box_reg: 0.6196  loss_mask: 0.237  loss_rpn_cls: 0.005695  loss_rpn_loc: 0.01203  time: 2.0496  data_time: 0.0245  lr: 8.4915e-05  max_mem: 5671M\n",
            "\u001b[32m[11/27 16:02:35 d2.utils.events]: \u001b[0m eta: 3:19:45  iter: 359  total_loss: 0.9414  loss_cls: 0.1641  loss_box_reg: 0.5255  loss_mask: 0.2203  loss_rpn_cls: 0.005394  loss_rpn_loc: 0.01047  time: 2.0506  data_time: 0.0248  lr: 8.991e-05  max_mem: 5671M\n",
            "\u001b[32m[11/27 16:03:16 d2.utils.events]: \u001b[0m eta: 3:19:23  iter: 379  total_loss: 0.9271  loss_cls: 0.1608  loss_box_reg: 0.5066  loss_mask: 0.2185  loss_rpn_cls: 0.00537  loss_rpn_loc: 0.01406  time: 2.0522  data_time: 0.0244  lr: 9.4905e-05  max_mem: 5671M\n",
            "\u001b[32m[11/27 16:03:57 d2.utils.events]: \u001b[0m eta: 3:18:09  iter: 399  total_loss: 0.9201  loss_cls: 0.157  loss_box_reg: 0.4929  loss_mask: 0.2032  loss_rpn_cls: 0.008174  loss_rpn_loc: 0.01254  time: 2.0512  data_time: 0.0263  lr: 9.99e-05  max_mem: 5671M\n",
            "\u001b[32m[11/27 16:04:38 d2.utils.events]: \u001b[0m eta: 3:17:27  iter: 419  total_loss: 0.8494  loss_cls: 0.1501  loss_box_reg: 0.4603  loss_mask: 0.1976  loss_rpn_cls: 0.002722  loss_rpn_loc: 0.0108  time: 2.0518  data_time: 0.0264  lr: 0.0001049  max_mem: 5671M\n",
            "\u001b[32m[11/27 16:05:19 d2.utils.events]: \u001b[0m eta: 3:16:41  iter: 439  total_loss: 0.7693  loss_cls: 0.1592  loss_box_reg: 0.4253  loss_mask: 0.1913  loss_rpn_cls: 0.005386  loss_rpn_loc: 0.01025  time: 2.0500  data_time: 0.0244  lr: 0.00010989  max_mem: 5671M\n",
            "\u001b[32m[11/27 16:06:00 d2.utils.events]: \u001b[0m eta: 3:15:56  iter: 459  total_loss: 0.7685  loss_cls: 0.1451  loss_box_reg: 0.4147  loss_mask: 0.1849  loss_rpn_cls: 0.001686  loss_rpn_loc: 0.01051  time: 2.0498  data_time: 0.0229  lr: 0.00011489  max_mem: 5671M\n",
            "\u001b[32m[11/27 16:06:42 d2.utils.events]: \u001b[0m eta: 3:15:30  iter: 479  total_loss: 0.7291  loss_cls: 0.1345  loss_box_reg: 0.3936  loss_mask: 0.1758  loss_rpn_cls: 0.003199  loss_rpn_loc: 0.009379  time: 2.0518  data_time: 0.0247  lr: 0.00011988  max_mem: 5672M\n",
            "\u001b[32m[11/27 16:07:23 d2.utils.events]: \u001b[0m eta: 3:15:07  iter: 499  total_loss: 0.7702  loss_cls: 0.13  loss_box_reg: 0.3888  loss_mask: 0.1902  loss_rpn_cls: 0.002008  loss_rpn_loc: 0.00859  time: 2.0523  data_time: 0.0238  lr: 0.00012488  max_mem: 5672M\n",
            "\u001b[32m[11/27 16:08:04 d2.utils.events]: \u001b[0m eta: 3:14:25  iter: 519  total_loss: 0.707  loss_cls: 0.1262  loss_box_reg: 0.3579  loss_mask: 0.1874  loss_rpn_cls: 0.003744  loss_rpn_loc: 0.008673  time: 2.0534  data_time: 0.0268  lr: 0.00012987  max_mem: 5672M\n",
            "\u001b[32m[11/27 16:08:45 d2.utils.events]: \u001b[0m eta: 3:13:42  iter: 539  total_loss: 0.665  loss_cls: 0.1215  loss_box_reg: 0.3524  loss_mask: 0.1808  loss_rpn_cls: 0.001843  loss_rpn_loc: 0.008219  time: 2.0529  data_time: 0.0273  lr: 0.00013487  max_mem: 5672M\n",
            "\u001b[32m[11/27 16:09:27 d2.utils.events]: \u001b[0m eta: 3:13:09  iter: 559  total_loss: 0.697  loss_cls: 0.1156  loss_box_reg: 0.3704  loss_mask: 0.1932  loss_rpn_cls: 0.004095  loss_rpn_loc: 0.008577  time: 2.0542  data_time: 0.0288  lr: 0.00013986  max_mem: 5672M\n",
            "\u001b[32m[11/27 16:10:07 d2.utils.events]: \u001b[0m eta: 3:12:17  iter: 579  total_loss: 0.6691  loss_cls: 0.1031  loss_box_reg: 0.3653  loss_mask: 0.1708  loss_rpn_cls: 0.002294  loss_rpn_loc: 0.006822  time: 2.0528  data_time: 0.0236  lr: 0.00014486  max_mem: 5672M\n",
            "\u001b[32m[11/27 16:10:48 d2.utils.events]: \u001b[0m eta: 3:11:15  iter: 599  total_loss: 0.6365  loss_cls: 0.1231  loss_box_reg: 0.3203  loss_mask: 0.1585  loss_rpn_cls: 0.001954  loss_rpn_loc: 0.006211  time: 2.0524  data_time: 0.0239  lr: 0.00014985  max_mem: 5672M\n",
            "\u001b[32m[11/27 16:11:30 d2.utils.events]: \u001b[0m eta: 3:10:57  iter: 619  total_loss: 0.571  loss_cls: 0.1  loss_box_reg: 0.3081  loss_mask: 0.1617  loss_rpn_cls: 0.001918  loss_rpn_loc: 0.006845  time: 2.0529  data_time: 0.0280  lr: 0.00015485  max_mem: 5672M\n",
            "\u001b[32m[11/27 16:12:11 d2.utils.events]: \u001b[0m eta: 3:10:18  iter: 639  total_loss: 0.6591  loss_cls: 0.1075  loss_box_reg: 0.3427  loss_mask: 0.1748  loss_rpn_cls: 0.004155  loss_rpn_loc: 0.01041  time: 2.0527  data_time: 0.0248  lr: 0.00015984  max_mem: 5672M\n",
            "\u001b[32m[11/27 16:12:53 d2.utils.events]: \u001b[0m eta: 3:09:42  iter: 659  total_loss: 0.6028  loss_cls: 0.117  loss_box_reg: 0.3473  loss_mask: 0.1678  loss_rpn_cls: 0.002081  loss_rpn_loc: 0.007068  time: 2.0541  data_time: 0.0274  lr: 0.00016484  max_mem: 5672M\n",
            "\u001b[32m[11/27 16:13:33 d2.utils.events]: \u001b[0m eta: 3:08:53  iter: 679  total_loss: 0.5887  loss_cls: 0.08844  loss_box_reg: 0.3202  loss_mask: 0.1644  loss_rpn_cls: 0.002118  loss_rpn_loc: 0.006789  time: 2.0537  data_time: 0.0284  lr: 0.00016983  max_mem: 5672M\n",
            "\u001b[32m[11/27 16:14:14 d2.utils.events]: \u001b[0m eta: 3:07:54  iter: 699  total_loss: 0.6153  loss_cls: 0.09439  loss_box_reg: 0.3301  loss_mask: 0.1711  loss_rpn_cls: 0.001878  loss_rpn_loc: 0.007735  time: 2.0530  data_time: 0.0248  lr: 0.00017483  max_mem: 5672M\n",
            "\u001b[32m[11/27 16:14:55 d2.utils.events]: \u001b[0m eta: 3:07:19  iter: 719  total_loss: 0.5909  loss_cls: 0.09873  loss_box_reg: 0.3217  loss_mask: 0.1678  loss_rpn_cls: 0.0007133  loss_rpn_loc: 0.007383  time: 2.0535  data_time: 0.0260  lr: 0.00017982  max_mem: 5672M\n",
            "\u001b[32m[11/27 16:15:37 d2.utils.events]: \u001b[0m eta: 3:06:41  iter: 739  total_loss: 0.5804  loss_cls: 0.09798  loss_box_reg: 0.3021  loss_mask: 0.1628  loss_rpn_cls: 0.0006636  loss_rpn_loc: 0.006495  time: 2.0540  data_time: 0.0262  lr: 0.00018482  max_mem: 5672M\n",
            "\u001b[32m[11/27 16:16:17 d2.utils.events]: \u001b[0m eta: 3:05:47  iter: 759  total_loss: 0.5983  loss_cls: 0.08686  loss_box_reg: 0.3096  loss_mask: 0.1742  loss_rpn_cls: 0.001444  loss_rpn_loc: 0.0065  time: 2.0525  data_time: 0.0277  lr: 0.00018981  max_mem: 5672M\n",
            "\u001b[32m[11/27 16:16:58 d2.utils.events]: \u001b[0m eta: 3:05:04  iter: 779  total_loss: 0.5867  loss_cls: 0.09634  loss_box_reg: 0.3075  loss_mask: 0.1634  loss_rpn_cls: 0.000898  loss_rpn_loc: 0.006603  time: 2.0524  data_time: 0.0180  lr: 0.00019481  max_mem: 5672M\n",
            "\u001b[32m[11/27 16:17:40 d2.utils.events]: \u001b[0m eta: 3:04:21  iter: 799  total_loss: 0.5685  loss_cls: 0.08737  loss_box_reg: 0.2914  loss_mask: 0.1539  loss_rpn_cls: 0.001175  loss_rpn_loc: 0.00729  time: 2.0532  data_time: 0.0199  lr: 0.0001998  max_mem: 5672M\n",
            "\u001b[32m[11/27 16:18:20 d2.utils.events]: \u001b[0m eta: 3:03:18  iter: 819  total_loss: 0.5549  loss_cls: 0.08141  loss_box_reg: 0.2996  loss_mask: 0.1613  loss_rpn_cls: 0.0009432  loss_rpn_loc: 0.00755  time: 2.0529  data_time: 0.0254  lr: 0.0002048  max_mem: 5672M\n",
            "\u001b[32m[11/27 16:19:01 d2.utils.events]: \u001b[0m eta: 3:02:29  iter: 839  total_loss: 0.5111  loss_cls: 0.07659  loss_box_reg: 0.265  loss_mask: 0.1561  loss_rpn_cls: 0.00201  loss_rpn_loc: 0.006933  time: 2.0520  data_time: 0.0263  lr: 0.00020979  max_mem: 5672M\n",
            "\u001b[32m[11/27 16:19:42 d2.utils.events]: \u001b[0m eta: 3:01:48  iter: 859  total_loss: 0.5192  loss_cls: 0.07924  loss_box_reg: 0.2919  loss_mask: 0.1447  loss_rpn_cls: 0.0007359  loss_rpn_loc: 0.006472  time: 2.0525  data_time: 0.0281  lr: 0.00021479  max_mem: 5672M\n",
            "\u001b[32m[11/27 16:20:24 d2.utils.events]: \u001b[0m eta: 3:01:08  iter: 879  total_loss: 0.5283  loss_cls: 0.08564  loss_box_reg: 0.2675  loss_mask: 0.1523  loss_rpn_cls: 0.0009232  loss_rpn_loc: 0.007029  time: 2.0528  data_time: 0.0269  lr: 0.00021978  max_mem: 5672M\n",
            "\u001b[32m[11/27 16:21:05 d2.utils.events]: \u001b[0m eta: 3:00:27  iter: 899  total_loss: 0.5306  loss_cls: 0.07877  loss_box_reg: 0.2705  loss_mask: 0.1466  loss_rpn_cls: 0.0002722  loss_rpn_loc: 0.006176  time: 2.0529  data_time: 0.0217  lr: 0.00022478  max_mem: 5672M\n",
            "\u001b[32m[11/27 16:21:45 d2.utils.events]: \u001b[0m eta: 2:59:43  iter: 919  total_loss: 0.5574  loss_cls: 0.08085  loss_box_reg: 0.2974  loss_mask: 0.1718  loss_rpn_cls: 0.0004762  loss_rpn_loc: 0.006395  time: 2.0518  data_time: 0.0237  lr: 0.00022977  max_mem: 5672M\n",
            "\u001b[32m[11/27 16:22:26 d2.utils.events]: \u001b[0m eta: 2:59:04  iter: 939  total_loss: 0.4844  loss_cls: 0.07011  loss_box_reg: 0.2648  loss_mask: 0.13  loss_rpn_cls: 0.0003641  loss_rpn_loc: 0.005889  time: 2.0521  data_time: 0.0291  lr: 0.00023477  max_mem: 5672M\n",
            "\u001b[32m[11/27 16:23:07 d2.utils.events]: \u001b[0m eta: 2:58:16  iter: 959  total_loss: 0.5032  loss_cls: 0.06984  loss_box_reg: 0.2639  loss_mask: 0.1529  loss_rpn_cls: 0.001098  loss_rpn_loc: 0.006897  time: 2.0516  data_time: 0.0283  lr: 0.00023976  max_mem: 5672M\n",
            "\u001b[32m[11/27 16:23:47 d2.utils.events]: \u001b[0m eta: 2:57:22  iter: 979  total_loss: 0.4832  loss_cls: 0.07271  loss_box_reg: 0.2682  loss_mask: 0.1491  loss_rpn_cls: 0.001614  loss_rpn_loc: 0.00687  time: 2.0512  data_time: 0.0231  lr: 0.00024476  max_mem: 5672M\n",
            "\u001b[32m[11/27 16:24:27 d2.utils.events]: \u001b[0m eta: 2:56:22  iter: 999  total_loss: 0.5061  loss_cls: 0.07281  loss_box_reg: 0.2635  loss_mask: 0.1436  loss_rpn_cls: 0.000744  loss_rpn_loc: 0.006433  time: 2.0499  data_time: 0.0213  lr: 0.00024975  max_mem: 5672M\n",
            "\u001b[32m[11/27 16:25:07 d2.utils.events]: \u001b[0m eta: 2:55:27  iter: 1019  total_loss: 0.4744  loss_cls: 0.06938  loss_box_reg: 0.2505  loss_mask: 0.146  loss_rpn_cls: 0.0008238  loss_rpn_loc: 0.006884  time: 2.0486  data_time: 0.0259  lr: 0.00025  max_mem: 5672M\n",
            "\u001b[32m[11/27 16:25:48 d2.utils.events]: \u001b[0m eta: 2:54:54  iter: 1039  total_loss: 0.4885  loss_cls: 0.0728  loss_box_reg: 0.2677  loss_mask: 0.1489  loss_rpn_cls: 0.000377  loss_rpn_loc: 0.006305  time: 2.0491  data_time: 0.0246  lr: 0.00025  max_mem: 5672M\n",
            "\u001b[32m[11/27 16:26:29 d2.utils.events]: \u001b[0m eta: 2:54:08  iter: 1059  total_loss: 0.4894  loss_cls: 0.06725  loss_box_reg: 0.2534  loss_mask: 0.155  loss_rpn_cls: 0.0005172  loss_rpn_loc: 0.006257  time: 2.0487  data_time: 0.0249  lr: 0.00025  max_mem: 5672M\n",
            "\u001b[32m[11/27 16:27:10 d2.utils.events]: \u001b[0m eta: 2:53:38  iter: 1079  total_loss: 0.4671  loss_cls: 0.07332  loss_box_reg: 0.2498  loss_mask: 0.1478  loss_rpn_cls: 0.0003942  loss_rpn_loc: 0.005353  time: 2.0492  data_time: 0.0268  lr: 0.00025  max_mem: 5672M\n",
            "\u001b[32m[11/27 16:27:51 d2.utils.events]: \u001b[0m eta: 2:52:25  iter: 1099  total_loss: 0.4513  loss_cls: 0.06152  loss_box_reg: 0.2395  loss_mask: 0.1298  loss_rpn_cls: 0.001355  loss_rpn_loc: 0.007269  time: 2.0489  data_time: 0.0213  lr: 0.00025  max_mem: 5672M\n",
            "\u001b[32m[11/27 16:28:32 d2.utils.events]: \u001b[0m eta: 2:52:01  iter: 1119  total_loss: 0.4579  loss_cls: 0.0616  loss_box_reg: 0.2533  loss_mask: 0.1413  loss_rpn_cls: 0.000879  loss_rpn_loc: 0.006099  time: 2.0486  data_time: 0.0266  lr: 0.00025  max_mem: 5672M\n",
            "\u001b[32m[11/27 16:29:13 d2.utils.events]: \u001b[0m eta: 2:51:19  iter: 1139  total_loss: 0.4531  loss_cls: 0.06596  loss_box_reg: 0.2436  loss_mask: 0.1429  loss_rpn_cls: 0.0006807  loss_rpn_loc: 0.005873  time: 2.0484  data_time: 0.0248  lr: 0.00025  max_mem: 5672M\n",
            "\u001b[32m[11/27 16:29:54 d2.utils.events]: \u001b[0m eta: 2:51:02  iter: 1159  total_loss: 0.4553  loss_cls: 0.06133  loss_box_reg: 0.2377  loss_mask: 0.1497  loss_rpn_cls: 0.0005808  loss_rpn_loc: 0.005251  time: 2.0491  data_time: 0.0255  lr: 0.00025  max_mem: 5672M\n",
            "\u001b[32m[11/27 16:30:35 d2.utils.events]: \u001b[0m eta: 2:50:19  iter: 1179  total_loss: 0.4404  loss_cls: 0.06543  loss_box_reg: 0.2313  loss_mask: 0.1394  loss_rpn_cls: 0.0004607  loss_rpn_loc: 0.005573  time: 2.0486  data_time: 0.0247  lr: 0.00025  max_mem: 5672M\n",
            "\u001b[32m[11/27 16:31:16 d2.utils.events]: \u001b[0m eta: 2:49:36  iter: 1199  total_loss: 0.451  loss_cls: 0.06248  loss_box_reg: 0.2333  loss_mask: 0.1351  loss_rpn_cls: 0.0005839  loss_rpn_loc: 0.005926  time: 2.0485  data_time: 0.0281  lr: 0.00025  max_mem: 5672M\n",
            "\u001b[32m[11/27 16:31:56 d2.utils.events]: \u001b[0m eta: 2:48:49  iter: 1219  total_loss: 0.436  loss_cls: 0.06061  loss_box_reg: 0.2247  loss_mask: 0.1376  loss_rpn_cls: 0.0008321  loss_rpn_loc: 0.005751  time: 2.0483  data_time: 0.0254  lr: 0.00025  max_mem: 5672M\n",
            "\u001b[32m[11/27 16:32:38 d2.utils.events]: \u001b[0m eta: 2:48:06  iter: 1239  total_loss: 0.4119  loss_cls: 0.06403  loss_box_reg: 0.216  loss_mask: 0.1403  loss_rpn_cls: 0.0005732  loss_rpn_loc: 0.005967  time: 2.0487  data_time: 0.0265  lr: 0.00025  max_mem: 5672M\n",
            "\u001b[32m[11/27 16:33:18 d2.utils.events]: \u001b[0m eta: 2:47:14  iter: 1259  total_loss: 0.428  loss_cls: 0.06959  loss_box_reg: 0.2152  loss_mask: 0.1327  loss_rpn_cls: 0.0005168  loss_rpn_loc: 0.005313  time: 2.0484  data_time: 0.0281  lr: 0.00025  max_mem: 5672M\n",
            "\u001b[32m[11/27 16:34:00 d2.utils.events]: \u001b[0m eta: 2:46:35  iter: 1279  total_loss: 0.4736  loss_cls: 0.06073  loss_box_reg: 0.2449  loss_mask: 0.14  loss_rpn_cls: 0.0003952  loss_rpn_loc: 0.006116  time: 2.0485  data_time: 0.0282  lr: 0.00025  max_mem: 5672M\n",
            "\u001b[32m[11/27 16:34:40 d2.utils.events]: \u001b[0m eta: 2:45:23  iter: 1299  total_loss: 0.4353  loss_cls: 0.05965  loss_box_reg: 0.2127  loss_mask: 0.1378  loss_rpn_cls: 0.0008318  loss_rpn_loc: 0.005025  time: 2.0483  data_time: 0.0245  lr: 0.00025  max_mem: 5672M\n",
            "\u001b[32m[11/27 16:35:22 d2.utils.events]: \u001b[0m eta: 2:44:34  iter: 1319  total_loss: 0.4213  loss_cls: 0.06446  loss_box_reg: 0.2158  loss_mask: 0.1346  loss_rpn_cls: 0.000216  loss_rpn_loc: 0.006078  time: 2.0485  data_time: 0.0234  lr: 0.00025  max_mem: 5672M\n",
            "\u001b[32m[11/27 16:36:03 d2.utils.events]: \u001b[0m eta: 2:44:06  iter: 1339  total_loss: 0.4316  loss_cls: 0.06066  loss_box_reg: 0.2214  loss_mask: 0.1409  loss_rpn_cls: 0.0006904  loss_rpn_loc: 0.005916  time: 2.0488  data_time: 0.0274  lr: 0.00025  max_mem: 5672M\n",
            "\u001b[32m[11/27 16:36:43 d2.utils.events]: \u001b[0m eta: 2:43:06  iter: 1359  total_loss: 0.3959  loss_cls: 0.05366  loss_box_reg: 0.2047  loss_mask: 0.1323  loss_rpn_cls: 0.0005393  loss_rpn_loc: 0.006177  time: 2.0479  data_time: 0.0261  lr: 0.00025  max_mem: 5672M\n",
            "\u001b[32m[11/27 16:37:24 d2.utils.events]: \u001b[0m eta: 2:42:24  iter: 1379  total_loss: 0.4176  loss_cls: 0.05472  loss_box_reg: 0.2145  loss_mask: 0.137  loss_rpn_cls: 0.0002693  loss_rpn_loc: 0.004792  time: 2.0481  data_time: 0.0255  lr: 0.00025  max_mem: 5672M\n",
            "\u001b[32m[11/27 16:38:06 d2.utils.events]: \u001b[0m eta: 2:42:09  iter: 1399  total_loss: 0.4027  loss_cls: 0.05786  loss_box_reg: 0.2047  loss_mask: 0.1254  loss_rpn_cls: 0.0006571  loss_rpn_loc: 0.005468  time: 2.0486  data_time: 0.0247  lr: 0.00025  max_mem: 5672M\n",
            "\u001b[32m[11/27 16:38:46 d2.utils.events]: \u001b[0m eta: 2:41:27  iter: 1419  total_loss: 0.3946  loss_cls: 0.06059  loss_box_reg: 0.1896  loss_mask: 0.1297  loss_rpn_cls: 0.0005209  loss_rpn_loc: 0.005131  time: 2.0485  data_time: 0.0237  lr: 0.00025  max_mem: 5672M\n",
            "\u001b[32m[11/27 16:39:27 d2.utils.events]: \u001b[0m eta: 2:40:34  iter: 1439  total_loss: 0.4037  loss_cls: 0.05414  loss_box_reg: 0.1975  loss_mask: 0.1409  loss_rpn_cls: 0.0001833  loss_rpn_loc: 0.004701  time: 2.0480  data_time: 0.0243  lr: 0.00025  max_mem: 5672M\n",
            "\u001b[32m[11/27 16:40:08 d2.utils.events]: \u001b[0m eta: 2:39:58  iter: 1459  total_loss: 0.3977  loss_cls: 0.05576  loss_box_reg: 0.2032  loss_mask: 0.1322  loss_rpn_cls: 0.0006037  loss_rpn_loc: 0.006376  time: 2.0480  data_time: 0.0277  lr: 0.00025  max_mem: 5672M\n",
            "\u001b[32m[11/27 16:40:48 d2.utils.events]: \u001b[0m eta: 2:38:53  iter: 1479  total_loss: 0.4144  loss_cls: 0.0492  loss_box_reg: 0.2091  loss_mask: 0.1414  loss_rpn_cls: 0.0002174  loss_rpn_loc: 0.005468  time: 2.0477  data_time: 0.0213  lr: 0.00025  max_mem: 5672M\n",
            "\u001b[32m[11/27 16:41:30 d2.utils.events]: \u001b[0m eta: 2:38:11  iter: 1499  total_loss: 0.3856  loss_cls: 0.04727  loss_box_reg: 0.1934  loss_mask: 0.1296  loss_rpn_cls: 0.0003253  loss_rpn_loc: 0.005031  time: 2.0482  data_time: 0.0185  lr: 0.00025  max_mem: 5672M\n",
            "\u001b[32m[11/27 16:42:12 d2.utils.events]: \u001b[0m eta: 2:37:51  iter: 1519  total_loss: 0.4147  loss_cls: 0.05776  loss_box_reg: 0.2109  loss_mask: 0.1294  loss_rpn_cls: 0.0003941  loss_rpn_loc: 0.005211  time: 2.0488  data_time: 0.0247  lr: 0.00025  max_mem: 5672M\n",
            "\u001b[32m[11/27 16:42:53 d2.utils.events]: \u001b[0m eta: 2:36:56  iter: 1539  total_loss: 0.3787  loss_cls: 0.05272  loss_box_reg: 0.1901  loss_mask: 0.1212  loss_rpn_cls: 0.0003273  loss_rpn_loc: 0.005676  time: 2.0487  data_time: 0.0261  lr: 0.00025  max_mem: 5672M\n",
            "\u001b[32m[11/27 16:43:34 d2.utils.events]: \u001b[0m eta: 2:36:05  iter: 1559  total_loss: 0.4069  loss_cls: 0.04808  loss_box_reg: 0.207  loss_mask: 0.1296  loss_rpn_cls: 0.0003255  loss_rpn_loc: 0.005324  time: 2.0486  data_time: 0.0259  lr: 0.00025  max_mem: 5672M\n",
            "\u001b[32m[11/27 16:44:15 d2.utils.events]: \u001b[0m eta: 2:35:31  iter: 1579  total_loss: 0.4086  loss_cls: 0.05395  loss_box_reg: 0.2002  loss_mask: 0.1349  loss_rpn_cls: 0.0002909  loss_rpn_loc: 0.005377  time: 2.0487  data_time: 0.0269  lr: 0.00025  max_mem: 5672M\n",
            "\u001b[32m[11/27 16:44:56 d2.utils.events]: \u001b[0m eta: 2:35:08  iter: 1599  total_loss: 0.3881  loss_cls: 0.05468  loss_box_reg: 0.1968  loss_mask: 0.1288  loss_rpn_cls: 0.0002237  loss_rpn_loc: 0.004828  time: 2.0491  data_time: 0.0252  lr: 0.00025  max_mem: 5672M\n",
            "\u001b[32m[11/27 16:45:37 d2.utils.events]: \u001b[0m eta: 2:34:24  iter: 1619  total_loss: 0.3995  loss_cls: 0.04995  loss_box_reg: 0.2098  loss_mask: 0.1266  loss_rpn_cls: 0.0003224  loss_rpn_loc: 0.005207  time: 2.0489  data_time: 0.0269  lr: 0.00025  max_mem: 5672M\n",
            "\u001b[32m[11/27 16:46:17 d2.utils.events]: \u001b[0m eta: 2:33:25  iter: 1639  total_loss: 0.3685  loss_cls: 0.06542  loss_box_reg: 0.1844  loss_mask: 0.1234  loss_rpn_cls: 0.000185  loss_rpn_loc: 0.004707  time: 2.0486  data_time: 0.0246  lr: 0.00025  max_mem: 5672M\n",
            "\u001b[32m[11/27 16:46:58 d2.utils.events]: \u001b[0m eta: 2:32:37  iter: 1659  total_loss: 0.3749  loss_cls: 0.0551  loss_box_reg: 0.1945  loss_mask: 0.1136  loss_rpn_cls: 0.0001692  loss_rpn_loc: 0.00507  time: 2.0483  data_time: 0.0220  lr: 0.00025  max_mem: 5672M\n",
            "\u001b[32m[11/27 16:47:40 d2.utils.events]: \u001b[0m eta: 2:32:18  iter: 1679  total_loss: 0.3647  loss_cls: 0.05439  loss_box_reg: 0.1837  loss_mask: 0.1274  loss_rpn_cls: 0.0001768  loss_rpn_loc: 0.005221  time: 2.0486  data_time: 0.0298  lr: 0.00025  max_mem: 5672M\n",
            "\u001b[32m[11/27 16:48:20 d2.utils.events]: \u001b[0m eta: 2:31:40  iter: 1699  total_loss: 0.4  loss_cls: 0.05194  loss_box_reg: 0.1993  loss_mask: 0.1329  loss_rpn_cls: 0.0004518  loss_rpn_loc: 0.004766  time: 2.0485  data_time: 0.0242  lr: 0.00025  max_mem: 5672M\n",
            "\u001b[32m[11/27 16:49:02 d2.utils.events]: \u001b[0m eta: 2:30:55  iter: 1719  total_loss: 0.3694  loss_cls: 0.05022  loss_box_reg: 0.191  loss_mask: 0.1268  loss_rpn_cls: 0.0001499  loss_rpn_loc: 0.004764  time: 2.0487  data_time: 0.0276  lr: 0.00025  max_mem: 5672M\n",
            "\u001b[32m[11/27 16:49:42 d2.utils.events]: \u001b[0m eta: 2:29:48  iter: 1739  total_loss: 0.3595  loss_cls: 0.04946  loss_box_reg: 0.1845  loss_mask: 0.1142  loss_rpn_cls: 0.0002519  loss_rpn_loc: 0.004391  time: 2.0483  data_time: 0.0273  lr: 0.00025  max_mem: 5672M\n",
            "\u001b[32m[11/27 16:50:23 d2.utils.events]: \u001b[0m eta: 2:29:27  iter: 1759  total_loss: 0.3819  loss_cls: 0.05261  loss_box_reg: 0.1855  loss_mask: 0.1372  loss_rpn_cls: 0.0003426  loss_rpn_loc: 0.004692  time: 2.0486  data_time: 0.0211  lr: 0.00025  max_mem: 5672M\n",
            "\u001b[32m[11/27 16:51:05 d2.utils.events]: \u001b[0m eta: 2:28:48  iter: 1779  total_loss: 0.3802  loss_cls: 0.05445  loss_box_reg: 0.1793  loss_mask: 0.1305  loss_rpn_cls: 0.0003025  loss_rpn_loc: 0.006055  time: 2.0489  data_time: 0.0256  lr: 0.00025  max_mem: 5672M\n",
            "\u001b[32m[11/27 16:51:46 d2.utils.events]: \u001b[0m eta: 2:27:54  iter: 1799  total_loss: 0.3633  loss_cls: 0.05078  loss_box_reg: 0.1865  loss_mask: 0.1153  loss_rpn_cls: 0.0004214  loss_rpn_loc: 0.005159  time: 2.0487  data_time: 0.0253  lr: 0.00025  max_mem: 5672M\n",
            "\u001b[32m[11/27 16:52:26 d2.utils.events]: \u001b[0m eta: 2:27:05  iter: 1819  total_loss: 0.3553  loss_cls: 0.04698  loss_box_reg: 0.1884  loss_mask: 0.116  loss_rpn_cls: 0.0001387  loss_rpn_loc: 0.005129  time: 2.0483  data_time: 0.0241  lr: 0.00025  max_mem: 5672M\n",
            "\u001b[32m[11/27 16:53:06 d2.utils.events]: \u001b[0m eta: 2:26:23  iter: 1839  total_loss: 0.3689  loss_cls: 0.05379  loss_box_reg: 0.1735  loss_mask: 0.1307  loss_rpn_cls: 0.0001203  loss_rpn_loc: 0.005537  time: 2.0478  data_time: 0.0243  lr: 0.00025  max_mem: 5672M\n",
            "\u001b[32m[11/27 16:53:47 d2.utils.events]: \u001b[0m eta: 2:25:40  iter: 1859  total_loss: 0.3757  loss_cls: 0.05201  loss_box_reg: 0.1898  loss_mask: 0.1297  loss_rpn_cls: 0.000261  loss_rpn_loc: 0.005378  time: 2.0480  data_time: 0.0277  lr: 0.00025  max_mem: 5672M\n",
            "\u001b[32m[11/27 16:54:28 d2.utils.events]: \u001b[0m eta: 2:24:48  iter: 1879  total_loss: 0.3799  loss_cls: 0.04832  loss_box_reg: 0.1837  loss_mask: 0.1346  loss_rpn_cls: 0.0003615  loss_rpn_loc: 0.005888  time: 2.0476  data_time: 0.0256  lr: 0.00025  max_mem: 5672M\n",
            "\u001b[32m[11/27 16:55:09 d2.utils.events]: \u001b[0m eta: 2:24:06  iter: 1899  total_loss: 0.3419  loss_cls: 0.046  loss_box_reg: 0.1738  loss_mask: 0.1136  loss_rpn_cls: 0.0001744  loss_rpn_loc: 0.004512  time: 2.0476  data_time: 0.0235  lr: 0.00025  max_mem: 5672M\n",
            "\u001b[32m[11/27 16:55:49 d2.utils.events]: \u001b[0m eta: 2:23:07  iter: 1919  total_loss: 0.3657  loss_cls: 0.05232  loss_box_reg: 0.1825  loss_mask: 0.1245  loss_rpn_cls: 0.000141  loss_rpn_loc: 0.004777  time: 2.0475  data_time: 0.0275  lr: 0.00025  max_mem: 5672M\n",
            "\u001b[32m[11/27 16:56:30 d2.utils.events]: \u001b[0m eta: 2:22:15  iter: 1939  total_loss: 0.3679  loss_cls: 0.05103  loss_box_reg: 0.1758  loss_mask: 0.129  loss_rpn_cls: 0.0001305  loss_rpn_loc: 0.004575  time: 2.0473  data_time: 0.0211  lr: 0.00025  max_mem: 5672M\n",
            "\u001b[32m[11/27 16:57:11 d2.utils.events]: \u001b[0m eta: 2:21:55  iter: 1959  total_loss: 0.3289  loss_cls: 0.04763  loss_box_reg: 0.1631  loss_mask: 0.1117  loss_rpn_cls: 0.0001166  loss_rpn_loc: 0.004519  time: 2.0474  data_time: 0.0261  lr: 0.00025  max_mem: 5672M\n",
            "\u001b[32m[11/27 16:57:52 d2.utils.events]: \u001b[0m eta: 2:21:32  iter: 1979  total_loss: 0.3442  loss_cls: 0.04619  loss_box_reg: 0.16  loss_mask: 0.13  loss_rpn_cls: 0.0003427  loss_rpn_loc: 0.004705  time: 2.0476  data_time: 0.0267  lr: 0.00025  max_mem: 5672M\n",
            "\u001b[32m[11/27 16:58:34 d2.utils.events]: \u001b[0m eta: 2:21:22  iter: 1999  total_loss: 0.3467  loss_cls: 0.047  loss_box_reg: 0.1747  loss_mask: 0.1154  loss_rpn_cls: 0.0002358  loss_rpn_loc: 0.004825  time: 2.0478  data_time: 0.0272  lr: 0.00025  max_mem: 5672M\n",
            "\u001b[32m[11/27 16:59:14 d2.utils.events]: \u001b[0m eta: 2:20:46  iter: 2019  total_loss: 0.3457  loss_cls: 0.04666  loss_box_reg: 0.1747  loss_mask: 0.1124  loss_rpn_cls: 0.0001746  loss_rpn_loc: 0.004628  time: 2.0474  data_time: 0.0239  lr: 0.00025  max_mem: 5672M\n",
            "\u001b[32m[11/27 16:59:55 d2.utils.events]: \u001b[0m eta: 2:19:50  iter: 2039  total_loss: 0.3694  loss_cls: 0.05025  loss_box_reg: 0.1823  loss_mask: 0.117  loss_rpn_cls: 0.0005653  loss_rpn_loc: 0.00518  time: 2.0473  data_time: 0.0249  lr: 0.00025  max_mem: 5672M\n",
            "\u001b[32m[11/27 17:00:36 d2.utils.events]: \u001b[0m eta: 2:19:18  iter: 2059  total_loss: 0.3601  loss_cls: 0.04904  loss_box_reg: 0.1731  loss_mask: 0.1253  loss_rpn_cls: 0.0003047  loss_rpn_loc: 0.004868  time: 2.0475  data_time: 0.0268  lr: 0.00025  max_mem: 5672M\n",
            "\u001b[32m[11/27 17:01:16 d2.utils.events]: \u001b[0m eta: 2:17:54  iter: 2079  total_loss: 0.3332  loss_cls: 0.04786  loss_box_reg: 0.1615  loss_mask: 0.1195  loss_rpn_cls: 0.0001894  loss_rpn_loc: 0.005257  time: 2.0471  data_time: 0.0279  lr: 0.00025  max_mem: 5672M\n",
            "\u001b[32m[11/27 17:01:57 d2.utils.events]: \u001b[0m eta: 2:17:43  iter: 2099  total_loss: 0.3514  loss_cls: 0.04739  loss_box_reg: 0.1706  loss_mask: 0.12  loss_rpn_cls: 0.0004955  loss_rpn_loc: 0.004825  time: 2.0469  data_time: 0.0228  lr: 0.00025  max_mem: 5672M\n",
            "\u001b[32m[11/27 17:02:38 d2.utils.events]: \u001b[0m eta: 2:17:10  iter: 2119  total_loss: 0.3397  loss_cls: 0.04712  loss_box_reg: 0.1715  loss_mask: 0.1229  loss_rpn_cls: 0.0002642  loss_rpn_loc: 0.00402  time: 2.0471  data_time: 0.0253  lr: 0.00025  max_mem: 5672M\n",
            "\u001b[32m[11/27 17:03:19 d2.utils.events]: \u001b[0m eta: 2:16:18  iter: 2139  total_loss: 0.3399  loss_cls: 0.05323  loss_box_reg: 0.1621  loss_mask: 0.1155  loss_rpn_cls: 0.0002193  loss_rpn_loc: 0.005113  time: 2.0472  data_time: 0.0285  lr: 0.00025  max_mem: 5672M\n",
            "\u001b[32m[11/27 17:04:01 d2.utils.events]: \u001b[0m eta: 2:15:26  iter: 2159  total_loss: 0.3247  loss_cls: 0.04404  loss_box_reg: 0.1505  loss_mask: 0.1144  loss_rpn_cls: 0.0001525  loss_rpn_loc: 0.004215  time: 2.0474  data_time: 0.0249  lr: 0.00025  max_mem: 5672M\n",
            "\u001b[32m[11/27 17:04:42 d2.utils.events]: \u001b[0m eta: 2:15:07  iter: 2179  total_loss: 0.353  loss_cls: 0.04415  loss_box_reg: 0.1734  loss_mask: 0.1151  loss_rpn_cls: 0.000283  loss_rpn_loc: 0.004891  time: 2.0474  data_time: 0.0278  lr: 0.00025  max_mem: 5672M\n",
            "\u001b[32m[11/27 17:05:23 d2.utils.events]: \u001b[0m eta: 2:14:14  iter: 2199  total_loss: 0.3394  loss_cls: 0.04597  loss_box_reg: 0.1642  loss_mask: 0.1158  loss_rpn_cls: 7.338e-05  loss_rpn_loc: 0.004301  time: 2.0473  data_time: 0.0234  lr: 0.00025  max_mem: 5672M\n",
            "\u001b[32m[11/27 17:06:03 d2.utils.events]: \u001b[0m eta: 2:13:49  iter: 2219  total_loss: 0.3216  loss_cls: 0.04705  loss_box_reg: 0.1625  loss_mask: 0.1111  loss_rpn_cls: 0.0002191  loss_rpn_loc: 0.003576  time: 2.0473  data_time: 0.0257  lr: 0.00025  max_mem: 5672M\n",
            "\u001b[32m[11/27 17:06:44 d2.utils.events]: \u001b[0m eta: 2:12:33  iter: 2239  total_loss: 0.3337  loss_cls: 0.0433  loss_box_reg: 0.1703  loss_mask: 0.1201  loss_rpn_cls: 0.0001699  loss_rpn_loc: 0.005376  time: 2.0470  data_time: 0.0230  lr: 0.00025  max_mem: 5672M\n",
            "\u001b[32m[11/27 17:07:25 d2.utils.events]: \u001b[0m eta: 2:12:26  iter: 2259  total_loss: 0.3378  loss_cls: 0.04528  loss_box_reg: 0.1742  loss_mask: 0.1177  loss_rpn_cls: 0.0004723  loss_rpn_loc: 0.005437  time: 2.0473  data_time: 0.0266  lr: 0.00025  max_mem: 5672M\n",
            "\u001b[32m[11/27 17:08:06 d2.utils.events]: \u001b[0m eta: 2:11:44  iter: 2279  total_loss: 0.2993  loss_cls: 0.03994  loss_box_reg: 0.166  loss_mask: 0.1075  loss_rpn_cls: 0.0001819  loss_rpn_loc: 0.004263  time: 2.0473  data_time: 0.0256  lr: 0.00025  max_mem: 5672M\n",
            "\u001b[32m[11/27 17:08:47 d2.utils.events]: \u001b[0m eta: 2:11:11  iter: 2299  total_loss: 0.3405  loss_cls: 0.05005  loss_box_reg: 0.1637  loss_mask: 0.1189  loss_rpn_cls: 0.0003634  loss_rpn_loc: 0.004602  time: 2.0470  data_time: 0.0278  lr: 0.00025  max_mem: 5672M\n",
            "\u001b[32m[11/27 17:09:27 d2.utils.events]: \u001b[0m eta: 2:10:28  iter: 2319  total_loss: 0.3271  loss_cls: 0.04485  loss_box_reg: 0.1595  loss_mask: 0.1087  loss_rpn_cls: 0.0002891  loss_rpn_loc: 0.00483  time: 2.0470  data_time: 0.0261  lr: 0.00025  max_mem: 5672M\n",
            "\u001b[32m[11/27 17:10:09 d2.utils.events]: \u001b[0m eta: 2:09:34  iter: 2339  total_loss: 0.3188  loss_cls: 0.03989  loss_box_reg: 0.1617  loss_mask: 0.1091  loss_rpn_cls: 0.0002024  loss_rpn_loc: 0.004061  time: 2.0470  data_time: 0.0246  lr: 0.00025  max_mem: 5672M\n",
            "\u001b[32m[11/27 17:10:50 d2.utils.events]: \u001b[0m eta: 2:08:57  iter: 2359  total_loss: 0.3185  loss_cls: 0.03851  loss_box_reg: 0.1609  loss_mask: 0.1142  loss_rpn_cls: 0.0001347  loss_rpn_loc: 0.004343  time: 2.0473  data_time: 0.0299  lr: 0.00025  max_mem: 5672M\n",
            "\u001b[32m[11/27 17:11:31 d2.utils.events]: \u001b[0m eta: 2:08:06  iter: 2379  total_loss: 0.3418  loss_cls: 0.04373  loss_box_reg: 0.1614  loss_mask: 0.118  loss_rpn_cls: 0.0001102  loss_rpn_loc: 0.004995  time: 2.0473  data_time: 0.0250  lr: 0.00025  max_mem: 5672M\n",
            "\u001b[32m[11/27 17:12:12 d2.utils.events]: \u001b[0m eta: 2:07:23  iter: 2399  total_loss: 0.2998  loss_cls: 0.0421  loss_box_reg: 0.1472  loss_mask: 0.1048  loss_rpn_cls: 0.000159  loss_rpn_loc: 0.004926  time: 2.0472  data_time: 0.0288  lr: 0.00025  max_mem: 5672M\n",
            "\u001b[32m[11/27 17:12:53 d2.utils.events]: \u001b[0m eta: 2:06:41  iter: 2419  total_loss: 0.3149  loss_cls: 0.04134  loss_box_reg: 0.1591  loss_mask: 0.1116  loss_rpn_cls: 0.0003071  loss_rpn_loc: 0.006116  time: 2.0473  data_time: 0.0231  lr: 0.00025  max_mem: 5672M\n",
            "\u001b[32m[11/27 17:13:35 d2.utils.events]: \u001b[0m eta: 2:06:07  iter: 2439  total_loss: 0.294  loss_cls: 0.04128  loss_box_reg: 0.143  loss_mask: 0.1074  loss_rpn_cls: 6.6e-05  loss_rpn_loc: 0.00429  time: 2.0476  data_time: 0.0264  lr: 0.00025  max_mem: 5672M\n",
            "\u001b[32m[11/27 17:14:15 d2.utils.events]: \u001b[0m eta: 2:05:21  iter: 2459  total_loss: 0.3144  loss_cls: 0.04796  loss_box_reg: 0.1542  loss_mask: 0.108  loss_rpn_cls: 0.0001075  loss_rpn_loc: 0.004101  time: 2.0473  data_time: 0.0259  lr: 0.00025  max_mem: 5672M\n",
            "\u001b[32m[11/27 17:14:56 d2.utils.events]: \u001b[0m eta: 2:04:40  iter: 2479  total_loss: 0.3073  loss_cls: 0.03733  loss_box_reg: 0.1512  loss_mask: 0.1142  loss_rpn_cls: 0.0002213  loss_rpn_loc: 0.004424  time: 2.0475  data_time: 0.0260  lr: 0.00025  max_mem: 5672M\n",
            "\u001b[32m[11/27 17:15:37 d2.utils.events]: \u001b[0m eta: 2:03:54  iter: 2499  total_loss: 0.2976  loss_cls: 0.04068  loss_box_reg: 0.1445  loss_mask: 0.1111  loss_rpn_cls: 9.657e-05  loss_rpn_loc: 0.003827  time: 2.0475  data_time: 0.0217  lr: 0.00025  max_mem: 5672M\n",
            "\u001b[32m[11/27 17:16:19 d2.utils.events]: \u001b[0m eta: 1:58:46  iter: 2519  total_loss: 0.3106  loss_cls: 0.04445  loss_box_reg: 0.1486  loss_mask: 0.1078  loss_rpn_cls: 0.0003055  loss_rpn_loc: 0.004011  time: 2.0477  data_time: 0.0261  lr: 0.00025  max_mem: 5672M\n",
            "\u001b[32m[11/27 17:17:00 d2.utils.events]: \u001b[0m eta: 2:00:06  iter: 2539  total_loss: 0.3333  loss_cls: 0.04067  loss_box_reg: 0.149  loss_mask: 0.1155  loss_rpn_cls: 0.0001319  loss_rpn_loc: 0.004621  time: 2.0477  data_time: 0.0259  lr: 0.00025  max_mem: 5672M\n",
            "\u001b[32m[11/27 17:17:41 d2.utils.events]: \u001b[0m eta: 1:57:14  iter: 2559  total_loss: 0.3084  loss_cls: 0.03872  loss_box_reg: 0.1464  loss_mask: 0.1177  loss_rpn_cls: 0.0001849  loss_rpn_loc: 0.00364  time: 2.0476  data_time: 0.0247  lr: 0.00025  max_mem: 5672M\n",
            "\u001b[32m[11/27 17:18:22 d2.utils.events]: \u001b[0m eta: 1:58:42  iter: 2579  total_loss: 0.3193  loss_cls: 0.04891  loss_box_reg: 0.1506  loss_mask: 0.109  loss_rpn_cls: 0.0001526  loss_rpn_loc: 0.003835  time: 2.0478  data_time: 0.0234  lr: 0.00025  max_mem: 5672M\n",
            "\u001b[32m[11/27 17:19:03 d2.utils.events]: \u001b[0m eta: 1:55:53  iter: 2599  total_loss: 0.302  loss_cls: 0.04453  loss_box_reg: 0.1416  loss_mask: 0.1046  loss_rpn_cls: 0.0001323  loss_rpn_loc: 0.0042  time: 2.0477  data_time: 0.0215  lr: 0.00025  max_mem: 5672M\n",
            "\u001b[32m[11/27 17:19:45 d2.utils.events]: \u001b[0m eta: 1:56:28  iter: 2619  total_loss: 0.3138  loss_cls: 0.0424  loss_box_reg: 0.144  loss_mask: 0.1143  loss_rpn_cls: 0.0001184  loss_rpn_loc: 0.003872  time: 2.0483  data_time: 0.0259  lr: 0.00025  max_mem: 5672M\n",
            "\u001b[32m[11/27 17:20:26 d2.utils.events]: \u001b[0m eta: 1:55:47  iter: 2639  total_loss: 0.3054  loss_cls: 0.03885  loss_box_reg: 0.1472  loss_mask: 0.1088  loss_rpn_cls: 0.0003044  loss_rpn_loc: 0.004158  time: 2.0480  data_time: 0.0203  lr: 0.00025  max_mem: 5672M\n",
            "\u001b[32m[11/27 17:21:07 d2.utils.events]: \u001b[0m eta: 1:58:11  iter: 2659  total_loss: 0.2924  loss_cls: 0.04453  loss_box_reg: 0.1387  loss_mask: 0.1096  loss_rpn_cls: 0.0001093  loss_rpn_loc: 0.004182  time: 2.0482  data_time: 0.0253  lr: 0.00025  max_mem: 5672M\n",
            "\u001b[32m[11/27 17:21:48 d2.utils.events]: \u001b[0m eta: 1:54:24  iter: 2679  total_loss: 0.2868  loss_cls: 0.03744  loss_box_reg: 0.1411  loss_mask: 0.1106  loss_rpn_cls: 9.828e-05  loss_rpn_loc: 0.004429  time: 2.0482  data_time: 0.0214  lr: 0.00025  max_mem: 5672M\n",
            "\u001b[32m[11/27 17:22:29 d2.utils.events]: \u001b[0m eta: 1:53:43  iter: 2699  total_loss: 0.2985  loss_cls: 0.04138  loss_box_reg: 0.1457  loss_mask: 0.1044  loss_rpn_cls: 0.0001235  loss_rpn_loc: 0.004612  time: 2.0483  data_time: 0.0241  lr: 0.00025  max_mem: 5672M\n",
            "\u001b[32m[11/27 17:23:11 d2.utils.events]: \u001b[0m eta: 1:56:04  iter: 2719  total_loss: 0.3  loss_cls: 0.03767  loss_box_reg: 0.1449  loss_mask: 0.1152  loss_rpn_cls: 0.0001528  loss_rpn_loc: 0.003924  time: 2.0487  data_time: 0.0263  lr: 0.00025  max_mem: 5672M\n",
            "\u001b[32m[11/27 17:23:53 d2.utils.events]: \u001b[0m eta: 1:55:39  iter: 2739  total_loss: 0.2996  loss_cls: 0.03773  loss_box_reg: 0.1411  loss_mask: 0.1136  loss_rpn_cls: 7.627e-05  loss_rpn_loc: 0.004678  time: 2.0488  data_time: 0.0284  lr: 0.00025  max_mem: 5672M\n",
            "\u001b[32m[11/27 17:24:34 d2.utils.events]: \u001b[0m eta: 1:54:57  iter: 2759  total_loss: 0.3061  loss_cls: 0.04396  loss_box_reg: 0.1544  loss_mask: 0.1057  loss_rpn_cls: 0.0001281  loss_rpn_loc: 0.003942  time: 2.0490  data_time: 0.0235  lr: 0.00025  max_mem: 5672M\n",
            "\u001b[32m[11/27 17:25:16 d2.utils.events]: \u001b[0m eta: 1:54:14  iter: 2779  total_loss: 0.2965  loss_cls: 0.03641  loss_box_reg: 0.1429  loss_mask: 0.1085  loss_rpn_cls: 0.0001514  loss_rpn_loc: 0.003997  time: 2.0493  data_time: 0.0292  lr: 0.00025  max_mem: 5672M\n",
            "\u001b[32m[11/27 17:25:57 d2.utils.events]: \u001b[0m eta: 1:53:34  iter: 2799  total_loss: 0.296  loss_cls: 0.0417  loss_box_reg: 0.1379  loss_mask: 0.1115  loss_rpn_cls: 0.0001532  loss_rpn_loc: 0.004282  time: 2.0494  data_time: 0.0200  lr: 0.00025  max_mem: 5672M\n",
            "\u001b[32m[11/27 17:26:38 d2.utils.events]: \u001b[0m eta: 1:52:56  iter: 2819  total_loss: 0.2925  loss_cls: 0.0385  loss_box_reg: 0.1355  loss_mask: 0.1081  loss_rpn_cls: 0.0001459  loss_rpn_loc: 0.004125  time: 2.0494  data_time: 0.0284  lr: 0.00025  max_mem: 5672M\n",
            "\u001b[32m[11/27 17:27:19 d2.utils.events]: \u001b[0m eta: 1:52:15  iter: 2839  total_loss: 0.2858  loss_cls: 0.03518  loss_box_reg: 0.1372  loss_mask: 0.1091  loss_rpn_cls: 0.0001214  loss_rpn_loc: 0.004416  time: 2.0491  data_time: 0.0242  lr: 0.00025  max_mem: 5672M\n",
            "\u001b[32m[11/27 17:28:00 d2.utils.events]: \u001b[0m eta: 1:51:32  iter: 2859  total_loss: 0.2882  loss_cls: 0.0381  loss_box_reg: 0.1389  loss_mask: 0.1105  loss_rpn_cls: 0.0001083  loss_rpn_loc: 0.004426  time: 2.0491  data_time: 0.0248  lr: 0.00025  max_mem: 5672M\n",
            "\u001b[32m[11/27 17:28:39 d2.utils.events]: \u001b[0m eta: 1:50:45  iter: 2879  total_loss: 0.2812  loss_cls: 0.03892  loss_box_reg: 0.1332  loss_mask: 0.1033  loss_rpn_cls: 4.549e-05  loss_rpn_loc: 0.004154  time: 2.0487  data_time: 0.0275  lr: 0.00025  max_mem: 5672M\n",
            "\u001b[32m[11/27 17:29:20 d2.utils.events]: \u001b[0m eta: 1:50:01  iter: 2899  total_loss: 0.2903  loss_cls: 0.04427  loss_box_reg: 0.1349  loss_mask: 0.1035  loss_rpn_cls: 0.000105  loss_rpn_loc: 0.003902  time: 2.0486  data_time: 0.0215  lr: 0.00025  max_mem: 5672M\n",
            "\u001b[32m[11/27 17:30:02 d2.utils.events]: \u001b[0m eta: 1:49:22  iter: 2919  total_loss: 0.2806  loss_cls: 0.03536  loss_box_reg: 0.1292  loss_mask: 0.1009  loss_rpn_cls: 8.818e-05  loss_rpn_loc: 0.003682  time: 2.0488  data_time: 0.0263  lr: 0.00025  max_mem: 5672M\n",
            "\u001b[32m[11/27 17:30:43 d2.utils.events]: \u001b[0m eta: 1:48:40  iter: 2939  total_loss: 0.2961  loss_cls: 0.03665  loss_box_reg: 0.148  loss_mask: 0.1117  loss_rpn_cls: 0.0001036  loss_rpn_loc: 0.00402  time: 2.0489  data_time: 0.0292  lr: 0.00025  max_mem: 5672M\n",
            "\u001b[32m[11/27 17:31:24 d2.utils.events]: \u001b[0m eta: 1:48:02  iter: 2959  total_loss: 0.2985  loss_cls: 0.03911  loss_box_reg: 0.145  loss_mask: 0.1041  loss_rpn_cls: 0.0003865  loss_rpn_loc: 0.003865  time: 2.0490  data_time: 0.0248  lr: 0.00025  max_mem: 5672M\n",
            "\u001b[32m[11/27 17:32:06 d2.utils.events]: \u001b[0m eta: 1:47:22  iter: 2979  total_loss: 0.2909  loss_cls: 0.04175  loss_box_reg: 0.132  loss_mask: 0.1073  loss_rpn_cls: 0.0003774  loss_rpn_loc: 0.003894  time: 2.0494  data_time: 0.0261  lr: 0.00025  max_mem: 5672M\n",
            "\u001b[32m[11/27 17:32:47 d2.utils.events]: \u001b[0m eta: 1:46:37  iter: 2999  total_loss: 0.2843  loss_cls: 0.03203  loss_box_reg: 0.1389  loss_mask: 0.1126  loss_rpn_cls: 0.0004733  loss_rpn_loc: 0.00415  time: 2.0493  data_time: 0.0251  lr: 0.00025  max_mem: 5672M\n",
            "\u001b[32m[11/27 17:33:29 d2.utils.events]: \u001b[0m eta: 1:45:57  iter: 3019  total_loss: 0.2717  loss_cls: 0.03856  loss_box_reg: 0.1247  loss_mask: 0.1028  loss_rpn_cls: 8.05e-05  loss_rpn_loc: 0.003992  time: 2.0494  data_time: 0.0243  lr: 0.00025  max_mem: 5672M\n",
            "\u001b[32m[11/27 17:34:09 d2.utils.events]: \u001b[0m eta: 1:45:16  iter: 3039  total_loss: 0.2849  loss_cls: 0.03654  loss_box_reg: 0.1376  loss_mask: 0.1119  loss_rpn_cls: 0.0001832  loss_rpn_loc: 0.003841  time: 2.0493  data_time: 0.0241  lr: 0.00025  max_mem: 5672M\n",
            "\u001b[32m[11/27 17:34:50 d2.utils.events]: \u001b[0m eta: 1:44:33  iter: 3059  total_loss: 0.2761  loss_cls: 0.03778  loss_box_reg: 0.1252  loss_mask: 0.1014  loss_rpn_cls: 0.0002124  loss_rpn_loc: 0.003896  time: 2.0491  data_time: 0.0306  lr: 0.00025  max_mem: 5672M\n",
            "\u001b[32m[11/27 17:35:30 d2.utils.events]: \u001b[0m eta: 1:43:51  iter: 3079  total_loss: 0.2763  loss_cls: 0.03342  loss_box_reg: 0.1353  loss_mask: 0.1068  loss_rpn_cls: 0.0001088  loss_rpn_loc: 0.003232  time: 2.0491  data_time: 0.0253  lr: 0.00025  max_mem: 5672M\n",
            "\u001b[32m[11/27 17:36:11 d2.utils.events]: \u001b[0m eta: 1:43:07  iter: 3099  total_loss: 0.2766  loss_cls: 0.03814  loss_box_reg: 0.1355  loss_mask: 0.1021  loss_rpn_cls: 0.0002016  loss_rpn_loc: 0.00408  time: 2.0488  data_time: 0.0233  lr: 0.00025  max_mem: 5672M\n",
            "\u001b[32m[11/27 17:36:52 d2.utils.events]: \u001b[0m eta: 1:42:25  iter: 3119  total_loss: 0.2754  loss_cls: 0.0303  loss_box_reg: 0.1326  loss_mask: 0.1046  loss_rpn_cls: 0.0001048  loss_rpn_loc: 0.004853  time: 2.0490  data_time: 0.0248  lr: 0.00025  max_mem: 5672M\n",
            "\u001b[32m[11/27 17:37:33 d2.utils.events]: \u001b[0m eta: 1:41:43  iter: 3139  total_loss: 0.2735  loss_cls: 0.03474  loss_box_reg: 0.1335  loss_mask: 0.1041  loss_rpn_cls: 0.0001105  loss_rpn_loc: 0.003391  time: 2.0490  data_time: 0.0254  lr: 0.00025  max_mem: 5672M\n",
            "\u001b[32m[11/27 17:38:16 d2.utils.events]: \u001b[0m eta: 1:41:02  iter: 3159  total_loss: 0.2813  loss_cls: 0.03711  loss_box_reg: 0.1261  loss_mask: 0.1059  loss_rpn_cls: 4.433e-05  loss_rpn_loc: 0.003451  time: 2.0494  data_time: 0.0256  lr: 0.00025  max_mem: 5672M\n",
            "\u001b[32m[11/27 17:38:57 d2.utils.events]: \u001b[0m eta: 1:40:18  iter: 3179  total_loss: 0.2626  loss_cls: 0.03806  loss_box_reg: 0.1208  loss_mask: 0.1006  loss_rpn_cls: 8.644e-05  loss_rpn_loc: 0.003839  time: 2.0494  data_time: 0.0245  lr: 0.00025  max_mem: 5672M\n",
            "\u001b[32m[11/27 17:39:38 d2.utils.events]: \u001b[0m eta: 1:39:35  iter: 3199  total_loss: 0.2812  loss_cls: 0.037  loss_box_reg: 0.1328  loss_mask: 0.1055  loss_rpn_cls: 9.332e-05  loss_rpn_loc: 0.00452  time: 2.0494  data_time: 0.0261  lr: 0.00025  max_mem: 5672M\n",
            "\u001b[32m[11/27 17:40:19 d2.utils.events]: \u001b[0m eta: 1:38:52  iter: 3219  total_loss: 0.2619  loss_cls: 0.03519  loss_box_reg: 0.1215  loss_mask: 0.1013  loss_rpn_cls: 0.0001396  loss_rpn_loc: 0.004388  time: 2.0495  data_time: 0.0269  lr: 0.00025  max_mem: 5672M\n",
            "\u001b[32m[11/27 17:41:00 d2.utils.events]: \u001b[0m eta: 1:38:11  iter: 3239  total_loss: 0.2823  loss_cls: 0.03332  loss_box_reg: 0.1254  loss_mask: 0.105  loss_rpn_cls: 0.0001723  loss_rpn_loc: 0.004412  time: 2.0495  data_time: 0.0280  lr: 0.00025  max_mem: 5672M\n",
            "\u001b[32m[11/27 17:41:41 d2.utils.events]: \u001b[0m eta: 1:37:26  iter: 3259  total_loss: 0.2707  loss_cls: 0.03095  loss_box_reg: 0.1334  loss_mask: 0.09751  loss_rpn_cls: 0.0001322  loss_rpn_loc: 0.003802  time: 2.0495  data_time: 0.0256  lr: 0.00025  max_mem: 5672M\n",
            "\u001b[32m[11/27 17:42:22 d2.utils.events]: \u001b[0m eta: 1:36:44  iter: 3279  total_loss: 0.2764  loss_cls: 0.03499  loss_box_reg: 0.1328  loss_mask: 0.1032  loss_rpn_cls: 0.0001715  loss_rpn_loc: 0.003758  time: 2.0496  data_time: 0.0259  lr: 0.00025  max_mem: 5672M\n",
            "\u001b[32m[11/27 17:43:04 d2.utils.events]: \u001b[0m eta: 1:36:01  iter: 3299  total_loss: 0.2676  loss_cls: 0.03305  loss_box_reg: 0.1293  loss_mask: 0.1008  loss_rpn_cls: 0.0001214  loss_rpn_loc: 0.003423  time: 2.0498  data_time: 0.0262  lr: 0.00025  max_mem: 5672M\n",
            "\u001b[32m[11/27 17:43:45 d2.utils.events]: \u001b[0m eta: 1:35:19  iter: 3319  total_loss: 0.2619  loss_cls: 0.0319  loss_box_reg: 0.1252  loss_mask: 0.09989  loss_rpn_cls: 0.0001106  loss_rpn_loc: 0.003442  time: 2.0498  data_time: 0.0242  lr: 0.00025  max_mem: 5672M\n",
            "\u001b[32m[11/27 17:44:26 d2.utils.events]: \u001b[0m eta: 1:34:37  iter: 3339  total_loss: 0.2839  loss_cls: 0.03508  loss_box_reg: 0.1351  loss_mask: 0.104  loss_rpn_cls: 0.0002117  loss_rpn_loc: 0.003821  time: 2.0497  data_time: 0.0243  lr: 0.00025  max_mem: 5672M\n",
            "\u001b[32m[11/27 17:45:08 d2.utils.events]: \u001b[0m eta: 1:33:54  iter: 3359  total_loss: 0.2783  loss_cls: 0.04229  loss_box_reg: 0.1264  loss_mask: 0.1102  loss_rpn_cls: 0.0001702  loss_rpn_loc: 0.003897  time: 2.0500  data_time: 0.0264  lr: 0.00025  max_mem: 5672M\n",
            "\u001b[32m[11/27 17:45:47 d2.utils.events]: \u001b[0m eta: 1:33:10  iter: 3379  total_loss: 0.2636  loss_cls: 0.03526  loss_box_reg: 0.1226  loss_mask: 0.09977  loss_rpn_cls: 0.0002164  loss_rpn_loc: 0.003789  time: 2.0496  data_time: 0.0249  lr: 0.00025  max_mem: 5672M\n",
            "\u001b[32m[11/27 17:46:29 d2.utils.events]: \u001b[0m eta: 1:32:27  iter: 3399  total_loss: 0.2623  loss_cls: 0.03098  loss_box_reg: 0.125  loss_mask: 0.1022  loss_rpn_cls: 9.113e-05  loss_rpn_loc: 0.003615  time: 2.0498  data_time: 0.0238  lr: 0.00025  max_mem: 5672M\n",
            "\u001b[32m[11/27 17:47:10 d2.utils.events]: \u001b[0m eta: 1:31:43  iter: 3419  total_loss: 0.2688  loss_cls: 0.03291  loss_box_reg: 0.128  loss_mask: 0.1032  loss_rpn_cls: 0.0001  loss_rpn_loc: 0.004003  time: 2.0497  data_time: 0.0237  lr: 0.00025  max_mem: 5672M\n",
            "\u001b[32m[11/27 17:47:50 d2.utils.events]: \u001b[0m eta: 1:30:58  iter: 3439  total_loss: 0.2858  loss_cls: 0.04535  loss_box_reg: 0.1322  loss_mask: 0.1028  loss_rpn_cls: 0.0001132  loss_rpn_loc: 0.004176  time: 2.0495  data_time: 0.0225  lr: 0.00025  max_mem: 5672M\n",
            "\u001b[32m[11/27 17:48:32 d2.utils.events]: \u001b[0m eta: 1:30:17  iter: 3459  total_loss: 0.2696  loss_cls: 0.03529  loss_box_reg: 0.1279  loss_mask: 0.1061  loss_rpn_cls: 0.0001494  loss_rpn_loc: 0.003996  time: 2.0497  data_time: 0.0268  lr: 0.00025  max_mem: 5672M\n",
            "\u001b[32m[11/27 17:49:13 d2.utils.events]: \u001b[0m eta: 1:29:35  iter: 3479  total_loss: 0.2881  loss_cls: 0.03879  loss_box_reg: 0.139  loss_mask: 0.1063  loss_rpn_cls: 7.106e-05  loss_rpn_loc: 0.004091  time: 2.0497  data_time: 0.0271  lr: 0.00025  max_mem: 5672M\n",
            "\u001b[32m[11/27 17:49:53 d2.utils.events]: \u001b[0m eta: 1:28:54  iter: 3499  total_loss: 0.2577  loss_cls: 0.03584  loss_box_reg: 0.1244  loss_mask: 0.09488  loss_rpn_cls: 9.879e-05  loss_rpn_loc: 0.003404  time: 2.0497  data_time: 0.0226  lr: 0.00025  max_mem: 5672M\n",
            "\u001b[32m[11/27 17:50:35 d2.utils.events]: \u001b[0m eta: 1:28:10  iter: 3519  total_loss: 0.2679  loss_cls: 0.033  loss_box_reg: 0.1273  loss_mask: 0.1057  loss_rpn_cls: 0.0001156  loss_rpn_loc: 0.003832  time: 2.0497  data_time: 0.0245  lr: 0.00025  max_mem: 5672M\n",
            "\u001b[32m[11/27 17:51:15 d2.utils.events]: \u001b[0m eta: 1:27:26  iter: 3539  total_loss: 0.2718  loss_cls: 0.03205  loss_box_reg: 0.1298  loss_mask: 0.1075  loss_rpn_cls: 0.0001259  loss_rpn_loc: 0.003706  time: 2.0496  data_time: 0.0277  lr: 0.00025  max_mem: 5672M\n",
            "\u001b[32m[11/27 17:51:54 d2.utils.events]: \u001b[0m eta: 1:26:42  iter: 3559  total_loss: 0.253  loss_cls: 0.03094  loss_box_reg: 0.1225  loss_mask: 0.09666  loss_rpn_cls: 9.276e-05  loss_rpn_loc: 0.003615  time: 2.0490  data_time: 0.0280  lr: 0.00025  max_mem: 5672M\n",
            "\u001b[32m[11/27 17:52:36 d2.utils.events]: \u001b[0m eta: 1:25:59  iter: 3579  total_loss: 0.2616  loss_cls: 0.03699  loss_box_reg: 0.1158  loss_mask: 0.1027  loss_rpn_cls: 0.0001226  loss_rpn_loc: 0.004813  time: 2.0492  data_time: 0.0239  lr: 0.00025  max_mem: 5672M\n",
            "\u001b[32m[11/27 17:53:17 d2.utils.events]: \u001b[0m eta: 1:25:16  iter: 3599  total_loss: 0.2605  loss_cls: 0.03393  loss_box_reg: 0.1228  loss_mask: 0.09628  loss_rpn_cls: 0.0001115  loss_rpn_loc: 0.003844  time: 2.0492  data_time: 0.0217  lr: 0.00025  max_mem: 5672M\n",
            "\u001b[32m[11/27 17:53:58 d2.utils.events]: \u001b[0m eta: 1:24:33  iter: 3619  total_loss: 0.2612  loss_cls: 0.03705  loss_box_reg: 0.124  loss_mask: 0.09902  loss_rpn_cls: 0.0001305  loss_rpn_loc: 0.003836  time: 2.0492  data_time: 0.0231  lr: 0.00025  max_mem: 5672M\n",
            "\u001b[32m[11/27 17:54:38 d2.utils.events]: \u001b[0m eta: 1:23:52  iter: 3639  total_loss: 0.2628  loss_cls: 0.03337  loss_box_reg: 0.1172  loss_mask: 0.101  loss_rpn_cls: 0.0002078  loss_rpn_loc: 0.004006  time: 2.0490  data_time: 0.0265  lr: 0.00025  max_mem: 5672M\n",
            "\u001b[32m[11/27 17:55:18 d2.utils.events]: \u001b[0m eta: 1:23:08  iter: 3659  total_loss: 0.2705  loss_cls: 0.03269  loss_box_reg: 0.1262  loss_mask: 0.1019  loss_rpn_cls: 0.0001045  loss_rpn_loc: 0.003786  time: 2.0488  data_time: 0.0276  lr: 0.00025  max_mem: 5672M\n",
            "\u001b[32m[11/27 17:55:59 d2.utils.events]: \u001b[0m eta: 1:22:24  iter: 3679  total_loss: 0.2591  loss_cls: 0.03056  loss_box_reg: 0.1223  loss_mask: 0.1017  loss_rpn_cls: 6.659e-05  loss_rpn_loc: 0.003828  time: 2.0487  data_time: 0.0266  lr: 0.00025  max_mem: 5672M\n",
            "\u001b[32m[11/27 17:56:40 d2.utils.events]: \u001b[0m eta: 1:21:40  iter: 3699  total_loss: 0.2544  loss_cls: 0.02983  loss_box_reg: 0.1165  loss_mask: 0.09858  loss_rpn_cls: 7.423e-05  loss_rpn_loc: 0.003879  time: 2.0486  data_time: 0.0235  lr: 0.00025  max_mem: 5672M\n",
            "\u001b[32m[11/27 17:57:21 d2.utils.events]: \u001b[0m eta: 1:20:56  iter: 3719  total_loss: 0.2537  loss_cls: 0.03405  loss_box_reg: 0.1202  loss_mask: 0.09902  loss_rpn_cls: 0.0001055  loss_rpn_loc: 0.003614  time: 2.0486  data_time: 0.0275  lr: 0.00025  max_mem: 5672M\n",
            "\u001b[32m[11/27 17:58:01 d2.utils.events]: \u001b[0m eta: 1:20:11  iter: 3739  total_loss: 0.2562  loss_cls: 0.03092  loss_box_reg: 0.121  loss_mask: 0.09799  loss_rpn_cls: 8.389e-05  loss_rpn_loc: 0.003342  time: 2.0483  data_time: 0.0239  lr: 0.00025  max_mem: 5672M\n",
            "\u001b[32m[11/27 17:58:42 d2.utils.events]: \u001b[0m eta: 1:19:27  iter: 3759  total_loss: 0.275  loss_cls: 0.03336  loss_box_reg: 0.1213  loss_mask: 0.09997  loss_rpn_cls: 0.0002488  loss_rpn_loc: 0.003686  time: 2.0483  data_time: 0.0247  lr: 0.00025  max_mem: 5672M\n",
            "\u001b[32m[11/27 17:59:23 d2.utils.events]: \u001b[0m eta: 1:18:44  iter: 3779  total_loss: 0.2451  loss_cls: 0.03027  loss_box_reg: 0.1153  loss_mask: 0.09471  loss_rpn_cls: 5.925e-05  loss_rpn_loc: 0.0034  time: 2.0484  data_time: 0.0248  lr: 0.00025  max_mem: 5672M\n",
            "\u001b[32m[11/27 18:00:04 d2.utils.events]: \u001b[0m eta: 1:18:01  iter: 3799  total_loss: 0.2559  loss_cls: 0.03766  loss_box_reg: 0.1198  loss_mask: 0.09631  loss_rpn_cls: 9.068e-05  loss_rpn_loc: 0.003522  time: 2.0484  data_time: 0.0261  lr: 0.00025  max_mem: 5672M\n",
            "\u001b[32m[11/27 18:00:45 d2.utils.events]: \u001b[0m eta: 1:17:17  iter: 3819  total_loss: 0.2595  loss_cls: 0.03498  loss_box_reg: 0.1218  loss_mask: 0.09751  loss_rpn_cls: 6.031e-05  loss_rpn_loc: 0.003559  time: 2.0484  data_time: 0.0253  lr: 0.00025  max_mem: 5672M\n",
            "\u001b[32m[11/27 18:01:27 d2.utils.events]: \u001b[0m eta: 1:16:36  iter: 3839  total_loss: 0.2481  loss_cls: 0.03358  loss_box_reg: 0.1126  loss_mask: 0.09442  loss_rpn_cls: 4.047e-05  loss_rpn_loc: 0.003105  time: 2.0486  data_time: 0.0273  lr: 0.00025  max_mem: 5672M\n",
            "\u001b[32m[11/27 18:02:08 d2.utils.events]: \u001b[0m eta: 1:15:53  iter: 3859  total_loss: 0.264  loss_cls: 0.0339  loss_box_reg: 0.1197  loss_mask: 0.1019  loss_rpn_cls: 0.0001217  loss_rpn_loc: 0.004331  time: 2.0488  data_time: 0.0268  lr: 0.00025  max_mem: 5672M\n",
            "\u001b[32m[11/27 18:02:48 d2.utils.events]: \u001b[0m eta: 1:15:10  iter: 3879  total_loss: 0.2499  loss_cls: 0.03274  loss_box_reg: 0.1172  loss_mask: 0.0939  loss_rpn_cls: 0.0001501  loss_rpn_loc: 0.003498  time: 2.0484  data_time: 0.0250  lr: 0.00025  max_mem: 5672M\n",
            "\u001b[32m[11/27 18:03:29 d2.utils.events]: \u001b[0m eta: 1:14:28  iter: 3899  total_loss: 0.2427  loss_cls: 0.02744  loss_box_reg: 0.1122  loss_mask: 0.09979  loss_rpn_cls: 0.0001216  loss_rpn_loc: 0.003598  time: 2.0484  data_time: 0.0255  lr: 0.00025  max_mem: 5672M\n",
            "\u001b[32m[11/27 18:04:10 d2.utils.events]: \u001b[0m eta: 1:13:45  iter: 3919  total_loss: 0.2494  loss_cls: 0.03639  loss_box_reg: 0.1125  loss_mask: 0.09546  loss_rpn_cls: 0.0001616  loss_rpn_loc: 0.003457  time: 2.0484  data_time: 0.0257  lr: 0.00025  max_mem: 5672M\n",
            "\u001b[32m[11/27 18:04:51 d2.utils.events]: \u001b[0m eta: 1:13:02  iter: 3939  total_loss: 0.2489  loss_cls: 0.03001  loss_box_reg: 0.1121  loss_mask: 0.09663  loss_rpn_cls: 0.0001352  loss_rpn_loc: 0.003287  time: 2.0484  data_time: 0.0259  lr: 0.00025  max_mem: 5672M\n",
            "\u001b[32m[11/27 18:05:31 d2.utils.events]: \u001b[0m eta: 1:12:18  iter: 3959  total_loss: 0.2362  loss_cls: 0.02573  loss_box_reg: 0.1114  loss_mask: 0.09486  loss_rpn_cls: 0.0001254  loss_rpn_loc: 0.003418  time: 2.0482  data_time: 0.0258  lr: 0.00025  max_mem: 5672M\n",
            "\u001b[32m[11/27 18:06:13 d2.utils.events]: \u001b[0m eta: 1:11:36  iter: 3979  total_loss: 0.2711  loss_cls: 0.03501  loss_box_reg: 0.1273  loss_mask: 0.1028  loss_rpn_cls: 5.128e-05  loss_rpn_loc: 0.003808  time: 2.0483  data_time: 0.0216  lr: 0.00025  max_mem: 5672M\n",
            "\u001b[32m[11/27 18:06:54 d2.utils.events]: \u001b[0m eta: 1:10:55  iter: 3999  total_loss: 0.2389  loss_cls: 0.02802  loss_box_reg: 0.1129  loss_mask: 0.09139  loss_rpn_cls: 0.0003627  loss_rpn_loc: 0.0039  time: 2.0484  data_time: 0.0228  lr: 0.00025  max_mem: 5672M\n",
            "\u001b[32m[11/27 18:07:35 d2.utils.events]: \u001b[0m eta: 1:10:12  iter: 4019  total_loss: 0.2378  loss_cls: 0.03051  loss_box_reg: 0.1131  loss_mask: 0.09068  loss_rpn_cls: 5.989e-05  loss_rpn_loc: 0.003852  time: 2.0484  data_time: 0.0258  lr: 0.00025  max_mem: 5672M\n",
            "\u001b[32m[11/27 18:08:16 d2.utils.events]: \u001b[0m eta: 1:09:29  iter: 4039  total_loss: 0.2536  loss_cls: 0.03385  loss_box_reg: 0.1171  loss_mask: 0.09531  loss_rpn_cls: 0.0001437  loss_rpn_loc: 0.003848  time: 2.0484  data_time: 0.0257  lr: 0.00025  max_mem: 5672M\n",
            "\u001b[32m[11/27 18:08:57 d2.utils.events]: \u001b[0m eta: 1:08:47  iter: 4059  total_loss: 0.2596  loss_cls: 0.03135  loss_box_reg: 0.1235  loss_mask: 0.1014  loss_rpn_cls: 0.0001865  loss_rpn_loc: 0.004107  time: 2.0484  data_time: 0.0239  lr: 0.00025  max_mem: 5672M\n",
            "\u001b[32m[11/27 18:09:39 d2.utils.events]: \u001b[0m eta: 1:08:06  iter: 4079  total_loss: 0.2484  loss_cls: 0.03354  loss_box_reg: 0.1143  loss_mask: 0.09718  loss_rpn_cls: 0.0001718  loss_rpn_loc: 0.003532  time: 2.0486  data_time: 0.0271  lr: 0.00025  max_mem: 5672M\n",
            "\u001b[32m[11/27 18:10:20 d2.utils.events]: \u001b[0m eta: 1:07:23  iter: 4099  total_loss: 0.2369  loss_cls: 0.03149  loss_box_reg: 0.1115  loss_mask: 0.09267  loss_rpn_cls: 4.501e-05  loss_rpn_loc: 0.003005  time: 2.0487  data_time: 0.0226  lr: 0.00025  max_mem: 5672M\n",
            "\u001b[32m[11/27 18:11:02 d2.utils.events]: \u001b[0m eta: 1:06:41  iter: 4119  total_loss: 0.2506  loss_cls: 0.02703  loss_box_reg: 0.1138  loss_mask: 0.095  loss_rpn_cls: 7.015e-05  loss_rpn_loc: 0.003938  time: 2.0489  data_time: 0.0259  lr: 0.00025  max_mem: 5672M\n",
            "\u001b[32m[11/27 18:11:43 d2.utils.events]: \u001b[0m eta: 1:05:59  iter: 4139  total_loss: 0.2399  loss_cls: 0.02862  loss_box_reg: 0.1116  loss_mask: 0.09514  loss_rpn_cls: 9.314e-05  loss_rpn_loc: 0.003748  time: 2.0490  data_time: 0.0259  lr: 0.00025  max_mem: 5672M\n",
            "\u001b[32m[11/27 18:12:25 d2.utils.events]: \u001b[0m eta: 1:05:14  iter: 4159  total_loss: 0.2471  loss_cls: 0.03416  loss_box_reg: 0.1091  loss_mask: 0.09113  loss_rpn_cls: 3.542e-05  loss_rpn_loc: 0.003282  time: 2.0492  data_time: 0.0242  lr: 0.00025  max_mem: 5672M\n",
            "\u001b[32m[11/27 18:13:06 d2.utils.events]: \u001b[0m eta: 1:04:32  iter: 4179  total_loss: 0.2354  loss_cls: 0.02736  loss_box_reg: 0.1034  loss_mask: 0.09478  loss_rpn_cls: 4.926e-05  loss_rpn_loc: 0.003385  time: 2.0492  data_time: 0.0251  lr: 0.00025  max_mem: 5672M\n",
            "\u001b[32m[11/27 18:13:47 d2.utils.events]: \u001b[0m eta: 1:03:49  iter: 4199  total_loss: 0.2362  loss_cls: 0.02736  loss_box_reg: 0.1099  loss_mask: 0.09282  loss_rpn_cls: 8.336e-05  loss_rpn_loc: 0.003543  time: 2.0491  data_time: 0.0224  lr: 0.00025  max_mem: 5672M\n",
            "\u001b[32m[11/27 18:14:25 d2.utils.events]: \u001b[0m eta: 1:03:04  iter: 4219  total_loss: 0.2479  loss_cls: 0.03052  loss_box_reg: 0.1178  loss_mask: 0.09446  loss_rpn_cls: 0.0001214  loss_rpn_loc: 0.003612  time: 2.0486  data_time: 0.0211  lr: 0.00025  max_mem: 5672M\n",
            "\u001b[32m[11/27 18:15:06 d2.utils.events]: \u001b[0m eta: 1:02:21  iter: 4239  total_loss: 0.2425  loss_cls: 0.0314  loss_box_reg: 0.1046  loss_mask: 0.09183  loss_rpn_cls: 3.842e-05  loss_rpn_loc: 0.003554  time: 2.0484  data_time: 0.0239  lr: 0.00025  max_mem: 5672M\n",
            "\u001b[32m[11/27 18:15:46 d2.utils.events]: \u001b[0m eta: 1:01:37  iter: 4259  total_loss: 0.2421  loss_cls: 0.03259  loss_box_reg: 0.1084  loss_mask: 0.09381  loss_rpn_cls: 0.0001442  loss_rpn_loc: 0.003605  time: 2.0483  data_time: 0.0218  lr: 0.00025  max_mem: 5672M\n",
            "\u001b[32m[11/27 18:16:28 d2.utils.events]: \u001b[0m eta: 1:00:53  iter: 4279  total_loss: 0.243  loss_cls: 0.03138  loss_box_reg: 0.1078  loss_mask: 0.0918  loss_rpn_cls: 5.824e-05  loss_rpn_loc: 0.003865  time: 2.0484  data_time: 0.0253  lr: 0.00025  max_mem: 5672M\n",
            "\u001b[32m[11/27 18:17:09 d2.utils.events]: \u001b[0m eta: 1:00:09  iter: 4299  total_loss: 0.2456  loss_cls: 0.03041  loss_box_reg: 0.116  loss_mask: 0.09413  loss_rpn_cls: 8.407e-05  loss_rpn_loc: 0.003016  time: 2.0485  data_time: 0.0264  lr: 0.00025  max_mem: 5672M\n",
            "\u001b[32m[11/27 18:17:50 d2.utils.events]: \u001b[0m eta: 0:59:25  iter: 4319  total_loss: 0.2416  loss_cls: 0.02986  loss_box_reg: 0.118  loss_mask: 0.09834  loss_rpn_cls: 3.817e-05  loss_rpn_loc: 0.003885  time: 2.0484  data_time: 0.0246  lr: 0.00025  max_mem: 5672M\n",
            "\u001b[32m[11/27 18:18:30 d2.utils.events]: \u001b[0m eta: 0:58:42  iter: 4339  total_loss: 0.2503  loss_cls: 0.03206  loss_box_reg: 0.1194  loss_mask: 0.08993  loss_rpn_cls: 9.796e-05  loss_rpn_loc: 0.003559  time: 2.0483  data_time: 0.0289  lr: 0.00025  max_mem: 5672M\n",
            "\u001b[32m[11/27 18:19:12 d2.utils.events]: \u001b[0m eta: 0:58:00  iter: 4359  total_loss: 0.2428  loss_cls: 0.03002  loss_box_reg: 0.1098  loss_mask: 0.09458  loss_rpn_cls: 7.742e-05  loss_rpn_loc: 0.003419  time: 2.0484  data_time: 0.0314  lr: 0.00025  max_mem: 5672M\n",
            "\u001b[32m[11/27 18:19:52 d2.utils.events]: \u001b[0m eta: 0:57:18  iter: 4379  total_loss: 0.244  loss_cls: 0.03206  loss_box_reg: 0.11  loss_mask: 0.0923  loss_rpn_cls: 0.0001158  loss_rpn_loc: 0.003487  time: 2.0483  data_time: 0.0260  lr: 0.00025  max_mem: 5672M\n",
            "\u001b[32m[11/27 18:20:33 d2.utils.events]: \u001b[0m eta: 0:56:35  iter: 4399  total_loss: 0.2416  loss_cls: 0.03189  loss_box_reg: 0.1129  loss_mask: 0.09521  loss_rpn_cls: 6.823e-05  loss_rpn_loc: 0.004015  time: 2.0483  data_time: 0.0257  lr: 0.00025  max_mem: 5672M\n",
            "\u001b[32m[11/27 18:21:12 d2.utils.events]: \u001b[0m eta: 0:55:51  iter: 4419  total_loss: 0.2327  loss_cls: 0.03012  loss_box_reg: 0.1059  loss_mask: 0.08786  loss_rpn_cls: 3.416e-05  loss_rpn_loc: 0.003732  time: 2.0479  data_time: 0.0269  lr: 0.00025  max_mem: 5672M\n",
            "\u001b[32m[11/27 18:21:53 d2.utils.events]: \u001b[0m eta: 0:55:08  iter: 4439  total_loss: 0.247  loss_cls: 0.02754  loss_box_reg: 0.1093  loss_mask: 0.09585  loss_rpn_cls: 7.152e-05  loss_rpn_loc: 0.003031  time: 2.0478  data_time: 0.0239  lr: 0.00025  max_mem: 5672M\n",
            "\u001b[32m[11/27 18:22:34 d2.utils.events]: \u001b[0m eta: 0:54:20  iter: 4459  total_loss: 0.2355  loss_cls: 0.03211  loss_box_reg: 0.1067  loss_mask: 0.08942  loss_rpn_cls: 8.738e-05  loss_rpn_loc: 0.003175  time: 2.0478  data_time: 0.0242  lr: 0.00025  max_mem: 5672M\n",
            "\u001b[32m[11/27 18:23:15 d2.utils.events]: \u001b[0m eta: 0:53:38  iter: 4479  total_loss: 0.2327  loss_cls: 0.03151  loss_box_reg: 0.1178  loss_mask: 0.09049  loss_rpn_cls: 6.171e-05  loss_rpn_loc: 0.003683  time: 2.0477  data_time: 0.0252  lr: 0.00025  max_mem: 5672M\n",
            "\u001b[32m[11/27 18:23:56 d2.utils.events]: \u001b[0m eta: 0:52:55  iter: 4499  total_loss: 0.2318  loss_cls: 0.0272  loss_box_reg: 0.1029  loss_mask: 0.09674  loss_rpn_cls: 5.414e-05  loss_rpn_loc: 0.003468  time: 2.0478  data_time: 0.0252  lr: 0.00025  max_mem: 5672M\n",
            "\u001b[32m[11/27 18:24:38 d2.utils.events]: \u001b[0m eta: 0:52:14  iter: 4519  total_loss: 0.2362  loss_cls: 0.02985  loss_box_reg: 0.1051  loss_mask: 0.09189  loss_rpn_cls: 0.0001004  loss_rpn_loc: 0.003104  time: 2.0480  data_time: 0.0246  lr: 0.00025  max_mem: 5672M\n",
            "\u001b[32m[11/27 18:25:18 d2.utils.events]: \u001b[0m eta: 0:51:31  iter: 4539  total_loss: 0.2357  loss_cls: 0.02955  loss_box_reg: 0.1042  loss_mask: 0.09031  loss_rpn_cls: 4.448e-05  loss_rpn_loc: 0.00326  time: 2.0479  data_time: 0.0199  lr: 0.00025  max_mem: 5672M\n",
            "\u001b[32m[11/27 18:25:59 d2.utils.events]: \u001b[0m eta: 0:50:54  iter: 4559  total_loss: 0.2465  loss_cls: 0.03039  loss_box_reg: 0.1096  loss_mask: 0.09507  loss_rpn_cls: 7.087e-05  loss_rpn_loc: 0.003595  time: 2.0479  data_time: 0.0239  lr: 0.00025  max_mem: 5672M\n",
            "\u001b[32m[11/27 18:26:41 d2.utils.events]: \u001b[0m eta: 0:50:11  iter: 4579  total_loss: 0.232  loss_cls: 0.02755  loss_box_reg: 0.1111  loss_mask: 0.08877  loss_rpn_cls: 5.603e-05  loss_rpn_loc: 0.002961  time: 2.0481  data_time: 0.0227  lr: 0.00025  max_mem: 5672M\n",
            "\u001b[32m[11/27 18:27:22 d2.utils.events]: \u001b[0m eta: 0:49:30  iter: 4599  total_loss: 0.2374  loss_cls: 0.03018  loss_box_reg: 0.1069  loss_mask: 0.09051  loss_rpn_cls: 0.0001357  loss_rpn_loc: 0.003385  time: 2.0481  data_time: 0.0270  lr: 0.00025  max_mem: 5672M\n",
            "\u001b[32m[11/27 18:28:03 d2.utils.events]: \u001b[0m eta: 0:48:46  iter: 4619  total_loss: 0.2508  loss_cls: 0.0324  loss_box_reg: 0.1118  loss_mask: 0.09166  loss_rpn_cls: 0.0001489  loss_rpn_loc: 0.003776  time: 2.0480  data_time: 0.0271  lr: 0.00025  max_mem: 5672M\n",
            "\u001b[32m[11/27 18:28:44 d2.utils.events]: \u001b[0m eta: 0:48:02  iter: 4639  total_loss: 0.2249  loss_cls: 0.02946  loss_box_reg: 0.1  loss_mask: 0.08904  loss_rpn_cls: 0.0001435  loss_rpn_loc: 0.003158  time: 2.0481  data_time: 0.0270  lr: 0.00025  max_mem: 5672M\n",
            "\u001b[32m[11/27 18:29:25 d2.utils.events]: \u001b[0m eta: 0:47:20  iter: 4659  total_loss: 0.2246  loss_cls: 0.0308  loss_box_reg: 0.1005  loss_mask: 0.09364  loss_rpn_cls: 7.499e-05  loss_rpn_loc: 0.003104  time: 2.0480  data_time: 0.0232  lr: 0.00025  max_mem: 5672M\n",
            "\u001b[32m[11/27 18:30:06 d2.utils.events]: \u001b[0m eta: 0:46:39  iter: 4679  total_loss: 0.2322  loss_cls: 0.02962  loss_box_reg: 0.1011  loss_mask: 0.09432  loss_rpn_cls: 0.0001116  loss_rpn_loc: 0.003399  time: 2.0481  data_time: 0.0248  lr: 0.00025  max_mem: 5672M\n",
            "\u001b[32m[11/27 18:30:47 d2.utils.events]: \u001b[0m eta: 0:45:58  iter: 4699  total_loss: 0.2326  loss_cls: 0.03028  loss_box_reg: 0.1088  loss_mask: 0.09313  loss_rpn_cls: 4.386e-05  loss_rpn_loc: 0.002916  time: 2.0481  data_time: 0.0219  lr: 0.00025  max_mem: 5672M\n",
            "\u001b[32m[11/27 18:31:28 d2.utils.events]: \u001b[0m eta: 0:45:14  iter: 4719  total_loss: 0.2284  loss_cls: 0.02812  loss_box_reg: 0.1017  loss_mask: 0.0893  loss_rpn_cls: 4.36e-05  loss_rpn_loc: 0.003065  time: 2.0481  data_time: 0.0270  lr: 0.00025  max_mem: 5672M\n",
            "\u001b[32m[11/27 18:32:10 d2.utils.events]: \u001b[0m eta: 0:44:35  iter: 4739  total_loss: 0.2324  loss_cls: 0.03325  loss_box_reg: 0.1086  loss_mask: 0.08671  loss_rpn_cls: 6.264e-05  loss_rpn_loc: 0.003656  time: 2.0482  data_time: 0.0265  lr: 0.00025  max_mem: 5672M\n",
            "\u001b[32m[11/27 18:32:50 d2.utils.events]: \u001b[0m eta: 0:43:53  iter: 4759  total_loss: 0.2258  loss_cls: 0.02847  loss_box_reg: 0.1019  loss_mask: 0.09274  loss_rpn_cls: 0.0001617  loss_rpn_loc: 0.003391  time: 2.0482  data_time: 0.0270  lr: 0.00025  max_mem: 5672M\n",
            "\u001b[32m[11/27 18:33:31 d2.utils.events]: \u001b[0m eta: 0:43:11  iter: 4779  total_loss: 0.2346  loss_cls: 0.02707  loss_box_reg: 0.1123  loss_mask: 0.09029  loss_rpn_cls: 8.783e-05  loss_rpn_loc: 0.003425  time: 2.0481  data_time: 0.0247  lr: 0.00025  max_mem: 5672M\n",
            "\u001b[32m[11/27 18:34:11 d2.utils.events]: \u001b[0m eta: 0:42:27  iter: 4799  total_loss: 0.2417  loss_cls: 0.03329  loss_box_reg: 0.1098  loss_mask: 0.09051  loss_rpn_cls: 5.336e-05  loss_rpn_loc: 0.003401  time: 2.0479  data_time: 0.0258  lr: 0.00025  max_mem: 5672M\n",
            "\u001b[32m[11/27 18:34:51 d2.utils.events]: \u001b[0m eta: 0:41:43  iter: 4819  total_loss: 0.2326  loss_cls: 0.02813  loss_box_reg: 0.1061  loss_mask: 0.09023  loss_rpn_cls: 7.692e-05  loss_rpn_loc: 0.003497  time: 2.0477  data_time: 0.0224  lr: 0.00025  max_mem: 5672M\n",
            "\u001b[32m[11/27 18:35:33 d2.utils.events]: \u001b[0m eta: 0:41:02  iter: 4839  total_loss: 0.2237  loss_cls: 0.03014  loss_box_reg: 0.104  loss_mask: 0.09164  loss_rpn_cls: 7.31e-05  loss_rpn_loc: 0.003107  time: 2.0479  data_time: 0.0273  lr: 0.00025  max_mem: 5672M\n",
            "\u001b[32m[11/27 18:36:12 d2.utils.events]: \u001b[0m eta: 0:40:17  iter: 4859  total_loss: 0.2159  loss_cls: 0.02848  loss_box_reg: 0.09616  loss_mask: 0.08789  loss_rpn_cls: 4.197e-05  loss_rpn_loc: 0.003221  time: 2.0476  data_time: 0.0259  lr: 0.00025  max_mem: 5672M\n",
            "\u001b[32m[11/27 18:36:53 d2.utils.events]: \u001b[0m eta: 0:39:36  iter: 4879  total_loss: 0.2406  loss_cls: 0.03423  loss_box_reg: 0.1068  loss_mask: 0.09006  loss_rpn_cls: 0.0001123  loss_rpn_loc: 0.003746  time: 2.0475  data_time: 0.0229  lr: 0.00025  max_mem: 5672M\n",
            "\u001b[32m[11/27 18:37:34 d2.utils.events]: \u001b[0m eta: 0:38:54  iter: 4899  total_loss: 0.2331  loss_cls: 0.02674  loss_box_reg: 0.1112  loss_mask: 0.09285  loss_rpn_cls: 3.16e-05  loss_rpn_loc: 0.003358  time: 2.0476  data_time: 0.0240  lr: 0.00025  max_mem: 5672M\n",
            "\u001b[32m[11/27 18:38:16 d2.utils.events]: \u001b[0m eta: 0:38:13  iter: 4919  total_loss: 0.2144  loss_cls: 0.02462  loss_box_reg: 0.1025  loss_mask: 0.08946  loss_rpn_cls: 0.0001185  loss_rpn_loc: 0.003374  time: 2.0477  data_time: 0.0239  lr: 0.00025  max_mem: 5672M\n",
            "\u001b[32m[11/27 18:38:56 d2.utils.events]: \u001b[0m eta: 0:37:30  iter: 4939  total_loss: 0.2229  loss_cls: 0.03067  loss_box_reg: 0.09983  loss_mask: 0.08905  loss_rpn_cls: 5.767e-05  loss_rpn_loc: 0.003228  time: 2.0476  data_time: 0.0240  lr: 0.00025  max_mem: 5672M\n",
            "\u001b[32m[11/27 18:39:37 d2.utils.events]: \u001b[0m eta: 0:36:48  iter: 4959  total_loss: 0.2292  loss_cls: 0.02852  loss_box_reg: 0.1089  loss_mask: 0.08841  loss_rpn_cls: 5.174e-05  loss_rpn_loc: 0.003037  time: 2.0476  data_time: 0.0253  lr: 0.00025  max_mem: 5672M\n",
            "\u001b[32m[11/27 18:40:18 d2.utils.events]: \u001b[0m eta: 0:36:04  iter: 4979  total_loss: 0.2234  loss_cls: 0.02465  loss_box_reg: 0.09976  loss_mask: 0.09002  loss_rpn_cls: 0.0001155  loss_rpn_loc: 0.004024  time: 2.0476  data_time: 0.0241  lr: 0.00025  max_mem: 5672M\n",
            "\u001b[32m[11/27 18:41:00 d2.utils.events]: \u001b[0m eta: 0:35:21  iter: 4999  total_loss: 0.2237  loss_cls: 0.02599  loss_box_reg: 0.1017  loss_mask: 0.08872  loss_rpn_cls: 0.0001313  loss_rpn_loc: 0.003199  time: 2.0476  data_time: 0.0272  lr: 0.00025  max_mem: 5672M\n",
            "\u001b[32m[11/27 18:41:42 d2.utils.events]: \u001b[0m eta: 0:34:38  iter: 5019  total_loss: 0.2204  loss_cls: 0.03012  loss_box_reg: 0.1028  loss_mask: 0.08626  loss_rpn_cls: 9.695e-05  loss_rpn_loc: 0.003104  time: 2.0476  data_time: 0.0289  lr: 0.00025  max_mem: 5672M\n",
            "\u001b[32m[11/27 18:42:21 d2.utils.events]: \u001b[0m eta: 0:33:54  iter: 5039  total_loss: 0.2296  loss_cls: 0.02841  loss_box_reg: 0.1045  loss_mask: 0.09169  loss_rpn_cls: 7.32e-05  loss_rpn_loc: 0.003689  time: 2.0473  data_time: 0.0247  lr: 0.00025  max_mem: 5672M\n",
            "\u001b[32m[11/27 18:43:01 d2.utils.events]: \u001b[0m eta: 0:33:08  iter: 5059  total_loss: 0.2133  loss_cls: 0.02611  loss_box_reg: 0.09746  loss_mask: 0.08939  loss_rpn_cls: 4.035e-05  loss_rpn_loc: 0.003153  time: 2.0471  data_time: 0.0220  lr: 0.00025  max_mem: 5672M\n",
            "\u001b[32m[11/27 18:43:43 d2.utils.events]: \u001b[0m eta: 0:32:25  iter: 5079  total_loss: 0.2185  loss_cls: 0.02764  loss_box_reg: 0.1004  loss_mask: 0.08828  loss_rpn_cls: 9.274e-05  loss_rpn_loc: 0.003116  time: 2.0472  data_time: 0.0232  lr: 0.00025  max_mem: 5672M\n",
            "\u001b[32m[11/27 18:44:24 d2.utils.events]: \u001b[0m eta: 0:31:44  iter: 5099  total_loss: 0.2197  loss_cls: 0.02981  loss_box_reg: 0.09814  loss_mask: 0.09242  loss_rpn_cls: 8.38e-05  loss_rpn_loc: 0.003248  time: 2.0472  data_time: 0.0239  lr: 0.00025  max_mem: 5672M\n",
            "\u001b[32m[11/27 18:45:05 d2.utils.events]: \u001b[0m eta: 0:31:00  iter: 5119  total_loss: 0.223  loss_cls: 0.02666  loss_box_reg: 0.09592  loss_mask: 0.08639  loss_rpn_cls: 9.91e-05  loss_rpn_loc: 0.002822  time: 2.0473  data_time: 0.0241  lr: 0.00025  max_mem: 5672M\n",
            "\u001b[32m[11/27 18:45:46 d2.utils.events]: \u001b[0m eta: 0:30:17  iter: 5139  total_loss: 0.2108  loss_cls: 0.02741  loss_box_reg: 0.09509  loss_mask: 0.08635  loss_rpn_cls: 8.879e-05  loss_rpn_loc: 0.004036  time: 2.0472  data_time: 0.0292  lr: 0.00025  max_mem: 5672M\n",
            "\u001b[32m[11/27 18:46:27 d2.utils.events]: \u001b[0m eta: 0:29:34  iter: 5159  total_loss: 0.2341  loss_cls: 0.02961  loss_box_reg: 0.1106  loss_mask: 0.09269  loss_rpn_cls: 2.892e-05  loss_rpn_loc: 0.003617  time: 2.0472  data_time: 0.0254  lr: 0.00025  max_mem: 5672M\n",
            "\u001b[32m[11/27 18:47:08 d2.utils.events]: \u001b[0m eta: 0:28:52  iter: 5179  total_loss: 0.2185  loss_cls: 0.0258  loss_box_reg: 0.1002  loss_mask: 0.0855  loss_rpn_cls: 5.52e-05  loss_rpn_loc: 0.003275  time: 2.0472  data_time: 0.0228  lr: 0.00025  max_mem: 5672M\n",
            "\u001b[32m[11/27 18:47:49 d2.utils.events]: \u001b[0m eta: 0:28:10  iter: 5199  total_loss: 0.2339  loss_cls: 0.03271  loss_box_reg: 0.1037  loss_mask: 0.09249  loss_rpn_cls: 7.101e-05  loss_rpn_loc: 0.003181  time: 2.0473  data_time: 0.0216  lr: 0.00025  max_mem: 5672M\n",
            "\u001b[32m[11/27 18:48:30 d2.utils.events]: \u001b[0m eta: 0:27:30  iter: 5219  total_loss: 0.2139  loss_cls: 0.02527  loss_box_reg: 0.1022  loss_mask: 0.08737  loss_rpn_cls: 4.799e-05  loss_rpn_loc: 0.003548  time: 2.0473  data_time: 0.0237  lr: 0.00025  max_mem: 5672M\n",
            "\u001b[32m[11/27 18:49:11 d2.utils.events]: \u001b[0m eta: 0:26:49  iter: 5239  total_loss: 0.2184  loss_cls: 0.03163  loss_box_reg: 0.09753  loss_mask: 0.08327  loss_rpn_cls: 4.732e-05  loss_rpn_loc: 0.00286  time: 2.0474  data_time: 0.0282  lr: 0.00025  max_mem: 5672M\n",
            "\u001b[32m[11/27 18:49:51 d2.utils.events]: \u001b[0m eta: 0:26:06  iter: 5259  total_loss: 0.2305  loss_cls: 0.02753  loss_box_reg: 0.1042  loss_mask: 0.09177  loss_rpn_cls: 0.0001503  loss_rpn_loc: 0.003645  time: 2.0471  data_time: 0.0247  lr: 0.00025  max_mem: 5672M\n",
            "\u001b[32m[11/27 18:50:32 d2.utils.events]: \u001b[0m eta: 0:25:23  iter: 5279  total_loss: 0.208  loss_cls: 0.02509  loss_box_reg: 0.09499  loss_mask: 0.08682  loss_rpn_cls: 3.971e-05  loss_rpn_loc: 0.003625  time: 2.0471  data_time: 0.0216  lr: 0.00025  max_mem: 5672M\n",
            "\u001b[32m[11/27 18:51:14 d2.utils.events]: \u001b[0m eta: 0:24:41  iter: 5299  total_loss: 0.2124  loss_cls: 0.02621  loss_box_reg: 0.09689  loss_mask: 0.08453  loss_rpn_cls: 4.886e-05  loss_rpn_loc: 0.003369  time: 2.0472  data_time: 0.0178  lr: 0.00025  max_mem: 5672M\n",
            "\u001b[32m[11/27 18:51:54 d2.utils.events]: \u001b[0m eta: 0:23:58  iter: 5319  total_loss: 0.2294  loss_cls: 0.02667  loss_box_reg: 0.1074  loss_mask: 0.09129  loss_rpn_cls: 9.123e-05  loss_rpn_loc: 0.002968  time: 2.0472  data_time: 0.0268  lr: 0.00025  max_mem: 5672M\n",
            "\u001b[32m[11/27 18:52:34 d2.utils.events]: \u001b[0m eta: 0:23:16  iter: 5339  total_loss: 0.2085  loss_cls: 0.02418  loss_box_reg: 0.09721  loss_mask: 0.08413  loss_rpn_cls: 5.232e-05  loss_rpn_loc: 0.003212  time: 2.0470  data_time: 0.0250  lr: 0.00025  max_mem: 5672M\n",
            "\u001b[32m[11/27 18:53:14 d2.utils.events]: \u001b[0m eta: 0:22:32  iter: 5359  total_loss: 0.2189  loss_cls: 0.02509  loss_box_reg: 0.09756  loss_mask: 0.086  loss_rpn_cls: 0.0001545  loss_rpn_loc: 0.003512  time: 2.0468  data_time: 0.0248  lr: 0.00025  max_mem: 5672M\n",
            "\u001b[32m[11/27 18:53:55 d2.utils.events]: \u001b[0m eta: 0:21:50  iter: 5379  total_loss: 0.2179  loss_cls: 0.02994  loss_box_reg: 0.09712  loss_mask: 0.08798  loss_rpn_cls: 3.872e-05  loss_rpn_loc: 0.003113  time: 2.0468  data_time: 0.0251  lr: 0.00025  max_mem: 5672M\n",
            "\u001b[32m[11/27 18:54:35 d2.utils.events]: \u001b[0m eta: 0:21:07  iter: 5399  total_loss: 0.2229  loss_cls: 0.02409  loss_box_reg: 0.1031  loss_mask: 0.08612  loss_rpn_cls: 6.93e-05  loss_rpn_loc: 0.002864  time: 2.0467  data_time: 0.0227  lr: 0.00025  max_mem: 5672M\n",
            "\u001b[32m[11/27 18:55:16 d2.utils.events]: \u001b[0m eta: 0:20:25  iter: 5419  total_loss: 0.2043  loss_cls: 0.02623  loss_box_reg: 0.09142  loss_mask: 0.08528  loss_rpn_cls: 0.0001897  loss_rpn_loc: 0.003176  time: 2.0466  data_time: 0.0218  lr: 0.00025  max_mem: 5672M\n",
            "\u001b[32m[11/27 18:55:57 d2.utils.events]: \u001b[0m eta: 0:19:43  iter: 5439  total_loss: 0.2079  loss_cls: 0.02387  loss_box_reg: 0.09217  loss_mask: 0.08359  loss_rpn_cls: 2.847e-05  loss_rpn_loc: 0.002736  time: 2.0466  data_time: 0.0236  lr: 0.00025  max_mem: 5672M\n",
            "\u001b[32m[11/27 18:56:37 d2.utils.events]: \u001b[0m eta: 0:19:02  iter: 5459  total_loss: 0.2149  loss_cls: 0.02589  loss_box_reg: 0.09685  loss_mask: 0.08646  loss_rpn_cls: 3.783e-05  loss_rpn_loc: 0.003418  time: 2.0465  data_time: 0.0240  lr: 0.00025  max_mem: 5672M\n",
            "\u001b[32m[11/27 18:57:18 d2.utils.events]: \u001b[0m eta: 0:18:18  iter: 5479  total_loss: 0.2132  loss_cls: 0.02452  loss_box_reg: 0.09384  loss_mask: 0.08564  loss_rpn_cls: 0.0001533  loss_rpn_loc: 0.003621  time: 2.0464  data_time: 0.0259  lr: 0.00025  max_mem: 5672M\n",
            "\u001b[32m[11/27 18:57:58 d2.utils.events]: \u001b[0m eta: 0:17:35  iter: 5499  total_loss: 0.2113  loss_cls: 0.02713  loss_box_reg: 0.09451  loss_mask: 0.08734  loss_rpn_cls: 8.816e-05  loss_rpn_loc: 0.002772  time: 2.0463  data_time: 0.0258  lr: 0.00025  max_mem: 5672M\n",
            "\u001b[32m[11/27 18:58:40 d2.utils.events]: \u001b[0m eta: 0:16:53  iter: 5519  total_loss: 0.2047  loss_cls: 0.02171  loss_box_reg: 0.09061  loss_mask: 0.0824  loss_rpn_cls: 5.349e-05  loss_rpn_loc: 0.003175  time: 2.0464  data_time: 0.0285  lr: 0.00025  max_mem: 5672M\n",
            "\u001b[32m[11/27 18:59:20 d2.utils.events]: \u001b[0m eta: 0:16:09  iter: 5539  total_loss: 0.2105  loss_cls: 0.0262  loss_box_reg: 0.09646  loss_mask: 0.08474  loss_rpn_cls: 0.0001914  loss_rpn_loc: 0.003168  time: 2.0463  data_time: 0.0268  lr: 0.00025  max_mem: 5672M\n",
            "\u001b[32m[11/27 19:00:01 d2.utils.events]: \u001b[0m eta: 0:15:23  iter: 5559  total_loss: 0.2208  loss_cls: 0.02696  loss_box_reg: 0.1011  loss_mask: 0.08527  loss_rpn_cls: 6.096e-05  loss_rpn_loc: 0.003177  time: 2.0463  data_time: 0.0277  lr: 0.00025  max_mem: 5672M\n",
            "\u001b[32m[11/27 19:00:41 d2.utils.events]: \u001b[0m eta: 0:14:33  iter: 5579  total_loss: 0.2101  loss_cls: 0.02379  loss_box_reg: 0.09503  loss_mask: 0.08582  loss_rpn_cls: 4.171e-05  loss_rpn_loc: 0.003226  time: 2.0462  data_time: 0.0235  lr: 0.00025  max_mem: 5672M\n",
            "\u001b[32m[11/27 19:01:23 d2.utils.events]: \u001b[0m eta: 0:13:59  iter: 5599  total_loss: 0.2046  loss_cls: 0.02442  loss_box_reg: 0.09397  loss_mask: 0.08263  loss_rpn_cls: 1.969e-05  loss_rpn_loc: 0.002877  time: 2.0464  data_time: 0.0240  lr: 0.00025  max_mem: 5672M\n",
            "\u001b[32m[11/27 19:02:04 d2.utils.events]: \u001b[0m eta: 0:13:22  iter: 5619  total_loss: 0.2  loss_cls: 0.02251  loss_box_reg: 0.08875  loss_mask: 0.08248  loss_rpn_cls: 2.489e-05  loss_rpn_loc: 0.002435  time: 2.0463  data_time: 0.0251  lr: 0.00025  max_mem: 5672M\n",
            "\u001b[32m[11/27 19:02:45 d2.utils.events]: \u001b[0m eta: 0:12:39  iter: 5639  total_loss: 0.2176  loss_cls: 0.02323  loss_box_reg: 0.101  loss_mask: 0.08845  loss_rpn_cls: 8.545e-05  loss_rpn_loc: 0.003155  time: 2.0463  data_time: 0.0262  lr: 0.00025  max_mem: 5672M\n",
            "\u001b[32m[11/27 19:03:25 d2.utils.events]: \u001b[0m eta: 0:11:56  iter: 5659  total_loss: 0.2079  loss_cls: 0.02598  loss_box_reg: 0.09481  loss_mask: 0.0852  loss_rpn_cls: 4.474e-05  loss_rpn_loc: 0.003274  time: 2.0463  data_time: 0.0249  lr: 0.00025  max_mem: 5672M\n",
            "\u001b[32m[11/27 19:04:06 d2.utils.events]: \u001b[0m eta: 0:11:05  iter: 5679  total_loss: 0.1929  loss_cls: 0.02383  loss_box_reg: 0.09129  loss_mask: 0.07757  loss_rpn_cls: 8.25e-05  loss_rpn_loc: 0.002867  time: 2.0461  data_time: 0.0269  lr: 0.00025  max_mem: 5672M\n",
            "\u001b[32m[11/27 19:04:47 d2.utils.events]: \u001b[0m eta: 0:10:23  iter: 5699  total_loss: 0.2246  loss_cls: 0.02745  loss_box_reg: 0.1008  loss_mask: 0.09052  loss_rpn_cls: 4.504e-05  loss_rpn_loc: 0.00328  time: 2.0462  data_time: 0.0247  lr: 0.00025  max_mem: 5672M\n",
            "\u001b[32m[11/27 19:05:29 d2.utils.events]: \u001b[0m eta: 0:09:51  iter: 5719  total_loss: 0.2161  loss_cls: 0.0273  loss_box_reg: 0.09894  loss_mask: 0.08484  loss_rpn_cls: 5.596e-05  loss_rpn_loc: 0.003534  time: 2.0464  data_time: 0.0257  lr: 0.00025  max_mem: 5672M\n",
            "\u001b[32m[11/27 19:06:09 d2.utils.events]: \u001b[0m eta: 0:08:47  iter: 5739  total_loss: 0.1972  loss_cls: 0.02462  loss_box_reg: 0.09045  loss_mask: 0.08526  loss_rpn_cls: 6.078e-05  loss_rpn_loc: 0.002734  time: 2.0462  data_time: 0.0281  lr: 0.00025  max_mem: 5672M\n",
            "\u001b[32m[11/27 19:06:50 d2.utils.events]: \u001b[0m eta: 0:08:06  iter: 5759  total_loss: 0.2109  loss_cls: 0.0243  loss_box_reg: 0.09267  loss_mask: 0.08834  loss_rpn_cls: 7.142e-05  loss_rpn_loc: 0.003475  time: 2.0463  data_time: 0.0249  lr: 0.00025  max_mem: 5672M\n",
            "\u001b[32m[11/27 19:07:31 d2.utils.events]: \u001b[0m eta: 0:07:24  iter: 5779  total_loss: 0.2098  loss_cls: 0.02505  loss_box_reg: 0.0962  loss_mask: 0.08373  loss_rpn_cls: 4.15e-05  loss_rpn_loc: 0.003199  time: 2.0462  data_time: 0.0260  lr: 0.00025  max_mem: 5672M\n",
            "\u001b[32m[11/27 19:08:11 d2.utils.events]: \u001b[0m eta: 0:06:55  iter: 5799  total_loss: 0.2018  loss_cls: 0.02372  loss_box_reg: 0.09675  loss_mask: 0.08476  loss_rpn_cls: 6.739e-05  loss_rpn_loc: 0.002893  time: 2.0462  data_time: 0.0222  lr: 0.00025  max_mem: 5672M\n",
            "\u001b[32m[11/27 19:08:52 d2.utils.events]: \u001b[0m eta: 0:06:17  iter: 5819  total_loss: 0.2177  loss_cls: 0.02211  loss_box_reg: 0.09944  loss_mask: 0.08305  loss_rpn_cls: 8.53e-05  loss_rpn_loc: 0.002785  time: 2.0460  data_time: 0.0247  lr: 0.00025  max_mem: 5672M\n",
            "\u001b[32m[11/27 19:09:33 d2.utils.events]: \u001b[0m eta: 0:05:34  iter: 5839  total_loss: 0.207  loss_cls: 0.02202  loss_box_reg: 0.09335  loss_mask: 0.08683  loss_rpn_cls: 2.955e-05  loss_rpn_loc: 0.00261  time: 2.0461  data_time: 0.0250  lr: 0.00025  max_mem: 5672M\n",
            "\u001b[32m[11/27 19:10:13 d2.utils.events]: \u001b[0m eta: 0:04:55  iter: 5859  total_loss: 0.2073  loss_cls: 0.02563  loss_box_reg: 0.09558  loss_mask: 0.07989  loss_rpn_cls: 3.932e-05  loss_rpn_loc: 0.003063  time: 2.0460  data_time: 0.0293  lr: 0.00025  max_mem: 5672M\n",
            "\u001b[32m[11/27 19:10:55 d2.utils.events]: \u001b[0m eta: 0:04:13  iter: 5879  total_loss: 0.2137  loss_cls: 0.02138  loss_box_reg: 0.09814  loss_mask: 0.08656  loss_rpn_cls: 4.563e-05  loss_rpn_loc: 0.002818  time: 2.0461  data_time: 0.0216  lr: 0.00025  max_mem: 5672M\n",
            "\u001b[32m[11/27 19:11:36 d2.utils.events]: \u001b[0m eta: 0:03:31  iter: 5899  total_loss: 0.2021  loss_cls: 0.02279  loss_box_reg: 0.09035  loss_mask: 0.08134  loss_rpn_cls: 9.067e-05  loss_rpn_loc: 0.003341  time: 2.0461  data_time: 0.0261  lr: 0.00025  max_mem: 5672M\n",
            "\u001b[32m[11/27 19:12:17 d2.utils.events]: \u001b[0m eta: 0:02:48  iter: 5919  total_loss: 0.2124  loss_cls: 0.02584  loss_box_reg: 0.1017  loss_mask: 0.08365  loss_rpn_cls: 2.202e-05  loss_rpn_loc: 0.00327  time: 2.0462  data_time: 0.0244  lr: 0.00025  max_mem: 5672M\n",
            "\u001b[32m[11/27 19:12:58 d2.utils.events]: \u001b[0m eta: 0:02:06  iter: 5939  total_loss: 0.2084  loss_cls: 0.0313  loss_box_reg: 0.08896  loss_mask: 0.08665  loss_rpn_cls: 7.185e-05  loss_rpn_loc: 0.003049  time: 2.0462  data_time: 0.0259  lr: 0.00025  max_mem: 5672M\n",
            "\u001b[32m[11/27 19:13:39 d2.utils.events]: \u001b[0m eta: 0:01:24  iter: 5959  total_loss: 0.2082  loss_cls: 0.02725  loss_box_reg: 0.0953  loss_mask: 0.08435  loss_rpn_cls: 5.608e-05  loss_rpn_loc: 0.003193  time: 2.0461  data_time: 0.0277  lr: 0.00025  max_mem: 5672M\n",
            "\u001b[32m[11/27 19:14:20 d2.utils.events]: \u001b[0m eta: 0:00:42  iter: 5979  total_loss: 0.1957  loss_cls: 0.02067  loss_box_reg: 0.08803  loss_mask: 0.08337  loss_rpn_cls: 0.0001291  loss_rpn_loc: 0.003324  time: 2.0462  data_time: 0.0281  lr: 0.00025  max_mem: 5672M\n",
            "\u001b[32m[11/27 19:15:01 d2.utils.events]: \u001b[0m eta: 0:00:00  iter: 5999  total_loss: 0.2003  loss_cls: 0.02379  loss_box_reg: 0.09166  loss_mask: 0.08163  loss_rpn_cls: 3.738e-05  loss_rpn_loc: 0.002941  time: 2.0460  data_time: 0.0228  lr: 0.00025  max_mem: 5672M\n",
            "\u001b[32m[11/27 19:15:01 d2.engine.hooks]: \u001b[0mOverall training speed: 5998 iterations in 3:24:31 (2.0460 s / it)\n",
            "\u001b[32m[11/27 19:15:01 d2.engine.hooks]: \u001b[0mTotal training time: 3:24:41 (0:00:09 on hooks)\n"
          ]
        }
      ]
    },
    {
      "cell_type": "code",
      "metadata": {
        "id": "O4cuzYDFUzB9",
        "colab": {
          "base_uri": "https://localhost:8080/"
        },
        "outputId": "3d696b35-45c8-4053-f422-1eb7d7aba90f"
      },
      "source": [
        "evaluator = COCOEvaluator(\"hushem100_mhsma100\", (\"bbox\", \"segm\"), False, output_dir=\"./output/\")\n",
        "val_loader = build_detection_test_loader(cfg, \"hushem100_mhsma100\")\n",
        "print(inference_on_dataset(trainer.model, val_loader, evaluator))"
      ],
      "execution_count": null,
      "outputs": [
        {
          "output_type": "stream",
          "name": "stdout",
          "text": [
            "\u001b[32m[11/27 19:15:04 d2.data.datasets.coco]: \u001b[0mLoaded 200 images in COCO format from hushem100_mhsma100.json\n",
            "\u001b[32m[11/27 19:15:04 d2.data.dataset_mapper]: \u001b[0m[DatasetMapper] Augmentations used in inference: [ResizeShortestEdge(short_edge_length=(800, 800), max_size=1333, sample_style='choice')]\n",
            "\u001b[32m[11/27 19:15:04 d2.data.common]: \u001b[0mSerializing 200 elements to byte tensors and concatenating them all ...\n",
            "\u001b[32m[11/27 19:15:04 d2.data.common]: \u001b[0mSerialized dataset takes 0.07 MiB\n",
            "\u001b[32m[11/27 19:15:04 d2.evaluation.evaluator]: \u001b[0mStart inference on 200 batches\n",
            "\u001b[32m[11/27 19:15:08 d2.evaluation.evaluator]: \u001b[0mInference done 11/200. Dataloading: 0.0016 s/iter. Inference: 0.2947 s/iter. Eval: 0.0007 s/iter. Total: 0.2969 s/iter. ETA=0:00:56\n",
            "\u001b[32m[11/27 19:15:13 d2.evaluation.evaluator]: \u001b[0mInference done 28/200. Dataloading: 0.0020 s/iter. Inference: 0.2955 s/iter. Eval: 0.0006 s/iter. Total: 0.2985 s/iter. ETA=0:00:51\n",
            "\u001b[32m[11/27 19:15:18 d2.evaluation.evaluator]: \u001b[0mInference done 45/200. Dataloading: 0.0024 s/iter. Inference: 0.2963 s/iter. Eval: 0.0006 s/iter. Total: 0.2996 s/iter. ETA=0:00:46\n",
            "\u001b[32m[11/27 19:15:23 d2.evaluation.evaluator]: \u001b[0mInference done 62/200. Dataloading: 0.0023 s/iter. Inference: 0.2956 s/iter. Eval: 0.0006 s/iter. Total: 0.2987 s/iter. ETA=0:00:41\n",
            "\u001b[32m[11/27 19:15:28 d2.evaluation.evaluator]: \u001b[0mInference done 79/200. Dataloading: 0.0022 s/iter. Inference: 0.2960 s/iter. Eval: 0.0006 s/iter. Total: 0.2991 s/iter. ETA=0:00:36\n",
            "\u001b[32m[11/27 19:15:33 d2.evaluation.evaluator]: \u001b[0mInference done 96/200. Dataloading: 0.0023 s/iter. Inference: 0.2960 s/iter. Eval: 0.0006 s/iter. Total: 0.2991 s/iter. ETA=0:00:31\n",
            "\u001b[32m[11/27 19:15:38 d2.evaluation.evaluator]: \u001b[0mInference done 113/200. Dataloading: 0.0022 s/iter. Inference: 0.2958 s/iter. Eval: 0.0006 s/iter. Total: 0.2988 s/iter. ETA=0:00:25\n",
            "\u001b[32m[11/27 19:15:43 d2.evaluation.evaluator]: \u001b[0mInference done 130/200. Dataloading: 0.0022 s/iter. Inference: 0.2951 s/iter. Eval: 0.0006 s/iter. Total: 0.2981 s/iter. ETA=0:00:20\n",
            "\u001b[32m[11/27 19:15:48 d2.evaluation.evaluator]: \u001b[0mInference done 147/200. Dataloading: 0.0023 s/iter. Inference: 0.2948 s/iter. Eval: 0.0006 s/iter. Total: 0.2979 s/iter. ETA=0:00:15\n",
            "\u001b[32m[11/27 19:15:54 d2.evaluation.evaluator]: \u001b[0mInference done 164/200. Dataloading: 0.0023 s/iter. Inference: 0.2946 s/iter. Eval: 0.0006 s/iter. Total: 0.2977 s/iter. ETA=0:00:10\n",
            "\u001b[32m[11/27 19:15:59 d2.evaluation.evaluator]: \u001b[0mInference done 181/200. Dataloading: 0.0023 s/iter. Inference: 0.2943 s/iter. Eval: 0.0006 s/iter. Total: 0.2974 s/iter. ETA=0:00:05\n",
            "\u001b[32m[11/27 19:16:04 d2.evaluation.evaluator]: \u001b[0mInference done 199/200. Dataloading: 0.0023 s/iter. Inference: 0.2940 s/iter. Eval: 0.0006 s/iter. Total: 0.2971 s/iter. ETA=0:00:00\n",
            "\u001b[32m[11/27 19:16:04 d2.evaluation.evaluator]: \u001b[0mTotal inference time: 0:00:57.979919 (0.297333 s / iter per device, on 1 devices)\n",
            "\u001b[32m[11/27 19:16:04 d2.evaluation.evaluator]: \u001b[0mTotal inference pure compute time: 0:00:57 (0.293936 s / iter per device, on 1 devices)\n",
            "\u001b[32m[11/27 19:16:04 d2.evaluation.coco_evaluation]: \u001b[0mPreparing results for COCO format ...\n",
            "\u001b[32m[11/27 19:16:04 d2.evaluation.coco_evaluation]: \u001b[0mSaving results to ./output/coco_instances_results.json\n",
            "\u001b[32m[11/27 19:16:04 d2.evaluation.coco_evaluation]: \u001b[0mEvaluating predictions with unofficial COCO API...\n",
            "Loading and preparing results...\n",
            "DONE (t=0.00s)\n",
            "creating index...\n",
            "index created!\n",
            "\u001b[32m[11/27 19:16:04 d2.evaluation.fast_eval_api]: \u001b[0mEvaluate annotation type *bbox*\n",
            "\u001b[32m[11/27 19:16:04 d2.evaluation.fast_eval_api]: \u001b[0mCOCOeval_opt.evaluate() finished in 0.05 seconds.\n",
            "\u001b[32m[11/27 19:16:04 d2.evaluation.fast_eval_api]: \u001b[0mAccumulating evaluation results...\n",
            "\u001b[32m[11/27 19:16:04 d2.evaluation.fast_eval_api]: \u001b[0mCOCOeval_opt.accumulate() finished in 0.01 seconds.\n",
            " Average Precision  (AP) @[ IoU=0.50:0.95 | area=   all | maxDets=100 ] = 0.953\n",
            " Average Precision  (AP) @[ IoU=0.50      | area=   all | maxDets=100 ] = 1.000\n",
            " Average Precision  (AP) @[ IoU=0.75      | area=   all | maxDets=100 ] = 1.000\n",
            " Average Precision  (AP) @[ IoU=0.50:0.95 | area= small | maxDets=100 ] = 0.946\n",
            " Average Precision  (AP) @[ IoU=0.50:0.95 | area=medium | maxDets=100 ] = 0.958\n",
            " Average Precision  (AP) @[ IoU=0.50:0.95 | area= large | maxDets=100 ] = 1.000\n",
            " Average Recall     (AR) @[ IoU=0.50:0.95 | area=   all | maxDets=  1 ] = 0.952\n",
            " Average Recall     (AR) @[ IoU=0.50:0.95 | area=   all | maxDets= 10 ] = 0.970\n",
            " Average Recall     (AR) @[ IoU=0.50:0.95 | area=   all | maxDets=100 ] = 0.970\n",
            " Average Recall     (AR) @[ IoU=0.50:0.95 | area= small | maxDets=100 ] = 0.962\n",
            " Average Recall     (AR) @[ IoU=0.50:0.95 | area=medium | maxDets=100 ] = 0.974\n",
            " Average Recall     (AR) @[ IoU=0.50:0.95 | area= large | maxDets=100 ] = 1.000\n",
            "\u001b[32m[11/27 19:16:04 d2.evaluation.coco_evaluation]: \u001b[0mEvaluation results for bbox: \n",
            "|   AP   |  AP50  |  AP75  |  APs   |  APm   |   APl   |\n",
            "|:------:|:------:|:------:|:------:|:------:|:-------:|\n",
            "| 95.329 | 99.998 | 99.998 | 94.596 | 95.789 | 100.000 |\n",
            "\u001b[32m[11/27 19:16:04 d2.evaluation.coco_evaluation]: \u001b[0mPer-category bbox AP: \n",
            "| category   | AP     | category   | AP     |\n",
            "|:-----------|:-------|:-----------|:-------|\n",
            "| glowa      | 96.202 | ogon       | 94.456 |\n",
            "Loading and preparing results...\n",
            "DONE (t=0.01s)\n",
            "creating index...\n",
            "index created!\n",
            "\u001b[32m[11/27 19:16:04 d2.evaluation.fast_eval_api]: \u001b[0mEvaluate annotation type *segm*\n",
            "\u001b[32m[11/27 19:16:04 d2.evaluation.fast_eval_api]: \u001b[0mCOCOeval_opt.evaluate() finished in 0.06 seconds.\n",
            "\u001b[32m[11/27 19:16:04 d2.evaluation.fast_eval_api]: \u001b[0mAccumulating evaluation results...\n",
            "\u001b[32m[11/27 19:16:04 d2.evaluation.fast_eval_api]: \u001b[0mCOCOeval_opt.accumulate() finished in 0.01 seconds.\n",
            " Average Precision  (AP) @[ IoU=0.50:0.95 | area=   all | maxDets=100 ] = 0.749\n",
            " Average Precision  (AP) @[ IoU=0.50      | area=   all | maxDets=100 ] = 0.985\n",
            " Average Precision  (AP) @[ IoU=0.75      | area=   all | maxDets=100 ] = 0.886\n",
            " Average Precision  (AP) @[ IoU=0.50:0.95 | area= small | maxDets=100 ] = 0.726\n",
            " Average Precision  (AP) @[ IoU=0.50:0.95 | area=medium | maxDets=100 ] = 0.770\n",
            " Average Precision  (AP) @[ IoU=0.50:0.95 | area= large | maxDets=100 ] = 0.000\n",
            " Average Recall     (AR) @[ IoU=0.50:0.95 | area=   all | maxDets=  1 ] = 0.787\n",
            " Average Recall     (AR) @[ IoU=0.50:0.95 | area=   all | maxDets= 10 ] = 0.799\n",
            " Average Recall     (AR) @[ IoU=0.50:0.95 | area=   all | maxDets=100 ] = 0.799\n",
            " Average Recall     (AR) @[ IoU=0.50:0.95 | area= small | maxDets=100 ] = 0.821\n",
            " Average Recall     (AR) @[ IoU=0.50:0.95 | area=medium | maxDets=100 ] = 0.779\n",
            " Average Recall     (AR) @[ IoU=0.50:0.95 | area= large | maxDets=100 ] = 0.000\n",
            "\u001b[32m[11/27 19:16:04 d2.evaluation.coco_evaluation]: \u001b[0mEvaluation results for segm: \n",
            "|   AP   |  AP50  |  AP75  |  APs   |  APm   |  APl  |\n",
            "|:------:|:------:|:------:|:------:|:------:|:-----:|\n",
            "| 74.894 | 98.493 | 88.601 | 72.632 | 77.011 | 0.000 |\n",
            "\u001b[32m[11/27 19:16:04 d2.evaluation.coco_evaluation]: \u001b[0mPer-category segm AP: \n",
            "| category   | AP     | category   | AP     |\n",
            "|:-----------|:-------|:-----------|:-------|\n",
            "| glowa      | 88.547 | ogon       | 61.240 |\n",
            "OrderedDict([('bbox', {'AP': 95.32925652976239, 'AP50': 99.99752475247526, 'AP75': 99.99752475247526, 'APs': 94.59645451854139, 'APm': 95.7889829580511, 'APl': 100.0, 'AP-glowa': 96.2021401714311, 'AP-ogon': 94.45637288809368}), ('segm', {'AP': 74.89369599332102, 'AP50': 98.49307844691755, 'AP75': 88.60112164284797, 'APs': 72.63204904090567, 'APm': 77.0114680026566, 'APl': 0.0, 'AP-glowa': 88.5471661375538, 'AP-ogon': 61.240225849088226})])\n"
          ]
        }
      ]
    },
    {
      "cell_type": "code",
      "metadata": {
        "id": "9p1pycxwEmNF"
      },
      "source": [
        "def getMasksOfWantedClass(outputs, label):\n",
        "  predicted_classes = outputs['instances'].pred_classes\n",
        "  predicted_classes = predicted_classes.to('cpu').tolist()\n",
        "  is_wanted_class = [x==label for x in predicted_classes]\n",
        "\n",
        "  masks = outputs['instances'].pred_masks[is_wanted_class]\n",
        "  masks  = masks.to('cpu').numpy()\n",
        "  return masks\n",
        "\n",
        "def showMasks(masks, scale=255):\n",
        "  for m in masks:\n",
        "    cv2_imshow(m)\n",
        "\n",
        "def saveMasks(masks, scale=1, prefix = \"./bin_masks/mask\"):\n",
        "  i = 1\n",
        "  for m in masks:\n",
        "    filename = prefix + str(i) + \".png\"\n",
        "    cv2.imwrite(filename, m*scale)"
      ],
      "execution_count": null,
      "outputs": []
    },
    {
      "cell_type": "code",
      "metadata": {
        "colab": {
          "base_uri": "https://localhost:8080/",
          "height": 1000
        },
        "id": "RnnfpCTNbqcf",
        "outputId": "4c39eace-bd57-4c1f-b5b1-bdeb2fde8a2f"
      },
      "source": [
        "import cv2\n",
        "import os\n",
        "from detectron2.utils.visualizer import ColorMode\n",
        "i=0\n",
        "photos = os.listdir('/content/pyrioform')\n",
        "for photo in [p for p in photos if p.endswith('.png')]:\n",
        "  i+=1\n",
        "  path = f'/content/pyrioform/{photo}'\n",
        "  print(photo)\n",
        "  im = cv2.imread(path)\n",
        "  cfg.MODEL.WEIGHTS = os.path.join(cfg.OUTPUT_DIR, \"model_final.pth\")  # path to the model we just trained\n",
        "  cfg.MODEL.ROI_HEADS.SCORE_THRESH_TEST = 0.7   # set a custom testing threshold\n",
        "  predictor = DefaultPredictor(cfg)\n",
        "  outputs = predictor(im)\n",
        "  v = Visualizer(im[:,:,::-1], metadata=mhsma_metadata, scale=1.2, instance_mode=ColorMode.IMAGE_BW)\n",
        "  out = v.draw_instance_predictions(outputs[\"instances\"].to(\"cpu\"))\n",
        "   # cv2.imwrite(f'/content/amorphous/wyniki/wynik_hushem100_invicta150_mhsma100{i}.png', out.get_image()[:, :, ::-1])\n",
        "  mask_array = outputs['instances'].pred_masks.to(\"cpu\").numpy()\n",
        "  num_instances = mask_array.shape[0]\n",
        "  scores = outputs['instances'].scores.to(\"cpu\").numpy()\n",
        "  labels = outputs['instances'].pred_classes.to(\"cpu\").numpy()\n",
        "  bbox   = outputs['instances'].pred_boxes.to(\"cpu\").tensor.numpy()\n",
        "\n",
        "  mask_array = np.moveaxis(mask_array, 0, -1)\n",
        "\n",
        "  mask_array_instance = []\n",
        "  #img = np.zeros_like(im) #black\n",
        "  h = im.shape[0]\n",
        "  w = im.shape[1]\n",
        "  img_mask = np.zeros([h, w, 3], np.uint8)\n",
        "  color = (255, 255, 255)\n",
        "  for j in np.nditer(labels):\n",
        "    if j == 0:\n",
        "      for i in range(1):\n",
        "          img = np.zeros_like(im)\n",
        "          mask_array_instance.append(mask_array[:, :, i:(i+1)])\n",
        "          img = np.where(mask_array_instance[i] == True, 255, img)\n",
        "          array_img = np.asarray(img)\n",
        "          img_mask[np.where((array_img==[255,255,255]).all(axis=2))]=color\n",
        "  \n",
        "      \n",
        "  img_mask = np.asarray(img_mask)\n",
        "  output = cv2.addWeighted(im, 0.7, img_mask, 0.3, 0)\n",
        "  cv2.imwrite(f'/content/pyrioform/wyniki/{photo}.png', img_mask)\n",
        "  cv2_imshow(img_mask)\n",
        "  \n",
        "  # print(labels[1])"
      ],
      "execution_count": null,
      "outputs": [
        {
          "output_type": "stream",
          "name": "stdout",
          "text": [
            "pyriform_50.png\n"
          ]
        },
        {
          "output_type": "display_data",
          "data": {
            "image/png": "[encoded data removed]",
            "text/plain": [
              "<PIL.Image.Image image mode=RGB size=131x131 at 0x7F1F301354D0>"
            ]
          },
          "metadata": {}
        },
        {
          "output_type": "stream",
          "name": "stdout",
          "text": [
            "pyriform_54.png\n"
          ]
        },
        {
          "output_type": "display_data",
          "data": {
            "image/png": "[encoded data removed]",
            "text/plain": [
              "<PIL.Image.Image image mode=RGB size=131x131 at 0x7F1F2F72D7D0>"
            ]
          },
          "metadata": {}
        },
        {
          "output_type": "stream",
          "name": "stdout",
          "text": [
            "pyriform_6.png\n"
          ]
        },
        {
          "output_type": "display_data",
          "data": {
            "image/png": "[encoded data removed]",
            "text/plain": [
              "<PIL.Image.Image image mode=RGB size=131x131 at 0x7F1F2FF20AD0>"
            ]
          },
          "metadata": {}
        },
        {
          "output_type": "stream",
          "name": "stdout",
          "text": [
            "pyriform_20.png\n"
          ]
        },
        {
          "output_type": "display_data",
          "data": {
            "image/png": "[encoded data removed]",
            "text/plain": [
              "<PIL.Image.Image image mode=RGB size=131x131 at 0x7F1F2F9BE7D0>"
            ]
          },
          "metadata": {}
        },
        {
          "output_type": "stream",
          "name": "stdout",
          "text": [
            "pyriform_45.png\n"
          ]
        },
        {
          "output_type": "display_data",
          "data": {
            "image/png": "[encoded data removed]",
            "text/plain": [
              "<PIL.Image.Image image mode=RGB size=131x131 at 0x7F1F2F5B1910>"
            ]
          },
          "metadata": {}
        },
        {
          "output_type": "stream",
          "name": "stdout",
          "text": [
            "pyriform_4.png\n"
          ]
        },
        {
          "output_type": "display_data",
          "data": {
            "image/png": "[encoded data removed]",
            "text/plain": [
              "<PIL.Image.Image image mode=RGB size=131x131 at 0x7F1F2F539E10>"
            ]
          },
          "metadata": {}
        },
        {
          "output_type": "stream",
          "name": "stdout",
          "text": [
            "pyriform_3.png\n"
          ]
        },
        {
          "output_type": "display_data",
          "data": {
            "image/png": "[encoded data removed]",
            "text/plain": [
              "<PIL.Image.Image image mode=RGB size=131x131 at 0x7F1F2F3CBB10>"
            ]
          },
          "metadata": {}
        },
        {
          "output_type": "stream",
          "name": "stdout",
          "text": [
            "pyriform_47.png\n"
          ]
        },
        {
          "output_type": "display_data",
          "data": {
            "image/png": "[encoded data removed]",
            "text/plain": [
              "<PIL.Image.Image image mode=RGB size=131x131 at 0x7F1F2F708A90>"
            ]
          },
          "metadata": {}
        },
        {
          "output_type": "stream",
          "name": "stdout",
          "text": [
            "pyriform_25.png\n"
          ]
        },
        {
          "output_type": "display_data",
          "data": {
            "image/png": "[encoded data removed]",
            "text/plain": [
              "<PIL.Image.Image image mode=RGB size=131x131 at 0x7F1F2F346D90>"
            ]
          },
          "metadata": {}
        },
        {
          "output_type": "stream",
          "name": "stdout",
          "text": [
            "pyriform_55.png\n"
          ]
        },
        {
          "output_type": "display_data",
          "data": {
            "image/png": "[encoded data removed]",
            "text/plain": [
              "<PIL.Image.Image image mode=RGB size=131x131 at 0x7F1F2F86A8D0>"
            ]
          },
          "metadata": {}
        },
        {
          "output_type": "stream",
          "name": "stdout",
          "text": [
            "pyriform_1.png\n"
          ]
        },
        {
          "output_type": "display_data",
          "data": {
            "image/png": "[encoded data removed]",
            "text/plain": [
              "<PIL.Image.Image image mode=RGB size=131x131 at 0x7F1F2C1EB990>"
            ]
          },
          "metadata": {}
        },
        {
          "output_type": "stream",
          "name": "stdout",
          "text": [
            "pyriform_42.png\n"
          ]
        },
        {
          "output_type": "display_data",
          "data": {
            "image/png": "[encoded data removed]",
            "text/plain": [
              "<PIL.Image.Image image mode=RGB size=131x131 at 0x7F1F2F373510>"
            ]
          },
          "metadata": {}
        },
        {
          "output_type": "stream",
          "name": "stdout",
          "text": [
            "pyriform_37.png\n"
          ]
        },
        {
          "output_type": "display_data",
          "data": {
            "image/png": "[encoded data removed]",
            "text/plain": [
              "<PIL.Image.Image image mode=RGB size=131x131 at 0x7F1F2C115050>"
            ]
          },
          "metadata": {}
        },
        {
          "output_type": "stream",
          "name": "stdout",
          "text": [
            "pyriform_7.png\n"
          ]
        },
        {
          "output_type": "display_data",
          "data": {
            "image/png": "[encoded data removed]",
            "text/plain": [
              "<PIL.Image.Image image mode=RGB size=131x131 at 0x7F1F2F3A0B90>"
            ]
          },
          "metadata": {}
        },
        {
          "output_type": "stream",
          "name": "stdout",
          "text": [
            "pyriform_22.png\n"
          ]
        },
        {
          "output_type": "display_data",
          "data": {
            "image/png": "[encoded data removed]",
            "text/plain": [
              "<PIL.Image.Image image mode=RGB size=131x131 at 0x7F1F2C212750>"
            ]
          },
          "metadata": {}
        },
        {
          "output_type": "stream",
          "name": "stdout",
          "text": [
            "pyriform_16.png\n"
          ]
        },
        {
          "output_type": "display_data",
          "data": {
            "image/png": "[encoded data removed]",
            "text/plain": [
              "<PIL.Image.Image image mode=RGB size=131x131 at 0x7F1F2C0D7050>"
            ]
          },
          "metadata": {}
        },
        {
          "output_type": "stream",
          "name": "stdout",
          "text": [
            "pyriform_17.png\n"
          ]
        },
        {
          "output_type": "display_data",
          "data": {
            "image/png": "[encoded data removed]",
            "text/plain": [
              "<PIL.Image.Image image mode=RGB size=131x131 at 0x7F1F2C251450>"
            ]
          },
          "metadata": {}
        },
        {
          "output_type": "stream",
          "name": "stdout",
          "text": [
            "pyriform_15.png\n"
          ]
        },
        {
          "output_type": "display_data",
          "data": {
            "image/png": "[encoded data removed]",
            "text/plain": [
              "<PIL.Image.Image image mode=RGB size=131x118 at 0x7F1F2C212050>"
            ]
          },
          "metadata": {}
        },
        {
          "output_type": "stream",
          "name": "stdout",
          "text": [
            "pyriform_41.png\n"
          ]
        },
        {
          "output_type": "display_data",
          "data": {
            "image/png": "[encoded data removed]",
            "text/plain": [
              "<PIL.Image.Image image mode=RGB size=131x131 at 0x7F1F2F72D990>"
            ]
          },
          "metadata": {}
        },
        {
          "output_type": "stream",
          "name": "stdout",
          "text": [
            "pyriform_36.png\n"
          ]
        },
        {
          "output_type": "display_data",
          "data": {
            "image/png": "[encoded data removed]",
            "text/plain": [
              "<PIL.Image.Image image mode=RGB size=131x131 at 0x7F1F2FCF4DD0>"
            ]
          },
          "metadata": {}
        },
        {
          "output_type": "stream",
          "name": "stdout",
          "text": [
            "pyriform_5.png\n"
          ]
        },
        {
          "output_type": "display_data",
          "data": {
            "image/png": "[encoded data removed]",
            "text/plain": [
              "<PIL.Image.Image image mode=RGB size=131x131 at 0x7F1F2F75AD10>"
            ]
          },
          "metadata": {}
        },
        {
          "output_type": "stream",
          "name": "stdout",
          "text": [
            "pyriform_39.png\n"
          ]
        },
        {
          "output_type": "display_data",
          "data": {
            "image/png": "[encoded data removed]",
            "text/plain": [
              "<PIL.Image.Image image mode=RGB size=131x131 at 0x7F1F2F5DD950>"
            ]
          },
          "metadata": {}
        },
        {
          "output_type": "stream",
          "name": "stdout",
          "text": [
            "pyriform_18.png\n"
          ]
        },
        {
          "output_type": "display_data",
          "data": {
            "image/png": "[encoded data removed]",
            "text/plain": [
              "<PIL.Image.Image image mode=RGB size=131x131 at 0x7F1F2F6C9610>"
            ]
          },
          "metadata": {}
        },
        {
          "output_type": "stream",
          "name": "stdout",
          "text": [
            "pyriform_10.png\n"
          ]
        },
        {
          "output_type": "display_data",
          "data": {
            "image/png": "[encoded data removed]",
            "text/plain": [
              "<PIL.Image.Image image mode=RGB size=131x131 at 0x7F1F30065310>"
            ]
          },
          "metadata": {}
        },
        {
          "output_type": "stream",
          "name": "stdout",
          "text": [
            "pyriform_44.png\n"
          ]
        },
        {
          "output_type": "display_data",
          "data": {
            "image/png": "[encoded data removed]",
            "text/plain": [
              "<PIL.Image.Image image mode=RGB size=131x131 at 0x7F1F2F769B90>"
            ]
          },
          "metadata": {}
        },
        {
          "output_type": "stream",
          "name": "stdout",
          "text": [
            "pyriform_12.png\n"
          ]
        },
        {
          "output_type": "display_data",
          "data": {
            "image/png": "[encoded data removed]",
            "text/plain": [
              "<PIL.Image.Image image mode=RGB size=131x131 at 0x7F1F2FF88150>"
            ]
          },
          "metadata": {}
        },
        {
          "output_type": "stream",
          "name": "stdout",
          "text": [
            "pyriform_33.png\n"
          ]
        },
        {
          "output_type": "display_data",
          "data": {
            "image/png": "[encoded data removed]",
            "text/plain": [
              "<PIL.Image.Image image mode=RGB size=131x131 at 0x7F1F2FA887D0>"
            ]
          },
          "metadata": {}
        },
        {
          "output_type": "stream",
          "name": "stdout",
          "text": [
            "pyriform_26.png\n"
          ]
        },
        {
          "output_type": "display_data",
          "data": {
            "image/png": "[encoded data removed]",
            "text/plain": [
              "<PIL.Image.Image image mode=RGB size=131x131 at 0x7F1F2F4A8B90>"
            ]
          },
          "metadata": {}
        },
        {
          "output_type": "stream",
          "name": "stdout",
          "text": [
            "pyriform_29.png\n"
          ]
        },
        {
          "output_type": "display_data",
          "data": {
            "image/png": "[encoded data removed]",
            "text/plain": [
              "<PIL.Image.Image image mode=RGB size=131x131 at 0x7F1F2F9A5550>"
            ]
          },
          "metadata": {}
        },
        {
          "output_type": "stream",
          "name": "stdout",
          "text": [
            "pyriform_28.png\n"
          ]
        },
        {
          "output_type": "display_data",
          "data": {
            "image/png": "[encoded data removed]",
            "text/plain": [
              "<PIL.Image.Image image mode=RGB size=131x131 at 0x7F1F2F5DAF10>"
            ]
          },
          "metadata": {}
        },
        {
          "output_type": "stream",
          "name": "stdout",
          "text": [
            "pyriform_51.png\n"
          ]
        },
        {
          "output_type": "display_data",
          "data": {
            "image/png": "[encoded data removed]",
            "text/plain": [
              "<PIL.Image.Image image mode=RGB size=131x131 at 0x7F1F2F668810>"
            ]
          },
          "metadata": {}
        },
        {
          "output_type": "stream",
          "name": "stdout",
          "text": [
            "pyriform_2.png\n"
          ]
        },
        {
          "output_type": "display_data",
          "data": {
            "image/png": "[encoded data removed]",
            "text/plain": [
              "<PIL.Image.Image image mode=RGB size=131x131 at 0x7F1F2F416850>"
            ]
          },
          "metadata": {}
        },
        {
          "output_type": "stream",
          "name": "stdout",
          "text": [
            "pyriform_9.png\n"
          ]
        },
        {
          "output_type": "display_data",
          "data": {
            "image/png": "[encoded data removed]",
            "text/plain": [
              "<PIL.Image.Image image mode=RGB size=131x131 at 0x7F1F2F3E9890>"
            ]
          },
          "metadata": {}
        },
        {
          "output_type": "stream",
          "name": "stdout",
          "text": [
            "pyriform_56.png\n"
          ]
        },
        {
          "output_type": "display_data",
          "data": {
            "image/png": "[encoded data removed]",
            "text/plain": [
              "<PIL.Image.Image image mode=RGB size=131x131 at 0x7F1F2F346D50>"
            ]
          },
          "metadata": {}
        },
        {
          "output_type": "stream",
          "name": "stdout",
          "text": [
            "pyriform_46.png\n"
          ]
        },
        {
          "output_type": "display_data",
          "data": {
            "image/png": "[encoded data removed]",
            "text/plain": [
              "<PIL.Image.Image image mode=RGB size=131x131 at 0x7F1F2F47D850>"
            ]
          },
          "metadata": {}
        },
        {
          "output_type": "stream",
          "name": "stdout",
          "text": [
            "pyriform_53.png\n"
          ]
        },
        {
          "output_type": "display_data",
          "data": {
            "image/png": "[encoded data removed]",
            "text/plain": [
              "<PIL.Image.Image image mode=RGB size=131x131 at 0x7F1F2F314790>"
            ]
          },
          "metadata": {}
        },
        {
          "output_type": "stream",
          "name": "stdout",
          "text": [
            "pyriform_35.png\n"
          ]
        },
        {
          "output_type": "display_data",
          "data": {
            "image/png": "[encoded data removed]",
            "text/plain": [
              "<PIL.Image.Image image mode=RGB size=131x131 at 0x7F1F2C118910>"
            ]
          },
          "metadata": {}
        },
        {
          "output_type": "stream",
          "name": "stdout",
          "text": [
            "pyriform_48.png\n"
          ]
        },
        {
          "output_type": "display_data",
          "data": {
            "image/png": "[encoded data removed]",
            "text/plain": [
              "<PIL.Image.Image image mode=RGB size=131x131 at 0x7F1F2BF0D310>"
            ]
          },
          "metadata": {}
        },
        {
          "output_type": "stream",
          "name": "stdout",
          "text": [
            "pyriform_52.png\n"
          ]
        },
        {
          "output_type": "display_data",
          "data": {
            "image/png": "[encoded data removed]",
            "text/plain": [
              "<PIL.Image.Image image mode=RGB size=131x131 at 0x7F1F2C007A50>"
            ]
          },
          "metadata": {}
        },
        {
          "output_type": "stream",
          "name": "stdout",
          "text": [
            "pyriform_31.png\n"
          ]
        },
        {
          "output_type": "display_data",
          "data": {
            "image/png": "[encoded data removed]",
            "text/plain": [
              "<PIL.Image.Image image mode=RGB size=131x131 at 0x7F1F2C148A90>"
            ]
          },
          "metadata": {}
        },
        {
          "output_type": "stream",
          "name": "stdout",
          "text": [
            "pyriform_30.png\n"
          ]
        },
        {
          "output_type": "display_data",
          "data": {
            "image/png": "[encoded data removed]",
            "text/plain": [
              "<PIL.Image.Image image mode=RGB size=131x131 at 0x7F1F2BF2D210>"
            ]
          },
          "metadata": {}
        },
        {
          "output_type": "stream",
          "name": "stdout",
          "text": [
            "pyriform_32.png\n"
          ]
        },
        {
          "output_type": "display_data",
          "data": {
            "image/png": "[encoded data removed]",
            "text/plain": [
              "<PIL.Image.Image image mode=RGB size=131x131 at 0x7F1F2F9B3C50>"
            ]
          },
          "metadata": {}
        },
        {
          "output_type": "stream",
          "name": "stdout",
          "text": [
            "pyriform_38.png\n"
          ]
        },
        {
          "output_type": "display_data",
          "data": {
            "image/png": "[encoded data removed]",
            "text/plain": [
              "<PIL.Image.Image image mode=RGB size=131x131 at 0x7F1F2F70F9D0>"
            ]
          },
          "metadata": {}
        },
        {
          "output_type": "stream",
          "name": "stdout",
          "text": [
            "pyriform_8.png\n"
          ]
        },
        {
          "output_type": "display_data",
          "data": {
            "image/png": "[encoded data removed]",
            "text/plain": [
              "<PIL.Image.Image image mode=RGB size=131x131 at 0x7F1F300CDCD0>"
            ]
          },
          "metadata": {}
        },
        {
          "output_type": "stream",
          "name": "stdout",
          "text": [
            "pyriform_21.png\n"
          ]
        },
        {
          "output_type": "display_data",
          "data": {
            "image/png": "[encoded data removed]",
            "text/plain": [
              "<PIL.Image.Image image mode=RGB size=131x131 at 0x7F1F2F871190>"
            ]
          },
          "metadata": {}
        },
        {
          "output_type": "stream",
          "name": "stdout",
          "text": [
            "pyriform_23.png\n"
          ]
        },
        {
          "output_type": "display_data",
          "data": {
            "image/png": "[encoded data removed]",
            "text/plain": [
              "<PIL.Image.Image image mode=RGB size=131x131 at 0x7F1F2FF6BDD0>"
            ]
          },
          "metadata": {}
        },
        {
          "output_type": "stream",
          "name": "stdout",
          "text": [
            "pyriform_14.png\n"
          ]
        },
        {
          "output_type": "display_data",
          "data": {
            "image/png": "[encoded data removed]",
            "text/plain": [
              "<PIL.Image.Image image mode=RGB size=131x131 at 0x7F1F2F6707D0>"
            ]
          },
          "metadata": {}
        },
        {
          "output_type": "stream",
          "name": "stdout",
          "text": [
            "pyriform_49.png\n"
          ]
        },
        {
          "output_type": "display_data",
          "data": {
            "image/png": "[encoded data removed]",
            "text/plain": [
              "<PIL.Image.Image image mode=RGB size=131x131 at 0x7F1F2F5B1490>"
            ]
          },
          "metadata": {}
        },
        {
          "output_type": "stream",
          "name": "stdout",
          "text": [
            "pyriform_0.png\n"
          ]
        },
        {
          "output_type": "display_data",
          "data": {
            "image/png": "[encoded data removed]",
            "text/plain": [
              "<PIL.Image.Image image mode=RGB size=131x131 at 0x7F1F300DC310>"
            ]
          },
          "metadata": {}
        },
        {
          "output_type": "stream",
          "name": "stdout",
          "text": [
            "pyriform_11.png\n"
          ]
        },
        {
          "output_type": "display_data",
          "data": {
            "image/png": "[encoded data removed]",
            "text/plain": [
              "<PIL.Image.Image image mode=RGB size=131x131 at 0x7F1F2C118C10>"
            ]
          },
          "metadata": {}
        },
        {
          "output_type": "stream",
          "name": "stdout",
          "text": [
            "pyriform_19.png\n"
          ]
        },
        {
          "output_type": "display_data",
          "data": {
            "image/png": "[encoded data removed]",
            "text/plain": [
              "<PIL.Image.Image image mode=RGB size=131x131 at 0x7F1F2F7A6250>"
            ]
          },
          "metadata": {}
        },
        {
          "output_type": "stream",
          "name": "stdout",
          "text": [
            "pyriform_43.png\n"
          ]
        },
        {
          "output_type": "display_data",
          "data": {
            "image/png": "[encoded data removed]",
            "text/plain": [
              "<PIL.Image.Image image mode=RGB size=131x131 at 0x7F1F2FD24950>"
            ]
          },
          "metadata": {}
        },
        {
          "output_type": "stream",
          "name": "stdout",
          "text": [
            "pyriform_40.png\n"
          ]
        },
        {
          "output_type": "display_data",
          "data": {
            "image/png": "[encoded data removed]",
            "text/plain": [
              "<PIL.Image.Image image mode=RGB size=131x131 at 0x7F1F2F47E990>"
            ]
          },
          "metadata": {}
        },
        {
          "output_type": "stream",
          "name": "stdout",
          "text": [
            "pyriform_13.png\n"
          ]
        },
        {
          "output_type": "display_data",
          "data": {
            "image/png": "[encoded data removed]",
            "text/plain": [
              "<PIL.Image.Image image mode=RGB size=131x131 at 0x7F1F2F329490>"
            ]
          },
          "metadata": {}
        },
        {
          "output_type": "stream",
          "name": "stdout",
          "text": [
            "pyriform_24.png\n"
          ]
        },
        {
          "output_type": "display_data",
          "data": {
            "image/png": "[encoded data removed]",
            "text/plain": [
              "<PIL.Image.Image image mode=RGB size=131x131 at 0x7F1F2F53F490>"
            ]
          },
          "metadata": {}
        },
        {
          "output_type": "stream",
          "name": "stdout",
          "text": [
            "pyriform_34.png\n"
          ]
        },
        {
          "output_type": "display_data",
          "data": {
            "image/png": "[encoded data removed]",
            "text/plain": [
              "<PIL.Image.Image image mode=RGB size=131x131 at 0x7F1F2BFF6890>"
            ]
          },
          "metadata": {}
        },
        {
          "output_type": "stream",
          "name": "stdout",
          "text": [
            "pyriform_27.png\n"
          ]
        },
        {
          "output_type": "display_data",
          "data": {
            "image/png": "[encoded data removed]",
            "text/plain": [
              "<PIL.Image.Image image mode=RGB size=131x131 at 0x7F1F2C0F1690>"
            ]
          },
          "metadata": {}
        }
      ]
    },
    {
      "cell_type": "code",
      "metadata": {
        "colab": {
          "base_uri": "https://localhost:8080/"
        },
        "id": "f-E1lg5X2eHy",
        "outputId": "cd30512c-5420-43a7-f121-b866e492ae0c"
      },
      "source": [
        "!zip -r '/content/pyrioform/wyniki/\"wynikitapered\"' '/content/pyrioform/wyniki'"
      ],
      "execution_count": null,
      "outputs": [
        {
          "output_type": "stream",
          "name": "stdout",
          "text": [
            "  adding: content/pyrioform/wyniki/ (stored 0%)\n",
            "  adding: content/pyrioform/wyniki/pyriform_39.png.png (deflated 29%)\n",
            "  adding: content/pyrioform/wyniki/pyriform_54.png.png (deflated 33%)\n",
            "  adding: content/pyrioform/wyniki/pyriform_22.png.png (deflated 32%)\n",
            "  adding: content/pyrioform/wyniki/pyriform_53.png.png (deflated 34%)\n",
            "  adding: content/pyrioform/wyniki/pyriform_38.png.png (deflated 24%)\n",
            "  adding: content/pyrioform/wyniki/pyriform_27.png.png (deflated 34%)\n",
            "  adding: content/pyrioform/wyniki/pyriform_21.png.png (deflated 39%)\n",
            "  adding: content/pyrioform/wyniki/pyriform_28.png.png (deflated 26%)\n",
            "  adding: content/pyrioform/wyniki/pyriform_33.png.png (deflated 37%)\n",
            "  adding: content/pyrioform/wyniki/pyriform_32.png.png (deflated 39%)\n",
            "  adding: content/pyrioform/wyniki/pyriform_10.png.png (deflated 37%)\n",
            "  adding: content/pyrioform/wyniki/pyriform_3.png.png (deflated 27%)\n",
            "  adding: content/pyrioform/wyniki/pyriform_17.png.png (deflated 30%)\n",
            "  adding: content/pyrioform/wyniki/pyriform_46.png.png (deflated 36%)\n",
            "  adding: content/pyrioform/wyniki/pyriform_7.png.png (deflated 29%)\n",
            "  adding: content/pyrioform/wyniki/pyriform_9.png.png (deflated 28%)\n",
            "  adding: content/pyrioform/wyniki/pyriform_25.png.png (deflated 40%)\n",
            "  adding: content/pyrioform/wyniki/pyriform_18.png.png (deflated 28%)\n",
            "  adding: content/pyrioform/wyniki/pyriform_36.png.png (deflated 29%)\n",
            "  adding: content/pyrioform/wyniki/pyriform_30.png.png (deflated 30%)\n",
            "  adding: content/pyrioform/wyniki/pyriform_56.png.png (deflated 31%)\n",
            "  adding: content/pyrioform/wyniki/pyriform_42.png.png (deflated 30%)\n",
            "  adding: content/pyrioform/wyniki/pyriform_47.png.png (deflated 28%)\n",
            "  adding: content/pyrioform/wyniki/pyriform_37.png.png (deflated 33%)\n",
            "  adding: content/pyrioform/wyniki/pyriform_16.png.png (deflated 36%)\n",
            "  adding: content/pyrioform/wyniki/pyriform_52.png.png (deflated 39%)\n",
            "  adding: content/pyrioform/wyniki/pyriform_35.png.png (deflated 29%)\n",
            "  adding: content/pyrioform/wyniki/pyriform_8.png.png (deflated 41%)\n",
            "  adding: content/pyrioform/wyniki/pyriform_0.png.png (deflated 27%)\n",
            "  adding: content/pyrioform/wyniki/pyriform_48.png.png (deflated 53%)\n",
            "  adding: content/pyrioform/wyniki/pyriform_31.png.png (deflated 27%)\n",
            "  adding: content/pyrioform/wyniki/pyriform_11.png.png (deflated 38%)\n",
            "  adding: content/pyrioform/wyniki/pyriform_26.png.png (deflated 26%)\n",
            "  adding: content/pyrioform/wyniki/pyriform_24.png.png (deflated 44%)\n",
            "  adding: content/pyrioform/wyniki/pyriform_43.png.png (deflated 52%)\n",
            "  adding: content/pyrioform/wyniki/pyriform_44.png.png (deflated 33%)\n",
            "  adding: content/pyrioform/wyniki/pyriform_34.png.png (deflated 30%)\n",
            "  adding: content/pyrioform/wyniki/pyriform_6.png.png (deflated 38%)\n",
            "  adding: content/pyrioform/wyniki/pyriform_2.png.png (deflated 31%)\n",
            "  adding: content/pyrioform/wyniki/pyriform_40.png.png (deflated 37%)\n",
            "  adding: content/pyrioform/wyniki/pyriform_1.png.png (deflated 41%)\n",
            "  adding: content/pyrioform/wyniki/pyriform_29.png.png (deflated 39%)\n",
            "  adding: content/pyrioform/wyniki/pyriform_19.png.png (deflated 30%)\n",
            "  adding: content/pyrioform/wyniki/pyriform_55.png.png (deflated 32%)\n",
            "  adding: content/pyrioform/wyniki/pyriform_41.png.png (deflated 27%)\n",
            "  adding: content/pyrioform/wyniki/pyriform_13.png.png (deflated 35%)\n",
            "  adding: content/pyrioform/wyniki/pyriform_51.png.png (deflated 41%)\n",
            "  adding: content/pyrioform/wyniki/pyriform_12.png.png (deflated 39%)\n",
            "  adding: content/pyrioform/wyniki/pyriform_14.png.png (deflated 34%)\n",
            "  adding: content/pyrioform/wyniki/pyriform_49.png.png (deflated 36%)\n",
            "  adding: content/pyrioform/wyniki/pyriform_20.png.png (deflated 25%)\n",
            "  adding: content/pyrioform/wyniki/pyriform_4.png.png (deflated 29%)\n",
            "  adding: content/pyrioform/wyniki/pyriform_23.png.png (deflated 31%)\n",
            "  adding: content/pyrioform/wyniki/pyriform_15.png.png (deflated 31%)\n",
            "  adding: content/pyrioform/wyniki/pyriform_5.png.png (deflated 30%)\n",
            "  adding: content/pyrioform/wyniki/pyriform_45.png.png (deflated 28%)\n",
            "  adding: content/pyrioform/wyniki/pyriform_50.png.png (deflated 38%)\n"
          ]
        }
      ]
    },
    {
      "cell_type": "code",
      "metadata": {
        "colab": {
          "base_uri": "https://localhost:8080/"
        },
        "id": "-mIt5ftWWajg",
        "outputId": "ff752fc7-aeba-4b8b-e156-2a5fa8e13908"
      },
      "source": [
        "from google.colab import drive\n",
        "drive.mount('/content/drive')"
      ],
      "execution_count": null,
      "outputs": [
        {
          "name": "stdout",
          "output_type": "stream",
          "text": [
            "Mounted at /content/drive\n"
          ]
        }
      ]
    },
    {
      "cell_type": "code",
      "metadata": {
        "colab": {
          "base_uri": "https://localhost:8080/"
        },
        "id": "q7mtyYbQVp2I",
        "outputId": "1701407b-9515-4673-e0f5-b9ed3c2af9a6"
      },
      "source": [
        "from google.colab import drive\n",
        "drive.mount('gdrive')\n",
        "# !cp /content/output/* gdrive/'My Drive'/output/*\n",
        "!cp /content/output/model_final.pth gdrive/'My Drive'/model_final.pth\n",
        "!cp /content/output/instances_predictions.pth gdrive/'My Drive'/instances_predictions.pth\n",
        "!cp /content/output/coco_instances_results.json gdrive/'My Drive'/coco_instances_results.json\n",
        "!cp /content/output/events.out.tfevents.1637848179.a15d66e95ab2.458.0 gdrive/'My Drive'/events.out.tfevents.1637848179.a15d66e95ab2.458.0\n",
        "\n",
        "!cp /content/output/last_checkpoint gdrive/'My Drive'/last_checkpoint\n",
        "!cp /content/output/metrics.json gdrive/'My Drive'/metrics.json\n",
        "!cp /content/output/model_0004999.pth gdrive/'My Drive'/model_0004999.pth.json\n",
        "\n"
      ],
      "execution_count": null,
      "outputs": [
        {
          "name": "stdout",
          "output_type": "stream",
          "text": [
            "Drive already mounted at gdrive; to attempt to forcibly remount, call drive.mount(\"gdrive\", force_remount=True).\n"
          ]
        }
      ]
    }
  ]
}